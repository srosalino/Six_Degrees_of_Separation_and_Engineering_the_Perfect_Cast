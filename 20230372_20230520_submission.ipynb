{
 "cells": [
  {
   "cell_type": "markdown",
   "metadata": {
    "application/vnd.databricks.v1+cell": {
     "cellMetadata": {},
     "inputWidgets": {},
     "nuid": "24600a6e-84d7-4ff9-b591-7b138fc4f54c",
     "showTitle": false,
     "title": ""
    }
   },
   "source": [
    "# Six Degrees of Kevin Bacon\n",
    "**Introduction** - Six Degrees of Kevin Bacon is a game based on the \"six degrees of separation\"\n",
    "concept, which posits that any two people on Earth are six or fewer acquaintance links apart. Movie\n",
    "buffs challenge each other to find the shortest path between an arbitrary actor and prolific actor\n",
    "Kevin Bacon. It rests on the assumption that anyone involved in the film industry can be linked\n",
    "through their film roles to Bacon within six steps.\n",
    "The analysis of social networks can be a computationally intensive task, especially when dealing with\n",
    "large volumes of data. It is also a challenging problem to devise a correct methodology to infer an\n",
    "informative social network structure. Here, we will analyze a social network of actors and actresses\n",
    "that co-participated in movies. We will do some simple descriptive analysis, and in the end try to\n",
    "relate an actor/actress’s position in the social network with the success of the movies in which they\n",
    "participate.\n",
    "\n",
    "#### Rules & Notes - Please take your time to read the following points:\n",
    "\n",
    "1. The submission deadline shall be set for the 10th of June at 23:59.\n",
    "2. It is acceptable that you **discuss** with your colleagues different approaches to solve each step of the problem set. You are responsible for writing your own code, and analysing the results. Clear cases of cheating will be penalized with 0 points in this assignment;\n",
    "3. After review of your submission files, and before a mark is attributed, you might be called to orally defend your submission;\n",
    "4. You will be scored first and foremost by the number of correct answers, secondly by the logic used in the trying to approach each step of the problem set;\n",
    "5. Consider skipping questions that you are stuck in, and get back to them later;\n",
    "6. Expect computations to take a few minutes to finish in some of the steps.\n",
    "7. **IMPORTANT** It is expected you have developed skills beyond writting SQL queries. Any question where you directly write a SQL query (then for example create a temporary table and use spark.sql to pass the query) will receive a 25% penalty. Using the Spark syntax (for example dataframe.select(\"\\*\").where(\"conditions\")) is acceptable and does not incur this penalty. Comment your code in a reasonable fashion.\n",
    "8. **Questions** – Any questions about this assignment should be posted in the Forum@Moodle. The last class will be an open office session for anyone with questions concerning the assignment. \n",
    "9. **Delivery** - To fulfil this activity you will have to upload the following materials to Moodle:\n",
    "    1. An exported IPython notebook. The notebook should be solved (have results displayed), but should contain all neccesary code so that when the notebook is run in databricks it should also replicate these results. This means the all data downloading and processing should be done in this notebook. It is also important you clearly indicate where your final answer to each question is when you are using multiple cells (for example you print \"my final anwser is\" before your answer or use cell comments). Please make sure to name your file in the following way: *[student_number1]_[student_number2]_submission.ipynb*. As an example: *19740001_197400010_submission.ipynb*\n",
    "    2. **Delivery** - You will also need to provide a signed statement of authorship, which is present in the last page;\n",
    "    3. It is recommended you read the whole assignment before starting.\n",
    "    4. You can add as many cells as you like to answer the questions.\n",
    "    5. You can make use of caching or persisting your RDDs or Dataframes, this may speed up performance.\n",
    "    6. If you have trouble with graphframes in databricks (specifically the import statement) you need to make sure the graphframes package is installed on the cluster you are running. If you click home on the left, then click on the graphframes library, from where you can install the package on your cluster (check the graphframes checkbox and click install). Another installation option is using the JAR available on Moodle with the graphframes library.\n",
    "10. **Note**: By including the name and student number of each group member  in the submission notebook, this will be considered as a declaration of authorship.\n",
    "\n",
    "#### Data Sources and Description\n",
    "We will use data from IMDB. You can download raw datafiles\n",
    "from https://datasets.imdbws.com. Note that the files are tab delimited (.tsv) You can find a\n",
    "description of the each datafile in https://www.imdb.com/interfaces/"
   ]
  },
  {
   "cell_type": "markdown",
   "metadata": {
    "application/vnd.databricks.v1+cell": {
     "cellMetadata": {},
     "inputWidgets": {},
     "nuid": "39827279-2cb4-46ad-a17b-6d10a9c574f9",
     "showTitle": false,
     "title": ""
    }
   },
   "source": [
    "## Questions\n",
    "### Data loading and preperation\n",
    "Review the file descriptions and load the necessary data onto your databricks cluser and into spark dataframes. You will need to use shell commands to download the data, unzip the data, load the data into spark. Note that the data might require parsing and preprocessing to be ready for the questions below.\n",
    "\n",
    "**Hints** You can use 'gunzip' to unzip the .tz files. The data files will then be tab seperated (.tsv), which you can load into a dataframe using the tab seperated option instead of the comma seperated option we have typically used in class: `.option(“sep”,”\\t”)`"
   ]
  },
  {
   "cell_type": "code",
   "execution_count": 0,
   "metadata": {
    "application/vnd.databricks.v1+cell": {
     "cellMetadata": {
      "byteLimit": 2048000,
      "rowLimit": 10000
     },
     "inputWidgets": {},
     "nuid": "0bf131a2-f11b-4271-87c5-a6e04208759c",
     "showTitle": false,
     "title": ""
    }
   },
   "outputs": [],
   "source": [
    "# Import the necessary libraries and configurations\n",
    "from pyspark.sql.functions import col, split, when, size, explode, collect_list, desc, collect_set, sum, avg, array_contains\n",
    "from pyspark.sql.types import StructType, StructField, StringType, ArrayType, IntegerType, FloatType\n",
    "from pyspark.sql import SparkSession, Row\n",
    "\n",
    "from graphframes import GraphFrame\n",
    "\n",
    "from itertools import combinations\n",
    "\n",
    "from collections import Counter\n",
    "\n",
    "from pyspark.ml import Pipeline\n",
    "from pyspark.ml.feature import VectorAssembler, MinMaxScaler\n",
    "from pyspark.ml.regression import LinearRegression, DecisionTreeRegressor, RandomForestRegressor\n",
    "from pyspark.ml.evaluation import RegressionEvaluator\n",
    "from pyspark.ml.linalg import Vectors\n",
    "from pyspark.ml.tuning import ParamGridBuilder, CrossValidator\n",
    "\n",
    "import matplotlib.pyplot as plt\n",
    "import sklearn\n",
    "\n",
    "from operator import add\n",
    "from statistics import mean"
   ]
  },
  {
   "cell_type": "markdown",
   "metadata": {
    "application/vnd.databricks.v1+cell": {
     "cellMetadata": {},
     "inputWidgets": {},
     "nuid": "a4c52c06-62dd-4cec-b36e-c90ed2419034",
     "showTitle": false,
     "title": ""
    }
   },
   "source": [
    "#### Data Loading"
   ]
  },
  {
   "cell_type": "code",
   "execution_count": 0,
   "metadata": {
    "application/vnd.databricks.v1+cell": {
     "cellMetadata": {
      "byteLimit": 2048000,
      "rowLimit": 10000
     },
     "inputWidgets": {},
     "nuid": "16c492b5-78aa-40ad-aa60-5350c886ac29",
     "showTitle": false,
     "title": ""
    }
   },
   "outputs": [
    {
     "output_type": "stream",
     "name": "stdout",
     "output_type": "stream",
     "text": [
      "--2024-06-10 09:19:44--  https://datasets.imdbws.com/name.basics.tsv.gz\r\nResolving datasets.imdbws.com (datasets.imdbws.com)... 18.245.253.85, 18.245.253.117, 18.245.253.55, ...\r\nConnecting to datasets.imdbws.com (datasets.imdbws.com)|18.245.253.85|:443... connected.\r\nHTTP request sent, awaiting response... 200 OK\r\nLength: 267679080 (255M) [binary/octet-stream]\r\nSaving to: ‘/tmp/name.basics.tsv.gz’\r\n\r\n\r/tmp/name.basics.ts   0%[                    ]       0  --.-KB/s               \r/tmp/name.basics.ts  20%[===>                ]  51.90M   260MB/s               \r/tmp/name.basics.ts  44%[=======>            ] 114.47M   286MB/s               \r/tmp/name.basics.ts  68%[============>       ] 175.08M   292MB/s               \r/tmp/name.basics.ts  93%[=================>  ] 238.55M   298MB/s               \r/tmp/name.basics.ts 100%[===================>] 255.28M   299MB/s    in 0.9s    \r\n\r\n2024-06-10 09:19:45 (299 MB/s) - ‘/tmp/name.basics.tsv.gz’ saved [267679080/267679080]\r\n\r\n--2024-06-10 09:20:00--  https://datasets.imdbws.com/title.akas.tsv.gz\r\nResolving datasets.imdbws.com (datasets.imdbws.com)... 18.245.253.70, 18.245.253.85, 18.245.253.117, ...\r\nConnecting to datasets.imdbws.com (datasets.imdbws.com)|18.245.253.70|:443... connected.\r\nHTTP request sent, awaiting response... 200 OK\r\nLength: 420964024 (401M) [binary/octet-stream]\r\nSaving to: ‘/tmp/title.akas.tsv.gz’\r\n\r\n\r/tmp/title.akas.tsv   0%[                    ]       0  --.-KB/s               \r/tmp/title.akas.tsv  14%[=>                  ]  58.50M   293MB/s               \r/tmp/title.akas.tsv  29%[====>               ] 117.74M   294MB/s               \r/tmp/title.akas.tsv  43%[=======>            ] 173.46M   289MB/s               \r/tmp/title.akas.tsv  57%[==========>         ] 230.51M   288MB/s               \r/tmp/title.akas.tsv  71%[=============>      ] 285.23M   285MB/s               \r/tmp/title.akas.tsv  82%[===============>    ] 330.33M   275MB/s               \r/tmp/title.akas.tsv  92%[=================>  ] 372.24M   266MB/s               \r/tmp/title.akas.tsv 100%[===================>] 401.46M   262MB/s    in 1.5s    \r\n\r\n2024-06-10 09:20:02 (262 MB/s) - ‘/tmp/title.akas.tsv.gz’ saved [420964024/420964024]\r\n\r\n--2024-06-10 09:20:36--  https://datasets.imdbws.com/title.basics.tsv.gz\r\nResolving datasets.imdbws.com (datasets.imdbws.com)... 18.245.253.55, 18.245.253.70, 18.245.253.85, ...\r\nConnecting to datasets.imdbws.com (datasets.imdbws.com)|18.245.253.55|:443... connected.\r\nHTTP request sent, awaiting response... 200 OK\r\nLength: 190014612 (181M) [binary/octet-stream]\r\nSaving to: ‘/tmp/title.basics.tsv.gz’\r\n\r\n\r/tmp/title.basics.t   0%[                    ]       0  --.-KB/s               \r/tmp/title.basics.t  26%[====>               ]  47.23M   236MB/s               \r/tmp/title.basics.t  57%[==========>         ] 104.99M   262MB/s               \r/tmp/title.basics.t  91%[=================>  ] 165.73M   276MB/s               \r/tmp/title.basics.t 100%[===================>] 181.21M   279MB/s    in 0.6s    \r\n\r\n2024-06-10 09:20:36 (279 MB/s) - ‘/tmp/title.basics.tsv.gz’ saved [190014612/190014612]\r\n\r\n--2024-06-10 09:20:51--  https://datasets.imdbws.com/title.crew.tsv.gz\r\nResolving datasets.imdbws.com (datasets.imdbws.com)... 18.245.253.85, 18.245.253.117, 18.245.253.55, ...\r\nConnecting to datasets.imdbws.com (datasets.imdbws.com)|18.245.253.85|:443... connected.\r\nHTTP request sent, awaiting response... 200 OK\r\nLength: 70969433 (68M) [binary/octet-stream]\r\nSaving to: ‘/tmp/title.crew.tsv.gz’\r\n\r\n\r/tmp/title.crew.tsv   0%[                    ]       0  --.-KB/s               \r/tmp/title.crew.tsv  67%[============>       ]  45.98M   230MB/s               \r/tmp/title.crew.tsv 100%[===================>]  67.68M   246MB/s    in 0.3s    \r\n\r\n2024-06-10 09:20:51 (246 MB/s) - ‘/tmp/title.crew.tsv.gz’ saved [70969433/70969433]\r\n\r\n--2024-06-10 09:20:57--  https://datasets.imdbws.com/title.episode.tsv.gz\r\nResolving datasets.imdbws.com (datasets.imdbws.com)... 18.245.253.70, 18.245.253.85, 18.245.253.117, ...\r\nConnecting to datasets.imdbws.com (datasets.imdbws.com)|18.245.253.70|:443... connected.\r\nHTTP request sent, awaiting response... 200 OK\r\nLength: 45564026 (43M) [binary/octet-stream]\r\nSaving to: ‘/tmp/title.episode.tsv.gz’\r\n\r\n\r          /tmp/titl   0%[                    ]       0  --.-KB/s               \r/tmp/title.episode. 100%[===================>]  43.45M   246MB/s    in 0.2s    \r\n\r\n2024-06-10 09:20:57 (246 MB/s) - ‘/tmp/title.episode.tsv.gz’ saved [45564026/45564026]\r\n\r\n--2024-06-10 09:21:01--  https://datasets.imdbws.com/title.principals.tsv.gz\r\nResolving datasets.imdbws.com (datasets.imdbws.com)... 18.245.253.55, 18.245.253.70, 18.245.253.85, ...\r\nConnecting to datasets.imdbws.com (datasets.imdbws.com)|18.245.253.55|:443... connected.\r\nHTTP request sent, awaiting response... 200 OK\r\nLength: 668530563 (638M) [binary/octet-stream]\r\nSaving to: ‘/tmp/title.principals.tsv.gz’\r\n\r\n\r          /tmp/titl   0%[                    ]       0  --.-KB/s               \r         /tmp/title   7%[>                   ]  47.08M   235MB/s               \r        /tmp/title.  16%[==>                 ] 105.98M   265MB/s               \r       /tmp/title.p  25%[====>               ] 162.05M   270MB/s               \r      /tmp/title.pr  33%[=====>              ] 216.56M   271MB/s               \r     /tmp/title.pri  42%[=======>            ] 269.04M   269MB/s               \r    /tmp/title.prin  50%[=========>          ] 322.02M   268MB/s               \r   /tmp/title.princ  58%[==========>         ] 373.31M   267MB/s               \r  /tmp/title.princi  66%[============>       ] 425.07M   266MB/s               \r /tmp/title.princip  75%[==============>     ] 481.26M   267MB/s               \r/tmp/title.principa  84%[===============>    ] 540.93M   270MB/s               \rtmp/title.principal  93%[=================>  ] 596.67M   271MB/s               \r/tmp/title.principa 100%[===================>] 637.56M   271MB/s    in 2.4s    \r\n\r\n2024-06-10 09:21:03 (271 MB/s) - ‘/tmp/title.principals.tsv.gz’ saved [668530563/668530563]\r\n\r\n--2024-06-10 09:22:02--  https://datasets.imdbws.com/title.ratings.tsv.gz\r\nResolving datasets.imdbws.com (datasets.imdbws.com)... 18.245.253.85, 18.245.253.117, 18.245.253.55, ...\r\nConnecting to datasets.imdbws.com (datasets.imdbws.com)|18.245.253.85|:443... connected.\r\nHTTP request sent, awaiting response... 200 OK\r\nLength: 7262735 (6.9M) [binary/octet-stream]\r\nSaving to: ‘/tmp/title.ratings.tsv.gz’\r\n\r\n\r          /tmp/titl   0%[                    ]       0  --.-KB/s               \r/tmp/title.ratings. 100%[===================>]   6.93M  --.-KB/s    in 0.06s   \r\n\r\n2024-06-10 09:22:02 (107 MB/s) - ‘/tmp/title.ratings.tsv.gz’ saved [7262735/7262735]\r\n\r\n"
     ]
    },
    {
     "output_type": "execute_result",
     "data": {
      "text/plain": [
       "'done'"
      ]
     },
     "execution_count": 178,
     "metadata": {},
     "output_type": "execute_result"
    }
   ],
   "source": [
    "def download_datasets(urls):\n",
    "    \"\"\"\n",
    "    Downloads, unzips, and moves datasets from the specified URLs to the Databricks FileStore.\n",
    "\n",
    "    Parameters:\n",
    "    urls (list of str): List of URLs to download datasets from.\n",
    "\n",
    "    Returns:\n",
    "    str: A confirmation message once all datasets are processed.\n",
    "    \"\"\"\n",
    "    for url in urls:\n",
    "\n",
    "        # Step 1: Download the dataset using wget\n",
    "        download_cmd = f\"wget '{url}' -O /tmp/{url.split('/')[-1]}\"\n",
    "        # Execute the download command\n",
    "        !{download_cmd}\n",
    "\n",
    "        # Step 2: Unzip the dataset using gunzip\n",
    "        unzip_cmd = f\"gunzip -f /tmp/{url.split('/')[-1]}\"\n",
    "        # Execute the unzip command\n",
    "        !{unzip_cmd}\n",
    "\n",
    "        # Step 3: Move the unzipped file to the Databricks FileStore\n",
    "        filename = url.split('/')[-1].replace('.gz', '')\n",
    "        # Use dbutils to move the file from local tmp directory to dbfs\n",
    "        dbutils.fs.cp(f\"file:/tmp/{filename}\", f\"dbfs:/FileStore/{filename}\", True)\n",
    "        \n",
    "    return 'done'\n",
    "\n",
    "# Use the function to download the datasets:\n",
    "urls = [\n",
    "    \"https://datasets.imdbws.com/name.basics.tsv.gz\",      # URL for the name.basics dataset\n",
    "    \"https://datasets.imdbws.com/title.akas.tsv.gz\",       # URL for the title.akas dataset\n",
    "    \"https://datasets.imdbws.com/title.basics.tsv.gz\",     # URL for the title.basics dataset\n",
    "    \"https://datasets.imdbws.com/title.crew.tsv.gz\",       # URL for the title.crew dataset\n",
    "    \"https://datasets.imdbws.com/title.episode.tsv.gz\",    # URL for the title.episode dataset\n",
    "    \"https://datasets.imdbws.com/title.principals.tsv.gz\", # URL for the title.principals dataset\n",
    "    \"https://datasets.imdbws.com/title.ratings.tsv.gz\"     # URL for the title.ratings dataset\n",
    "]\n",
    "\n",
    "# Download, unzip, and move the datasets to the FileStore\n",
    "download_datasets(urls)\n"
   ]
  },
  {
   "cell_type": "code",
   "execution_count": 0,
   "metadata": {
    "application/vnd.databricks.v1+cell": {
     "cellMetadata": {
      "byteLimit": 2048000,
      "rowLimit": 10000
     },
     "inputWidgets": {},
     "nuid": "1d0b89e3-76c3-4610-ba90-7412f61e5729",
     "showTitle": false,
     "title": ""
    }
   },
   "outputs": [
    {
     "output_type": "display_data",
     "data": {
      "text/html": [
       "<style scoped>\n",
       "  .table-result-container {\n",
       "    max-height: 300px;\n",
       "    overflow: auto;\n",
       "  }\n",
       "  table, th, td {\n",
       "    border: 1px solid black;\n",
       "    border-collapse: collapse;\n",
       "  }\n",
       "  th, td {\n",
       "    padding: 5px;\n",
       "  }\n",
       "  th {\n",
       "    text-align: left;\n",
       "  }\n",
       "</style><div class='table-result-container'><table class='table-result'><thead style='background-color: white'><tr><th>path</th><th>name</th><th>size</th><th>modificationTime</th></tr></thead><tbody><tr><td>dbfs:/FileStore/name.basics.tsv</td><td>name.basics.tsv</td><td>833717610</td><td>1718011194000</td></tr><tr><td>dbfs:/FileStore/title.akas.tsv</td><td>title.akas.tsv</td><td>2444971608</td><td>1718011219000</td></tr><tr><td>dbfs:/FileStore/title.basics.tsv</td><td>title.basics.tsv</td><td>932609640</td><td>1718011245000</td></tr><tr><td>dbfs:/FileStore/title.crew.tsv</td><td>title.crew.tsv</td><td>352572674</td><td>1718011255000</td></tr><tr><td>dbfs:/FileStore/title.episode.tsv</td><td>title.episode.tsv</td><td>216845162</td><td>1718011260000</td></tr><tr><td>dbfs:/FileStore/title.principals.tsv</td><td>title.principals.tsv</td><td>3837504795</td><td>1718011294000</td></tr><tr><td>dbfs:/FileStore/title.ratings.tsv</td><td>title.ratings.tsv</td><td>25085697</td><td>1718011324000</td></tr></tbody></table></div>"
      ]
     },
     "metadata": {
      "application/vnd.databricks.v1+output": {
       "addedWidgets": {},
       "aggData": [],
       "aggError": "",
       "aggOverflow": false,
       "aggSchema": [],
       "aggSeriesLimitReached": false,
       "aggType": "",
       "arguments": {},
       "columnCustomDisplayInfos": {},
       "data": [
        [
         "dbfs:/FileStore/name.basics.tsv",
         "name.basics.tsv",
         833717610,
         1718011194000
        ],
        [
         "dbfs:/FileStore/title.akas.tsv",
         "title.akas.tsv",
         2444971608,
         1718011219000
        ],
        [
         "dbfs:/FileStore/title.basics.tsv",
         "title.basics.tsv",
         932609640,
         1718011245000
        ],
        [
         "dbfs:/FileStore/title.crew.tsv",
         "title.crew.tsv",
         352572674,
         1718011255000
        ],
        [
         "dbfs:/FileStore/title.episode.tsv",
         "title.episode.tsv",
         216845162,
         1718011260000
        ],
        [
         "dbfs:/FileStore/title.principals.tsv",
         "title.principals.tsv",
         3837504795,
         1718011294000
        ],
        [
         "dbfs:/FileStore/title.ratings.tsv",
         "title.ratings.tsv",
         25085697,
         1718011324000
        ]
       ],
       "datasetInfos": [],
       "dbfsResultPath": null,
       "isJsonSchema": true,
       "metadata": {},
       "overflow": false,
       "plotOptions": {
        "customPlotOptions": {},
        "displayType": "table",
        "pivotAggregation": null,
        "pivotColumns": null,
        "xColumns": null,
        "yColumns": null
       },
       "removedWidgets": [],
       "schema": [
        {
         "metadata": "{}",
         "name": "path",
         "type": "\"string\""
        },
        {
         "metadata": "{}",
         "name": "name",
         "type": "\"string\""
        },
        {
         "metadata": "{}",
         "name": "size",
         "type": "\"long\""
        },
        {
         "metadata": "{}",
         "name": "modificationTime",
         "type": "\"long\""
        }
       ],
       "type": "table"
      }
     },
     "output_type": "display_data"
    }
   ],
   "source": [
    "# Verify the folder creation by listing contents of /FileStore\n",
    "display(dbutils.fs.ls(\"/FileStore\"))\n"
   ]
  },
  {
   "cell_type": "markdown",
   "metadata": {
    "application/vnd.databricks.v1+cell": {
     "cellMetadata": {},
     "inputWidgets": {},
     "nuid": "4affde9b-4f92-44a3-8076-c4662039edca",
     "showTitle": false,
     "title": ""
    }
   },
   "source": [
    "#### Name Basics"
   ]
  },
  {
   "cell_type": "code",
   "execution_count": 0,
   "metadata": {
    "application/vnd.databricks.v1+cell": {
     "cellMetadata": {
      "byteLimit": 2048000,
      "rowLimit": 10000
     },
     "inputWidgets": {},
     "nuid": "4732f059-91db-49fe-ab05-943f65bc6557",
     "showTitle": false,
     "title": ""
    }
   },
   "outputs": [
    {
     "output_type": "stream",
     "name": "stdout",
     "output_type": "stream",
     "text": [
      "+---------+-------------------+---------+---------+---------------------------------------+--------------------------------------------+\n|nconst   |primaryName        |birthYear|deathYear|primaryProfession                      |knownForTitles                              |\n+---------+-------------------+---------+---------+---------------------------------------+--------------------------------------------+\n|nm0000001|Fred Astaire       |1899     |1987     |[actor, miscellaneous, producer]       |[tt0072308, tt0050419, tt0053137, tt0027125]|\n|nm0000002|Lauren Bacall      |1924     |2014     |[actress, soundtrack, archive_footage] |[tt0037382, tt0075213, tt0117057, tt0038355]|\n|nm0000003|Brigitte Bardot    |1934     |NULL     |[actress, music_department, producer]  |[tt0057345, tt0049189, tt0056404, tt0054452]|\n|nm0000004|John Belushi       |1949     |1982     |[actor, writer, music_department]      |[tt0072562, tt0077975, tt0080455, tt0078723]|\n|nm0000005|Ingmar Bergman     |1918     |2007     |[writer, director, actor]              |[tt0050986, tt0083922, tt0050976, tt0069467]|\n|nm0000006|Ingrid Bergman     |1915     |1982     |[actress, producer, soundtrack]        |[tt0034583, tt0036855, tt0038109, tt0038787]|\n|nm0000007|Humphrey Bogart    |1899     |1957     |[actor, producer, miscellaneous]       |[tt0034583, tt0042593, tt0043265, tt0037382]|\n|nm0000008|Marlon Brando      |1924     |2004     |[actor, director, writer]              |[tt0078788, tt0068646, tt0047296, tt0070849]|\n|nm0000009|Richard Burton     |1925     |1984     |[actor, producer, director]            |[tt0061184, tt0087803, tt0059749, tt0057877]|\n|nm0000010|James Cagney       |1899     |1986     |[actor, director, producer]            |[tt0029870, tt0031867, tt0042041, tt0035575]|\n|nm0000011|Gary Cooper        |1901     |1961     |[actor, stunts, producer]              |[tt0044706, tt0034167, tt0035896, tt0027996]|\n|nm0000012|Bette Davis        |1908     |1989     |[actress, make_up_department, producer]|[tt0042192, tt0056687, tt0031210, tt0035140]|\n|nm0000013|Doris Day          |1922     |2019     |[actress, producer, miscellaneous]     |[tt0048317, tt0045591, tt0053172, tt0049470]|\n|nm0000014|Olivia de Havilland|1916     |2020     |[actress, soundtrack, archive_footage] |[tt0031381, tt0041452, tt0029843, tt0040806]|\n|nm0000015|James Dean         |1931     |1955     |[actor, miscellaneous, archive_footage]|[tt0048028, tt0048545, tt0049261, tt0040051]|\n|nm0000016|Georges Delerue    |1925     |1992     |[composer, music_department, actor]    |[tt0091763, tt0096320, tt0069946, tt8847712]|\n|nm0000017|Marlene Dietrich   |1901     |1992     |[actress, music_department, soundtrack]|[tt0051201, tt0055031, tt0052311, tt0021156]|\n|nm0000018|Kirk Douglas       |1916     |2020     |[actor, producer, director]            |[tt0080736, tt0054331, tt0049456, tt0050825]|\n|nm0000019|Federico Fellini   |1920     |1993     |[writer, director, actor]              |[tt0050783, tt0056801, tt0053779, tt0071129]|\n|nm0000020|Henry Fonda        |1905     |1982     |[actor, producer, miscellaneous]       |[tt0050083, tt0082846, tt0032551, tt0051207]|\n+---------+-------------------+---------+---------+---------------------------------------+--------------------------------------------+\nonly showing top 20 rows\n\n"
     ]
    }
   ],
   "source": [
    "# Define the path to the name.basics.tsv file in the Databricks FileStore\n",
    "datafile_nbasics_path = \"dbfs:/FileStore/name.basics.tsv\"\n",
    "\n",
    "# Define the schema structure for the name.basics.tsv file, according to the Metadata  \n",
    "schema = StructType([\n",
    "    StructField(\"nconst\", StringType(), False),            # Unique identifier for names. Cannot accept null values, since we decided that every person has to have an identification\n",
    "    StructField(\"primaryName\", StringType(), True),                   # Primary name of the person\n",
    "    StructField(\"birthYear\", IntegerType(), True),                    # Birth year of the person\n",
    "    StructField(\"deathYear\", IntegerType(), True),                    # Death year of the person\n",
    "    StructField(\"primaryProfession\", ArrayType(StringType()), True),  # Array of primary professions\n",
    "    StructField(\"knownForTitles\", ArrayType(StringType()), True)      # Array of known titles (movies/TV shows)\n",
    "])\n",
    "\n",
    "# Read the TSV file without specifying the schema\n",
    "df_name_basics = spark.read.option(\"sep\", \"\\t\").csv(datafile_nbasics_path, header=True)\n",
    "\n",
    "# Define the columns that need to be converted into arrays\n",
    "array_columns = [\"primaryProfession\", \"knownForTitles\"]\n",
    "\n",
    "# Convert the specified columns into arrays by splitting the string values\n",
    "for col_name in array_columns:\n",
    "    df_name_basics = df_name_basics.withColumn(col_name, split(col(col_name), \",\"))\n",
    "\n",
    "# Apply the defined schema to the DataFrame by casting each column to the specified data type\n",
    "for field in schema.fields:\n",
    "    df_name_basics = df_name_basics.withColumn(field.name, col(field.name).cast(field.dataType))\n",
    "\n",
    "# Show the DataFrame with all columns without truncating the content\n",
    "df_name_basics.show(truncate=False)"
   ]
  },
  {
   "cell_type": "markdown",
   "metadata": {
    "application/vnd.databricks.v1+cell": {
     "cellMetadata": {},
     "inputWidgets": {},
     "nuid": "c0d69742-707b-448e-9667-42f153ad6044",
     "showTitle": false,
     "title": ""
    }
   },
   "source": [
    "#### Title Akas"
   ]
  },
  {
   "cell_type": "code",
   "execution_count": 0,
   "metadata": {
    "application/vnd.databricks.v1+cell": {
     "cellMetadata": {
      "byteLimit": 2048000,
      "rowLimit": 10000
     },
     "inputWidgets": {},
     "nuid": "95049307-1715-453e-9e86-c604d0bf024e",
     "showTitle": false,
     "title": ""
    }
   },
   "outputs": [
    {
     "output_type": "stream",
     "name": "stdout",
     "output_type": "stream",
     "text": [
      "+---------+--------+-------------------------+------+--------+-------------+-----------------------+---------------+\n|titleId  |ordering|title                    |region|language|types        |attributes             |isOriginalTitle|\n+---------+--------+-------------------------+------+--------+-------------+-----------------------+---------------+\n|tt0000001|1       |Carmencita               |\\N    |\\N      |[original]   |[\\N]                   |1              |\n|tt0000001|2       |Carmencita               |DE    |\\N      |[\\N]         |[literal title]        |0              |\n|tt0000001|3       |Carmencita               |US    |\\N      |[imdbDisplay]|[\\N]                   |0              |\n|tt0000001|4       |Carmencita - spanyol tánc|HU    |\\N      |[imdbDisplay]|[\\N]                   |0              |\n|tt0000001|5       |Καρμενσίτα               |GR    |\\N      |[imdbDisplay]|[\\N]                   |0              |\n|tt0000001|6       |Карменсита               |RU    |\\N      |[imdbDisplay]|[\\N]                   |0              |\n|tt0000001|7       |Карменсіта               |UA    |\\N      |[imdbDisplay]|[\\N]                   |0              |\n|tt0000001|8       |カルメンチータ           |JP    |ja      |[imdbDisplay]|[\\N]                   |0              |\n|tt0000002|1       |Le clown et ses chiens   |\\N    |\\N      |[original]   |[\\N]                   |1              |\n|tt0000002|2       |A bohóc és kutyái        |HU    |\\N      |[imdbDisplay]|[\\N]                   |0              |\n|tt0000002|3       |Clovnul si cainii sai    |RO    |\\N      |[imdbDisplay]|[\\N]                   |0              |\n|tt0000002|4       |Der Clown und seine Hunde|DE    |\\N      |[\\N]         |[literal title]        |0              |\n|tt0000002|5       |Le clown et ses chiens   |FR    |\\N      |[imdbDisplay]|[\\N]                   |0              |\n|tt0000002|6       |The Clown and His Dogs   |US    |\\N      |[\\N]         |[literal English title]|0              |\n|tt0000002|7       |Клоун и его собаки       |RU    |\\N      |[imdbDisplay]|[\\N]                   |0              |\n|tt0000002|8       |道化師と犬               |JP    |ja      |[imdbDisplay]|[\\N]                   |0              |\n|tt0000003|1       |Pauvre Pierrot           |\\N    |\\N      |[original]   |[\\N]                   |1              |\n|tt0000003|2       |Armer Pierrot            |DE    |\\N      |[\\N]         |[literal title]        |0              |\n|tt0000003|3       |Pauvre Pierrot           |FR    |\\N      |[imdbDisplay]|[\\N]                   |0              |\n|tt0000003|4       |Poor Pierrot             |GB    |\\N      |[imdbDisplay]|[\\N]                   |0              |\n+---------+--------+-------------------------+------+--------+-------------+-----------------------+---------------+\nonly showing top 20 rows\n\n"
     ]
    }
   ],
   "source": [
    "# Define the path to the title.akas.tsv file in the Databricks FileStore\n",
    "datafile_akas_path = \"dbfs:/FileStore/title.akas.tsv\"\n",
    "\n",
    "# Define the schema structure for the title.akas.tsv file, according to the Metadata\n",
    "schema = StructType([\n",
    "    StructField(\"titleId\", StringType(), False),         # Unique identifier for titles. Cannot accept null values, since we decided that every title has to have an identification\n",
    "    StructField(\"ordering\", IntegerType(), True),             # Ordering of titles\n",
    "    StructField(\"title\", StringType(), True),                 # Title name\n",
    "    StructField(\"region\", StringType(), True),                # Region of the title\n",
    "    StructField(\"language\", StringType(), True),              # Language of the title\n",
    "    StructField(\"types\", ArrayType(StringType()), True),      # Array of types associated with the title\n",
    "    StructField(\"attributes\", ArrayType(StringType()), True), # Array of attributes associated with the title\n",
    "    StructField(\"isOriginalTitle\", IntegerType(), True)       # Flag indicating if it's the original title\n",
    "])\n",
    "\n",
    "# Read the TSV file without specifying the schema\n",
    "df_title_akas = spark.read.option(\"sep\", \"\\t\").csv(datafile_akas_path, header=True)\n",
    "\n",
    "# Define the columns that need to be converted into arrays\n",
    "array_columns = [\"types\", \"attributes\"]\n",
    "\n",
    "# Convert the specified columns into arrays by splitting the string values\n",
    "for col_name in array_columns:\n",
    "    df_title_akas = df_title_akas.withColumn(col_name, split(col(col_name), \",\"))\n",
    "\n",
    "# Apply the defined schema to the DataFrame by casting each column to the specified data type\n",
    "for field in schema.fields:\n",
    "    df_title_akas = df_title_akas.withColumn(field.name, col(field.name).cast(field.dataType))\n",
    "\n",
    "# Show the DataFrame with all columns without truncating the content\n",
    "df_title_akas.show(truncate=False)"
   ]
  },
  {
   "cell_type": "markdown",
   "metadata": {
    "application/vnd.databricks.v1+cell": {
     "cellMetadata": {},
     "inputWidgets": {},
     "nuid": "d3459805-9c42-48b9-b8e7-6f20a0e03a2c",
     "showTitle": false,
     "title": ""
    }
   },
   "source": [
    "#### Title Basics"
   ]
  },
  {
   "cell_type": "code",
   "execution_count": 0,
   "metadata": {
    "application/vnd.databricks.v1+cell": {
     "cellMetadata": {
      "byteLimit": 2048000,
      "rowLimit": 10000
     },
     "inputWidgets": {},
     "nuid": "92ee8d48-597a-455e-8b46-4d18be863321",
     "showTitle": false,
     "title": ""
    }
   },
   "outputs": [
    {
     "output_type": "stream",
     "name": "stdout",
     "output_type": "stream",
     "text": [
      "+---------+---------+-------------------------------------------+-------------------------------------------------+-------+---------+-------+--------------+----------------------------+\n|tconst   |titleType|primaryTitle                               |originalTitle                                    |isAdult|startYear|endYear|runtimeMinutes|genres                      |\n+---------+---------+-------------------------------------------+-------------------------------------------------+-------+---------+-------+--------------+----------------------------+\n|tt0000001|short    |Carmencita                                 |Carmencita                                       |0      |1894     |NULL   |1             |[Documentary, Short]        |\n|tt0000002|short    |Le clown et ses chiens                     |Le clown et ses chiens                           |0      |1892     |NULL   |5             |[Animation, Short]          |\n|tt0000003|short    |Pauvre Pierrot                             |Pauvre Pierrot                                   |0      |1892     |NULL   |5             |[Animation, Comedy, Romance]|\n|tt0000004|short    |Un bon bock                                |Un bon bock                                      |0      |1892     |NULL   |12            |[Animation, Short]          |\n|tt0000005|short    |Blacksmith Scene                           |Blacksmith Scene                                 |0      |1893     |NULL   |1             |[Comedy, Short]             |\n|tt0000006|short    |Chinese Opium Den                          |Chinese Opium Den                                |0      |1894     |NULL   |1             |[Short]                     |\n|tt0000007|short    |Corbett and Courtney Before the Kinetograph|Corbett and Courtney Before the Kinetograph      |0      |1894     |NULL   |1             |[Short, Sport]              |\n|tt0000008|short    |Edison Kinetoscopic Record of a Sneeze     |Edison Kinetoscopic Record of a Sneeze           |0      |1894     |NULL   |1             |[Documentary, Short]        |\n|tt0000009|movie    |Miss Jerry                                 |Miss Jerry                                       |0      |1894     |NULL   |45            |[Romance]                   |\n|tt0000010|short    |Leaving the Factory                        |La sortie de l'usine Lumière à Lyon              |0      |1895     |NULL   |1             |[Documentary, Short]        |\n|tt0000011|short    |Akrobatisches Potpourri                    |Akrobatisches Potpourri                          |0      |1895     |NULL   |1             |[Documentary, Short]        |\n|tt0000012|short    |The Arrival of a Train                     |L'arrivée d'un train à La Ciotat                 |0      |1896     |NULL   |1             |[Documentary, Short]        |\n|tt0000013|short    |The Photographical Congress Arrives in Lyon|Le débarquement du congrès de photographie à Lyon|0      |1895     |NULL   |1             |[Documentary, Short]        |\n|tt0000014|short    |The Waterer Watered                        |L'arroseur arrosé                                |0      |1895     |NULL   |1             |[Comedy, Short]             |\n|tt0000015|short    |Autour d'une cabine                        |Autour d'une cabine                              |0      |1894     |NULL   |2             |[Animation, Short]          |\n|tt0000016|short    |Boat Leaving the Port                      |Barque sortant du port                           |0      |1895     |NULL   |1             |[Documentary, Short]        |\n|tt0000017|short    |Italienischer Bauerntanz                   |Italienischer Bauerntanz                         |0      |1895     |NULL   |1             |[Documentary, Short]        |\n|tt0000018|short    |Das boxende Känguruh                       |Das boxende Känguruh                             |0      |1895     |NULL   |1             |[Short]                     |\n|tt0000019|short    |The Clown Barber                           |The Clown Barber                                 |0      |1898     |NULL   |NULL          |[Comedy, Short]             |\n|tt0000020|short    |The Derby 1895                             |The Derby 1895                                   |0      |1895     |NULL   |1             |[Documentary, Short, Sport] |\n+---------+---------+-------------------------------------------+-------------------------------------------------+-------+---------+-------+--------------+----------------------------+\nonly showing top 20 rows\n\n"
     ]
    }
   ],
   "source": [
    "# Define the path to the title.basics.tsv file in the Databricks FileStore\n",
    "datafile_tbasics_path = \"dbfs:/FileStore/title.basics.tsv\"\n",
    "\n",
    "# Define the schema structure for the title.basics.tsv file, according to the Metadata\n",
    "schema = StructType([\n",
    "    StructField(\"tconst\", StringType(), False),            # Unique identifier for titles. Cannot accept null values, since we decided that every title has to have an identification\n",
    "    StructField(\"titleType\", StringType(), True),            # Type of the title (e.g., movie, short, TV series)\n",
    "    StructField(\"primaryTitle\", StringType(), True),         # Primary title of the work\n",
    "    StructField(\"originalTitle\", StringType(), True),        # Original title of the work\n",
    "    StructField(\"isAdult\", IntegerType(), True),             # Indicates if the title is adult content\n",
    "    StructField(\"startYear\", IntegerType(), True),           # Start year of the title\n",
    "    StructField(\"endYear\", IntegerType(), True),             # End year of the title (if applicable)\n",
    "    StructField(\"runtimeMinutes\", IntegerType(), True),      # Runtime in minutes\n",
    "    StructField(\"genres\", ArrayType(StringType()), True)     # Array of genres associated with the title\n",
    "])\n",
    "\n",
    "# Read the TSV file without specifying the schema\n",
    "df_title_basics = spark.read.option(\"sep\", \"\\t\").csv(datafile_tbasics_path, header=True)\n",
    "\n",
    "# Define the columns that need to be converted into arrays\n",
    "array_columns = [\"genres\"]\n",
    "\n",
    "# Convert the specified columns into arrays by splitting the string values\n",
    "for col_name in array_columns:\n",
    "    df_title_basics = df_title_basics.withColumn(col_name, split(col(col_name), \",\"))\n",
    "\n",
    "# Apply the defined schema to the DataFrame by casting each column to the specified data type\n",
    "for field in schema.fields:\n",
    "    df_title_basics = df_title_basics.withColumn(field.name, col(field.name).cast(field.dataType))\n",
    "\n",
    "# Show the DataFrame with all columns without truncating the content\n",
    "df_title_basics.show(truncate=False)"
   ]
  },
  {
   "cell_type": "markdown",
   "metadata": {
    "application/vnd.databricks.v1+cell": {
     "cellMetadata": {},
     "inputWidgets": {},
     "nuid": "5ae23995-d0b7-468f-a447-d04a9aec0fbe",
     "showTitle": false,
     "title": ""
    }
   },
   "source": [
    "#### Title Crew"
   ]
  },
  {
   "cell_type": "code",
   "execution_count": 0,
   "metadata": {
    "application/vnd.databricks.v1+cell": {
     "cellMetadata": {
      "byteLimit": 2048000,
      "rowLimit": 10000
     },
     "inputWidgets": {},
     "nuid": "929b846c-747d-45e7-9ee8-166d9b58efcc",
     "showTitle": false,
     "title": ""
    }
   },
   "outputs": [
    {
     "output_type": "stream",
     "name": "stdout",
     "output_type": "stream",
     "text": [
      "+---------+----------------------+-----------+\n|tconst   |directors             |writers    |\n+---------+----------------------+-----------+\n|tt0000001|[nm0005690]           |[\\N]       |\n|tt0000002|[nm0721526]           |[\\N]       |\n|tt0000003|[nm0721526]           |[\\N]       |\n|tt0000004|[nm0721526]           |[\\N]       |\n|tt0000005|[nm0005690]           |[\\N]       |\n|tt0000006|[nm0005690]           |[\\N]       |\n|tt0000007|[nm0005690, nm0374658]|[\\N]       |\n|tt0000008|[nm0005690]           |[\\N]       |\n|tt0000009|[nm0085156]           |[nm0085156]|\n|tt0000010|[nm0525910]           |[\\N]       |\n|tt0000011|[nm0804434]           |[\\N]       |\n|tt0000012|[nm0525908, nm0525910]|[\\N]       |\n|tt0000013|[nm0525910]           |[\\N]       |\n|tt0000014|[nm0525910]           |[\\N]       |\n|tt0000015|[nm0721526]           |[\\N]       |\n|tt0000016|[nm0525910]           |[\\N]       |\n|tt0000017|[nm1587194, nm0804434]|[\\N]       |\n|tt0000018|[nm0804434]           |[\\N]       |\n|tt0000019|[nm0932055]           |[\\N]       |\n|tt0000020|[nm0010291]           |[\\N]       |\n+---------+----------------------+-----------+\nonly showing top 20 rows\n\n"
     ]
    }
   ],
   "source": [
    "# Define the path to the title.crew.tsv file in the Databricks FileStore\n",
    "datafile_crew_path = \"dbfs:/FileStore/title.crew.tsv\"\n",
    "\n",
    "# Define the schema structure for the title.crew.tsv file, according to the Metadata\n",
    "schema = StructType([\n",
    "    StructField(\"tconst\", StringType(), False),          # Unique identifier for titles. Cannot accept null values, since we decided that every title has to have an identification\n",
    "    StructField(\"directors\", ArrayType(StringType()), True), # Array of directors associated with the title\n",
    "    StructField(\"writers\", ArrayType(StringType()), True)    # Array of writers associated with the title\n",
    "])\n",
    "\n",
    "# Read the TSV file without specifying the schema\n",
    "df_title_crew = spark.read.option(\"sep\", \"\\t\").csv(datafile_crew_path, header=True)\n",
    "\n",
    "# Define the columns that need to be converted into arrays\n",
    "array_columns = [\"directors\", \"writers\"]\n",
    "\n",
    "# Convert the specified columns into arrays by splitting the string values\n",
    "for col_name in array_columns:\n",
    "    df_title_crew = df_title_crew.withColumn(col_name, split(col(col_name), \",\"))\n",
    "\n",
    "# Apply the defined schema to the DataFrame by casting each column to the specified data type\n",
    "for field in schema.fields:\n",
    "    df_title_crew = df_title_crew.withColumn(field.name, col(field.name).cast(field.dataType))\n",
    "\n",
    "# Show the DataFrame with all columns without truncating the content\n",
    "df_title_crew.show(truncate=False)"
   ]
  },
  {
   "cell_type": "markdown",
   "metadata": {
    "application/vnd.databricks.v1+cell": {
     "cellMetadata": {},
     "inputWidgets": {},
     "nuid": "a366f974-eb0a-4ce1-9f84-e8794520722f",
     "showTitle": false,
     "title": ""
    }
   },
   "source": [
    "#### Title Episode"
   ]
  },
  {
   "cell_type": "code",
   "execution_count": 0,
   "metadata": {
    "application/vnd.databricks.v1+cell": {
     "cellMetadata": {
      "byteLimit": 2048000,
      "rowLimit": 10000
     },
     "inputWidgets": {},
     "nuid": "9d374140-25bb-4cdf-9106-c88b1aeb5747",
     "showTitle": false,
     "title": ""
    }
   },
   "outputs": [
    {
     "output_type": "stream",
     "name": "stdout",
     "output_type": "stream",
     "text": [
      "+---------+------------+------------+-------------+\n|tconst   |parentTconst|seasonNumber|episodeNumber|\n+---------+------------+------------+-------------+\n|tt0041951|tt0041038   |1           |9            |\n|tt0042816|tt0989125   |1           |17           |\n|tt0042889|tt0989125   |NULL        |NULL         |\n|tt0043426|tt0040051   |3           |42           |\n|tt0043631|tt0989125   |2           |16           |\n|tt0043693|tt0989125   |2           |8            |\n|tt0043710|tt0989125   |3           |3            |\n|tt0044093|tt0959862   |1           |6            |\n|tt0044668|tt0044243   |2           |16           |\n|tt0044901|tt0989125   |3           |46           |\n|tt0045519|tt0989125   |4           |11           |\n|tt0045960|tt0044284   |2           |3            |\n|tt0046135|tt0989125   |4           |5            |\n|tt0046150|tt0341798   |NULL        |NULL         |\n|tt0046855|tt0046643   |1           |4            |\n|tt0046864|tt0989125   |5           |20           |\n|tt0047810|tt0914702   |3           |36           |\n|tt0047852|tt0047745   |1           |15           |\n|tt0047858|tt0046637   |2           |9            |\n|tt0047961|tt0989125   |6           |5            |\n+---------+------------+------------+-------------+\nonly showing top 20 rows\n\n"
     ]
    }
   ],
   "source": [
    "# Define the path to the title.episode.tsv file in the Databricks FileStore\n",
    "datafile_episode_path = \"dbfs:/FileStore/title.episode.tsv\"\n",
    "\n",
    "# Define the schema structure for the title.episode.tsv file, according to the Metadata\n",
    "schema = StructType([\n",
    "    StructField(\"tconst\", StringType(), False),        # Unique identifier for episodes. Cannot accept null values, since we decided that every title has to have an identification\n",
    "    StructField(\"parentTconst\", StringType(), True),    # Unique identifier for the parent title (series)\n",
    "    StructField(\"seasonNumber\", IntegerType(), True),   # Season number of the episode\n",
    "    StructField(\"episodeNumber\", IntegerType(), True)   # Episode number within the season\n",
    "])\n",
    "\n",
    "# Read the TSV file without specifying the schema\n",
    "df_title_episode = spark.read.option(\"sep\", \"\\t\").csv(datafile_episode_path, header=True)\n",
    "\n",
    "# Apply the defined schema to the DataFrame by casting each column to the specified data type\n",
    "for field in schema.fields:\n",
    "    df_title_episode = df_title_episode.withColumn(field.name, col(field.name).cast(field.dataType))\n",
    "\n",
    "# Show the DataFrame with all columns without truncating the content\n",
    "df_title_episode.show(truncate=False)"
   ]
  },
  {
   "cell_type": "markdown",
   "metadata": {
    "application/vnd.databricks.v1+cell": {
     "cellMetadata": {},
     "inputWidgets": {},
     "nuid": "33d56650-38f1-4c2e-a835-e22885f0d5f0",
     "showTitle": false,
     "title": ""
    }
   },
   "source": [
    "#### Title Principals"
   ]
  },
  {
   "cell_type": "code",
   "execution_count": 0,
   "metadata": {
    "application/vnd.databricks.v1+cell": {
     "cellMetadata": {
      "byteLimit": 2048000,
      "rowLimit": 10000
     },
     "inputWidgets": {},
     "nuid": "d12baeff-418a-4cc8-addd-39dcc948ad05",
     "showTitle": false,
     "title": ""
    }
   },
   "outputs": [
    {
     "output_type": "stream",
     "name": "stdout",
     "output_type": "stream",
     "text": [
      "+---------+--------+---------+---------------+-----------------------+--------------+\n|tconst   |ordering|nconst   |category       |job                    |characters    |\n+---------+--------+---------+---------------+-----------------------+--------------+\n|tt0000001|1       |nm1588970|self           |\\N                     |[\"Self\"]      |\n|tt0000001|2       |nm0005690|director       |\\N                     |\\N            |\n|tt0000001|3       |nm0005690|producer       |producer               |\\N            |\n|tt0000001|4       |nm0374658|cinematographer|director of photography|\\N            |\n|tt0000002|1       |nm0721526|director       |\\N                     |\\N            |\n|tt0000002|2       |nm1335271|composer       |\\N                     |\\N            |\n|tt0000003|1       |nm0721526|director       |\\N                     |\\N            |\n|tt0000003|2       |nm1770680|producer       |producer               |\\N            |\n|tt0000003|3       |nm0721526|producer       |producer               |\\N            |\n|tt0000003|4       |nm1335271|composer       |\\N                     |\\N            |\n|tt0000003|5       |nm5442200|editor         |editor                 |\\N            |\n|tt0000004|1       |nm0721526|director       |\\N                     |\\N            |\n|tt0000004|2       |nm1335271|composer       |\\N                     |\\N            |\n|tt0000005|1       |nm0443482|actor          |\\N                     |[\"Blacksmith\"]|\n|tt0000005|2       |nm0653042|actor          |\\N                     |[\"Assistant\"] |\n|tt0000005|3       |nm0249379|producer       |producer               |\\N            |\n|tt0000007|1       |nm0179163|actor          |\\N                     |\\N            |\n|tt0000007|2       |nm0183947|actor          |\\N                     |\\N            |\n|tt0000007|3       |nm0005690|director       |\\N                     |\\N            |\n|tt0000007|4       |nm0374658|director       |\\N                     |\\N            |\n+---------+--------+---------+---------------+-----------------------+--------------+\nonly showing top 20 rows\n\n"
     ]
    }
   ],
   "source": [
    "# Define the path to the title.principals.tsv file in the Databricks FileStore\n",
    "datafile_principals_path = \"dbfs:/FileStore/title.principals.tsv\"\n",
    "\n",
    "# Define the schema structure for the title.principals.tsv file, according to the Metadata\n",
    "schema = StructType([\n",
    "    StructField(\"tconst\", StringType(), False),   # Unique identifier for titles. Cannot accept null values, since we decided that every title has to have an identification\n",
    "    StructField(\"ordering\", IntegerType(), True), # Ordering of the principal cast/crew\n",
    "\n",
    "    # Unique identifier for names (actors/crew). Cannot accept null values, since we decided that every person has to have an identification\n",
    "    StructField(\"nconst\", StringType(), False),\n",
    "\n",
    "    StructField(\"category\", StringType(), True),   # Category of job (e.g., actor, director)\n",
    "    StructField(\"job\", StringType(), True),        # Specific job description\n",
    "    StructField(\"characters\", StringType(), True)  # Characters played (if applicable)\n",
    "])\n",
    "\n",
    "# Read the TSV file without specifying the schema\n",
    "df_title_principals = spark.read.option(\"sep\", \"\\t\").csv(datafile_principals_path, header=True)\n",
    "\n",
    "# Apply the defined schema to the DataFrame by casting each column to the specified data type\n",
    "for field in schema.fields:\n",
    "    df_title_principals = df_title_principals.withColumn(field.name, col(field.name).cast(field.dataType))\n",
    "\n",
    "# Show the DataFrame with all columns without truncating the content\n",
    "df_title_principals.show(truncate=False)"
   ]
  },
  {
   "cell_type": "markdown",
   "metadata": {
    "application/vnd.databricks.v1+cell": {
     "cellMetadata": {},
     "inputWidgets": {},
     "nuid": "d3556697-ba0f-4ee0-8090-7b213109c1b2",
     "showTitle": false,
     "title": ""
    }
   },
   "source": [
    "#### Title Ratings"
   ]
  },
  {
   "cell_type": "code",
   "execution_count": 0,
   "metadata": {
    "application/vnd.databricks.v1+cell": {
     "cellMetadata": {
      "byteLimit": 2048000,
      "rowLimit": 10000
     },
     "inputWidgets": {},
     "nuid": "f34cde1a-f9a6-480b-95de-dba74918f5ef",
     "showTitle": false,
     "title": ""
    }
   },
   "outputs": [
    {
     "output_type": "stream",
     "name": "stdout",
     "output_type": "stream",
     "text": [
      "+---------+-------------+--------+\n|tconst   |averageRating|numVotes|\n+---------+-------------+--------+\n|tt0000001|5.7          |2059    |\n|tt0000002|5.6          |277     |\n|tt0000003|6.5          |2020    |\n|tt0000004|5.3          |180     |\n|tt0000005|6.2          |2787    |\n|tt0000006|5.1          |187     |\n|tt0000007|5.4          |872     |\n|tt0000008|5.4          |2202    |\n|tt0000009|5.4          |212     |\n|tt0000010|6.8          |7590    |\n|tt0000011|5.2          |389     |\n|tt0000012|7.4          |12922   |\n|tt0000013|5.7          |1971    |\n|tt0000014|7.1          |5870    |\n|tt0000015|6.1          |1183    |\n|tt0000016|5.9          |1584    |\n|tt0000017|4.6          |348     |\n|tt0000018|5.2          |629     |\n|tt0000019|5.1          |32      |\n|tt0000020|4.7          |383     |\n+---------+-------------+--------+\nonly showing top 20 rows\n\n"
     ]
    }
   ],
   "source": [
    "# Define the path to the title.ratings.tsv file in the Databricks FileStore\n",
    "datafile_ratings_path = \"dbfs:/FileStore/title.ratings.tsv\"\n",
    "\n",
    "# Define the schema structure for the title.ratings.tsv file, according to the Metadata\n",
    "schema = StructType([\n",
    "    StructField(\"tconst\", StringType(), False),        # Unique identifier for titles. Cannot accept null values, since we decided that every title has to have an identification\n",
    "    StructField(\"averageRating\", FloatType(), True),   # Average rating of the title\n",
    "    StructField(\"numVotes\", IntegerType(), True)       # Number of votes the title received\n",
    "])\n",
    "\n",
    "# Read the TSV file without specifying the schema\n",
    "df_title_ratings = spark.read.option(\"sep\", \"\\t\").csv(datafile_ratings_path, header=True)\n",
    "\n",
    "# Apply the defined schema to the DataFrame by casting each column to the specified data type\n",
    "for field in schema.fields:\n",
    "    df_title_ratings = df_title_ratings.withColumn(field.name, col(field.name).cast(field.dataType))\n",
    "\n",
    "# Show the DataFrame with all columns without truncating the content\n",
    "df_title_ratings.show(truncate=False)"
   ]
  },
  {
   "cell_type": "markdown",
   "metadata": {
    "application/vnd.databricks.v1+cell": {
     "cellMetadata": {},
     "inputWidgets": {},
     "nuid": "87b0be1b-1451-49ce-b398-5b47f265f92b",
     "showTitle": false,
     "title": ""
    }
   },
   "source": [
    "#### Handling Missing Values"
   ]
  },
  {
   "cell_type": "code",
   "execution_count": 0,
   "metadata": {
    "application/vnd.databricks.v1+cell": {
     "cellMetadata": {
      "byteLimit": 2048000,
      "rowLimit": 10000
     },
     "inputWidgets": {},
     "nuid": "3a076e25-04ff-40ab-ad24-a95edcba02f5",
     "showTitle": false,
     "title": ""
    }
   },
   "outputs": [
    {
     "output_type": "stream",
     "name": "stdout",
     "output_type": "stream",
     "text": [
      "+---------+-------------------+---------+---------+---------------------------------------+--------------------------------------------+\n|nconst   |primaryName        |birthYear|deathYear|primaryProfession                      |knownForTitles                              |\n+---------+-------------------+---------+---------+---------------------------------------+--------------------------------------------+\n|nm0000001|Fred Astaire       |1899     |1987     |[actor, miscellaneous, producer]       |[tt0072308, tt0050419, tt0053137, tt0027125]|\n|nm0000002|Lauren Bacall      |1924     |2014     |[actress, soundtrack, archive_footage] |[tt0037382, tt0075213, tt0117057, tt0038355]|\n|nm0000003|Brigitte Bardot    |1934     |NULL     |[actress, music_department, producer]  |[tt0057345, tt0049189, tt0056404, tt0054452]|\n|nm0000004|John Belushi       |1949     |1982     |[actor, writer, music_department]      |[tt0072562, tt0077975, tt0080455, tt0078723]|\n|nm0000005|Ingmar Bergman     |1918     |2007     |[writer, director, actor]              |[tt0050986, tt0083922, tt0050976, tt0069467]|\n|nm0000006|Ingrid Bergman     |1915     |1982     |[actress, producer, soundtrack]        |[tt0034583, tt0036855, tt0038109, tt0038787]|\n|nm0000007|Humphrey Bogart    |1899     |1957     |[actor, producer, miscellaneous]       |[tt0034583, tt0042593, tt0043265, tt0037382]|\n|nm0000008|Marlon Brando      |1924     |2004     |[actor, director, writer]              |[tt0078788, tt0068646, tt0047296, tt0070849]|\n|nm0000009|Richard Burton     |1925     |1984     |[actor, producer, director]            |[tt0061184, tt0087803, tt0059749, tt0057877]|\n|nm0000010|James Cagney       |1899     |1986     |[actor, director, producer]            |[tt0029870, tt0031867, tt0042041, tt0035575]|\n|nm0000011|Gary Cooper        |1901     |1961     |[actor, stunts, producer]              |[tt0044706, tt0034167, tt0035896, tt0027996]|\n|nm0000012|Bette Davis        |1908     |1989     |[actress, make_up_department, producer]|[tt0042192, tt0056687, tt0031210, tt0035140]|\n|nm0000013|Doris Day          |1922     |2019     |[actress, producer, miscellaneous]     |[tt0048317, tt0045591, tt0053172, tt0049470]|\n|nm0000014|Olivia de Havilland|1916     |2020     |[actress, soundtrack, archive_footage] |[tt0031381, tt0041452, tt0029843, tt0040806]|\n|nm0000015|James Dean         |1931     |1955     |[actor, miscellaneous, archive_footage]|[tt0048028, tt0048545, tt0049261, tt0040051]|\n|nm0000016|Georges Delerue    |1925     |1992     |[composer, music_department, actor]    |[tt0091763, tt0096320, tt0069946, tt8847712]|\n|nm0000017|Marlene Dietrich   |1901     |1992     |[actress, music_department, soundtrack]|[tt0051201, tt0055031, tt0052311, tt0021156]|\n|nm0000018|Kirk Douglas       |1916     |2020     |[actor, producer, director]            |[tt0080736, tt0054331, tt0049456, tt0050825]|\n|nm0000019|Federico Fellini   |1920     |1993     |[writer, director, actor]              |[tt0050783, tt0056801, tt0053779, tt0071129]|\n|nm0000020|Henry Fonda        |1905     |1982     |[actor, producer, miscellaneous]       |[tt0050083, tt0082846, tt0032551, tt0051207]|\n+---------+-------------------+---------+---------+---------------------------------------+--------------------------------------------+\nonly showing top 20 rows\n\n+---------+--------+-------------------------+------+--------+-----+----------+---------------+\n|titleId  |ordering|title                    |region|language|types|attributes|isOriginalTitle|\n+---------+--------+-------------------------+------+--------+-----+----------+---------------+\n|tt0000001|1       |Carmencita               |NULL  |NULL    |NULL |NULL      |1              |\n|tt0000001|2       |Carmencita               |DE    |NULL    |NULL |NULL      |0              |\n|tt0000001|3       |Carmencita               |US    |NULL    |NULL |NULL      |0              |\n|tt0000001|4       |Carmencita - spanyol tánc|HU    |NULL    |NULL |NULL      |0              |\n|tt0000001|5       |Καρμενσίτα               |GR    |NULL    |NULL |NULL      |0              |\n|tt0000001|6       |Карменсита               |RU    |NULL    |NULL |NULL      |0              |\n|tt0000001|7       |Карменсіта               |UA    |NULL    |NULL |NULL      |0              |\n|tt0000001|8       |カルメンチータ           |JP    |ja      |NULL |NULL      |0              |\n|tt0000002|1       |Le clown et ses chiens   |NULL  |NULL    |NULL |NULL      |1              |\n|tt0000002|2       |A bohóc és kutyái        |HU    |NULL    |NULL |NULL      |0              |\n|tt0000002|3       |Clovnul si cainii sai    |RO    |NULL    |NULL |NULL      |0              |\n|tt0000002|4       |Der Clown und seine Hunde|DE    |NULL    |NULL |NULL      |0              |\n|tt0000002|5       |Le clown et ses chiens   |FR    |NULL    |NULL |NULL      |0              |\n|tt0000002|6       |The Clown and His Dogs   |US    |NULL    |NULL |NULL      |0              |\n|tt0000002|7       |Клоун и его собаки       |RU    |NULL    |NULL |NULL      |0              |\n|tt0000002|8       |道化師と犬               |JP    |ja      |NULL |NULL      |0              |\n|tt0000003|1       |Pauvre Pierrot           |NULL  |NULL    |NULL |NULL      |1              |\n|tt0000003|2       |Armer Pierrot            |DE    |NULL    |NULL |NULL      |0              |\n|tt0000003|3       |Pauvre Pierrot           |FR    |NULL    |NULL |NULL      |0              |\n|tt0000003|4       |Poor Pierrot             |GB    |NULL    |NULL |NULL      |0              |\n+---------+--------+-------------------------+------+--------+-----+----------+---------------+\nonly showing top 20 rows\n\n+---------+---------+-------------------------------------------+-------------------------------------------------+-------+---------+-------+--------------+----------------------------+\n|tconst   |titleType|primaryTitle                               |originalTitle                                    |isAdult|startYear|endYear|runtimeMinutes|genres                      |\n+---------+---------+-------------------------------------------+-------------------------------------------------+-------+---------+-------+--------------+----------------------------+\n|tt0000001|short    |Carmencita                                 |Carmencita                                       |0      |1894     |NULL   |1             |[Documentary, Short]        |\n|tt0000002|short    |Le clown et ses chiens                     |Le clown et ses chiens                           |0      |1892     |NULL   |5             |[Animation, Short]          |\n|tt0000003|short    |Pauvre Pierrot                             |Pauvre Pierrot                                   |0      |1892     |NULL   |5             |[Animation, Comedy, Romance]|\n|tt0000004|short    |Un bon bock                                |Un bon bock                                      |0      |1892     |NULL   |12            |[Animation, Short]          |\n|tt0000005|short    |Blacksmith Scene                           |Blacksmith Scene                                 |0      |1893     |NULL   |1             |[Comedy, Short]             |\n|tt0000006|short    |Chinese Opium Den                          |Chinese Opium Den                                |0      |1894     |NULL   |1             |NULL                        |\n|tt0000007|short    |Corbett and Courtney Before the Kinetograph|Corbett and Courtney Before the Kinetograph      |0      |1894     |NULL   |1             |[Short, Sport]              |\n|tt0000008|short    |Edison Kinetoscopic Record of a Sneeze     |Edison Kinetoscopic Record of a Sneeze           |0      |1894     |NULL   |1             |[Documentary, Short]        |\n|tt0000009|movie    |Miss Jerry                                 |Miss Jerry                                       |0      |1894     |NULL   |45            |NULL                        |\n|tt0000010|short    |Leaving the Factory                        |La sortie de l'usine Lumière à Lyon              |0      |1895     |NULL   |1             |[Documentary, Short]        |\n|tt0000011|short    |Akrobatisches Potpourri                    |Akrobatisches Potpourri                          |0      |1895     |NULL   |1             |[Documentary, Short]        |\n|tt0000012|short    |The Arrival of a Train                     |L'arrivée d'un train à La Ciotat                 |0      |1896     |NULL   |1             |[Documentary, Short]        |\n|tt0000013|short    |The Photographical Congress Arrives in Lyon|Le débarquement du congrès de photographie à Lyon|0      |1895     |NULL   |1             |[Documentary, Short]        |\n|tt0000014|short    |The Waterer Watered                        |L'arroseur arrosé                                |0      |1895     |NULL   |1             |[Comedy, Short]             |\n|tt0000015|short    |Autour d'une cabine                        |Autour d'une cabine                              |0      |1894     |NULL   |2             |[Animation, Short]          |\n|tt0000016|short    |Boat Leaving the Port                      |Barque sortant du port                           |0      |1895     |NULL   |1             |[Documentary, Short]        |\n|tt0000017|short    |Italienischer Bauerntanz                   |Italienischer Bauerntanz                         |0      |1895     |NULL   |1             |[Documentary, Short]        |\n|tt0000018|short    |Das boxende Känguruh                       |Das boxende Känguruh                             |0      |1895     |NULL   |1             |NULL                        |\n|tt0000019|short    |The Clown Barber                           |The Clown Barber                                 |0      |1898     |NULL   |NULL          |[Comedy, Short]             |\n|tt0000020|short    |The Derby 1895                             |The Derby 1895                                   |0      |1895     |NULL   |1             |[Documentary, Short, Sport] |\n+---------+---------+-------------------------------------------+-------------------------------------------------+-------+---------+-------+--------------+----------------------------+\nonly showing top 20 rows\n\n+---------+----------------------+-------+\n|tconst   |directors             |writers|\n+---------+----------------------+-------+\n|tt0000001|NULL                  |NULL   |\n|tt0000002|NULL                  |NULL   |\n|tt0000003|NULL                  |NULL   |\n|tt0000004|NULL                  |NULL   |\n|tt0000005|NULL                  |NULL   |\n|tt0000006|NULL                  |NULL   |\n|tt0000007|[nm0005690, nm0374658]|NULL   |\n|tt0000008|NULL                  |NULL   |\n|tt0000009|NULL                  |NULL   |\n|tt0000010|NULL                  |NULL   |\n|tt0000011|NULL                  |NULL   |\n|tt0000012|[nm0525908, nm0525910]|NULL   |\n|tt0000013|NULL                  |NULL   |\n|tt0000014|NULL                  |NULL   |\n|tt0000015|NULL                  |NULL   |\n|tt0000016|NULL                  |NULL   |\n|tt0000017|[nm1587194, nm0804434]|NULL   |\n|tt0000018|NULL                  |NULL   |\n|tt0000019|NULL                  |NULL   |\n|tt0000020|NULL                  |NULL   |\n+---------+----------------------+-------+\nonly showing top 20 rows\n\n+---------+------------+------------+-------------+\n|tconst   |parentTconst|seasonNumber|episodeNumber|\n+---------+------------+------------+-------------+\n|tt0041951|tt0041038   |1           |9            |\n|tt0042816|tt0989125   |1           |17           |\n|tt0042889|tt0989125   |NULL        |NULL         |\n|tt0043426|tt0040051   |3           |42           |\n|tt0043631|tt0989125   |2           |16           |\n|tt0043693|tt0989125   |2           |8            |\n|tt0043710|tt0989125   |3           |3            |\n|tt0044093|tt0959862   |1           |6            |\n|tt0044668|tt0044243   |2           |16           |\n|tt0044901|tt0989125   |3           |46           |\n|tt0045519|tt0989125   |4           |11           |\n|tt0045960|tt0044284   |2           |3            |\n|tt0046135|tt0989125   |4           |5            |\n|tt0046150|tt0341798   |NULL        |NULL         |\n|tt0046855|tt0046643   |1           |4            |\n|tt0046864|tt0989125   |5           |20           |\n|tt0047810|tt0914702   |3           |36           |\n|tt0047852|tt0047745   |1           |15           |\n|tt0047858|tt0046637   |2           |9            |\n|tt0047961|tt0989125   |6           |5            |\n+---------+------------+------------+-------------+\nonly showing top 20 rows\n\n+---------+--------+---------+---------------+-----------------------+--------------+\n|tconst   |ordering|nconst   |category       |job                    |characters    |\n+---------+--------+---------+---------------+-----------------------+--------------+\n|tt0000001|1       |nm1588970|self           |NULL                   |[\"Self\"]      |\n|tt0000001|2       |nm0005690|director       |NULL                   |NULL          |\n|tt0000001|3       |nm0005690|producer       |producer               |NULL          |\n|tt0000001|4       |nm0374658|cinematographer|director of photography|NULL          |\n|tt0000002|1       |nm0721526|director       |NULL                   |NULL          |\n|tt0000002|2       |nm1335271|composer       |NULL                   |NULL          |\n|tt0000003|1       |nm0721526|director       |NULL                   |NULL          |\n|tt0000003|2       |nm1770680|producer       |producer               |NULL          |\n|tt0000003|3       |nm0721526|producer       |producer               |NULL          |\n|tt0000003|4       |nm1335271|composer       |NULL                   |NULL          |\n|tt0000003|5       |nm5442200|editor         |editor                 |NULL          |\n|tt0000004|1       |nm0721526|director       |NULL                   |NULL          |\n|tt0000004|2       |nm1335271|composer       |NULL                   |NULL          |\n|tt0000005|1       |nm0443482|actor          |NULL                   |[\"Blacksmith\"]|\n|tt0000005|2       |nm0653042|actor          |NULL                   |[\"Assistant\"] |\n|tt0000005|3       |nm0249379|producer       |producer               |NULL          |\n|tt0000007|1       |nm0179163|actor          |NULL                   |NULL          |\n|tt0000007|2       |nm0183947|actor          |NULL                   |NULL          |\n|tt0000007|3       |nm0005690|director       |NULL                   |NULL          |\n|tt0000007|4       |nm0374658|director       |NULL                   |NULL          |\n+---------+--------+---------+---------------+-----------------------+--------------+\nonly showing top 20 rows\n\n+---------+-------------+--------+\n|tconst   |averageRating|numVotes|\n+---------+-------------+--------+\n|tt0000001|5.7          |2059    |\n|tt0000002|5.6          |277     |\n|tt0000003|6.5          |2020    |\n|tt0000004|5.3          |180     |\n|tt0000005|6.2          |2787    |\n|tt0000006|5.1          |187     |\n|tt0000007|5.4          |872     |\n|tt0000008|5.4          |2202    |\n|tt0000009|5.4          |212     |\n|tt0000010|6.8          |7590    |\n|tt0000011|5.2          |389     |\n|tt0000012|7.4          |12922   |\n|tt0000013|5.7          |1971    |\n|tt0000014|7.1          |5870    |\n|tt0000015|6.1          |1183    |\n|tt0000016|5.9          |1584    |\n|tt0000017|4.6          |348     |\n|tt0000018|5.2          |629     |\n|tt0000019|5.1          |32      |\n|tt0000020|4.7          |383     |\n+---------+-------------+--------+\nonly showing top 20 rows\n\n"
     ]
    }
   ],
   "source": [
    "def replace_nulls(*dfs):\n",
    "    \"\"\"\n",
    "    Replace '\\\\N' with None (null) in all columns and treat empty lists ['\\\\N'] as None for array columns in the given DataFrames.\n",
    "    \n",
    "    Parameters:\n",
    "    *dfs (pyspark.sql.DataFrame): Variable number of DataFrames to process.\n",
    "    \n",
    "    Returns:\n",
    "    tuple: A tuple of updated DataFrames.\n",
    "    \"\"\"\n",
    "    updated_dfs = []\n",
    "    \n",
    "    for df in dfs:\n",
    "\n",
    "        # Replace '\\N' with None (null) in all columns of the DataFrame\n",
    "        df = df.replace(r'\\N', None)\n",
    "        \n",
    "        # Loop through each field in the DataFrame schema\n",
    "        for field in df.schema.fields:\n",
    "\n",
    "            # Check if the field is an array of strings\n",
    "            if isinstance(field.dataType, ArrayType) and field.dataType.elementType == StringType():\n",
    "               \n",
    "                # Replace array columns containing a single '\\\\N' with None\n",
    "                df = df.withColumn(field.name, when(size(col(field.name)) == 1, None).otherwise(col(field.name)))\n",
    "        \n",
    "        # Append the updated DataFrame to the list\n",
    "        updated_dfs.append(df)\n",
    "    \n",
    "    return tuple(updated_dfs)\n",
    "\n",
    "# Apply the function to the DataFrames inplace\n",
    "df_name_basics, df_title_akas, df_title_basics, df_title_crew, df_title_episode, df_title_principals, df_title_ratings = replace_nulls(\n",
    "    df_name_basics, df_title_akas, df_title_basics, df_title_crew, df_title_episode, df_title_principals, df_title_ratings\n",
    ")\n",
    "\n",
    "# Show the updated DataFrames to verify the changes\n",
    "for df in [df_name_basics, df_title_akas, df_title_basics, df_title_crew, df_title_episode, df_title_principals, df_title_ratings]:\n",
    "    df.show(truncate=False)"
   ]
  },
  {
   "cell_type": "markdown",
   "metadata": {
    "application/vnd.databricks.v1+cell": {
     "cellMetadata": {},
     "inputWidgets": {},
     "nuid": "d23201f4-8f5d-413d-a9ae-33e3d6d60cc6",
     "showTitle": false,
     "title": ""
    }
   },
   "source": [
    "### Network Inference, Let’s build a network\n",
    "In the following questions you will look to summarise the data and build a network. We want to examine a network that abstracts how actors and actress are related through their co-participation in movies. To that end perform the following steps:\n",
    "\n",
    "**Q1** Create a DataFrame that combines **all the information** on each of the titles (i.e., movies, tv-shows, etc …) and **all of the information** the participants in those movies (i.e., actors, directors, etc … ), make sure the actual names of the movies and participants are included. It may be worth reviewing the following questions to see how this dataframe will be used.\n",
    "\n",
    "How many rows does your dataframe have?"
   ]
  },
  {
   "cell_type": "markdown",
   "metadata": {
    "application/vnd.databricks.v1+cell": {
     "cellMetadata": {},
     "inputWidgets": {},
     "nuid": "e972eb20-96ee-44e8-a7fb-1fda1d7b52ec",
     "showTitle": false,
     "title": ""
    }
   },
   "source": [
    "**Note:**\n",
    "\n",
    "Although there are 7 Data Frames available (Name Basics, Title Basics, Title Akas, Title Crew, Title Episode, Title Ratings, and Title Principals), we have opted to focus solely on combining the relevant information from the Title Principals, Title Ratings, and Title Basics Data Frames for titles (movies). Additionally, we are incorporating participant information exclusively from the Name Basics Data Frame. This decision is based on our analysis of the subsequent questions, which indicate that the other Data Frames are not necessary for our purposes."
   ]
  },
  {
   "cell_type": "code",
   "execution_count": 0,
   "metadata": {
    "application/vnd.databricks.v1+cell": {
     "cellMetadata": {
      "byteLimit": 2048000,
      "rowLimit": 10000
     },
     "inputWidgets": {},
     "nuid": "4a511550-12fe-402f-a040-962a1a615ac3",
     "showTitle": false,
     "title": ""
    }
   },
   "outputs": [
    {
     "output_type": "stream",
     "name": "stdout",
     "output_type": "stream",
     "text": [
      "+---------+---------+--------+---------------+--------+--------------------------------------------------+--------------------+---------+---------+----------------------------------------------+--------------------------------------------+---------+----------------------+------------------------+-------+---------+-------+--------------+------------------+-------------+--------+\n|tconst   |nconst   |ordering|category       |job     |characters                                        |primaryName         |birthYear|deathYear|primaryProfession                             |knownForTitles                              |titleType|primaryTitle          |originalTitle           |isAdult|startYear|endYear|runtimeMinutes|genres            |averageRating|numVotes|\n+---------+---------+--------+---------------+--------+--------------------------------------------------+--------------------+---------+---------+----------------------------------------------+--------------------------------------------+---------+----------------------+------------------------+-------+---------+-------+--------------+------------------+-------------+--------+\n|tt0000658|nm0169871|1       |director       |NULL    |NULL                                              |Émile Cohl          |1857     |1938     |[director, animation_department, writer]      |[tt1003400, tt1003497, tt0794279, tt1003447]|short    |The Puppet's Nightmare|Le cauchemar de Fantoche|0      |1908     |NULL   |2             |[Animation, Short]|6.4          |292     |\n|tt0001732|nm0790137|1       |actor          |NULL    |[\"Bert Duncan\"]                                   |William E. Shay     |1866     |NULL     |[actor, archive_footage]                      |[tt0326077, tt0005100, tt0006190, tt0005449]|short    |The Lighthouse Keeper |The Lighthouse Keeper   |0      |1911     |NULL   |NULL          |[Drama, Short]    |7.2          |19      |\n|tt0001732|nm0532996|5       |actor          |NULL    |[\"Wedding Guest\"]                                 |Hayward Mack        |1882     |1921     |[actor, director, writer]                     |[tt0012522, tt0001686, tt0451373, tt0358478]|short    |The Lighthouse Keeper |The Lighthouse Keeper   |0      |1911     |NULL   |NULL          |[Drama, Short]    |7.2          |19      |\n|tt0001732|nm0480674|8       |producer       |producer|NULL                                              |Carl Laemmle        |1867     |1939     |[producer, miscellaneous, actor]              |[tt0021884, tt0026138, tt0024184, tt0020629]|short    |The Lighthouse Keeper |The Lighthouse Keeper   |0      |1911     |NULL   |NULL          |[Drama, Short]    |7.2          |19      |\n|tt0001732|nm0408436|7       |director       |NULL    |NULL                                              |Thomas H. Ince      |1880     |1924     |[producer, miscellaneous, director]           |[tt0005193, tt0005166, tt0005149, tt0002669]|short    |The Lighthouse Keeper |The Lighthouse Keeper   |0      |1911     |NULL   |NULL          |[Drama, Short]    |7.2          |19      |\n|tt0001732|nm0681931|6       |actress        |NULL    |[\"Wedding Guest\"]                                 |Lottie Pickford     |1895     |1936     |[actress, archive_footage]                    |[tt0005302, tt0001456, tt0001050, tt0001949]|short    |The Lighthouse Keeper |The Lighthouse Keeper   |0      |1911     |NULL   |NULL          |[Drama, Short]    |7.2          |19      |\n|tt0001732|nm0531759|3       |actor          |NULL    |[\"Nat Berry - The Lighthouse Keeper\"]             |J. Farrell MacDonald|1875     |1952     |[actor, director, soundtrack]                 |[tt0018455, tt0038762, tt0033677, tt0023038]|short    |The Lighthouse Keeper |The Lighthouse Keeper   |0      |1911     |NULL   |NULL          |[Drama, Short]    |7.2          |19      |\n|tt0001732|nm0367556|4       |actor          |NULL    |[\"Tom Atkins\"]                                    |Jack Harvey         |1881     |1954     |[director, actor, writer]                     |[tt0325458, tt0009249, tt0040920, tt0045630]|short    |The Lighthouse Keeper |The Lighthouse Keeper   |0      |1911     |NULL   |NULL          |[Drama, Short]    |7.2          |19      |\n|tt0001732|nm0681933|2       |actress        |NULL    |[\"Polly Berry - the Lighthouse Keeper's Daughter\"]|Mary Pickford       |1892     |1979     |[actress, producer, writer]                   |[tt0019788, tt0016028, tt0014854, tt0024539]|short    |The Lighthouse Keeper |The Lighthouse Keeper   |0      |1911     |NULL   |NULL          |[Drama, Short]    |7.2          |19      |\n|tt0002253|nm0005658|14      |cinematographer|NULL    |NULL                                              |G.W. Bitzer         |1872     |1944     |[cinematographer, director, camera_department]|[tt0004972, tt0009968, tt0431889, tt0006864]|short    |Home Folks            |Home Folks              |0      |1912     |NULL   |17            |[Drama, Short]    |5.1          |15      |\n+---------+---------+--------+---------------+--------+--------------------------------------------------+--------------------+---------+---------+----------------------------------------------+--------------------------------------------+---------+----------------------+------------------------+-------+---------+-------+--------------+------------------+-------------+--------+\nonly showing top 10 rows\n\n"
     ]
    }
   ],
   "source": [
    "# Step 1: Join title_principals with name_basics to get participant details\n",
    "q1_df = df_title_principals.join(df_name_basics, on=\"nconst\", how=\"inner\")\n",
    "\n",
    "# Step 2: Join the resulting DataFrame with title_basics to get title details\n",
    "q1_df = q1_df.join(df_title_basics, on=\"tconst\", how=\"inner\")\n",
    "\n",
    "# Step 3: Join with title_ratings to get ratings information for every title\n",
    "q1_df = q1_df.join(df_title_ratings, on=\"tconst\", how=\"inner\")\n",
    "\n",
    "# Count the number of rows in the final DataFrame\n",
    "number_of_rows = q1_df.count()\n",
    "\n",
    "# Show the first 10 rows of the final DataFrame to verify the success of the join operations\n",
    "q1_df.show(10, truncate=False)"
   ]
  },
  {
   "cell_type": "code",
   "execution_count": 0,
   "metadata": {
    "application/vnd.databricks.v1+cell": {
     "cellMetadata": {
      "byteLimit": 2048000,
      "rowLimit": 10000
     },
     "inputWidgets": {},
     "nuid": "4202e669-8734-4814-a9dd-fa752d121240",
     "showTitle": false,
     "title": ""
    }
   },
   "outputs": [
    {
     "output_type": "stream",
     "name": "stdout",
     "output_type": "stream",
     "text": [
      "The Data Frame has: 20097755 rows\n"
     ]
    }
   ],
   "source": [
    "# Display the number of rows, to answer Q1\n",
    "print(f\"The Data Frame has: {number_of_rows} rows\")"
   ]
  },
  {
   "cell_type": "markdown",
   "metadata": {
    "application/vnd.databricks.v1+cell": {
     "cellMetadata": {},
     "inputWidgets": {},
     "nuid": "82e468c2-355b-49a4-9091-6ff3c459a2c7",
     "showTitle": false,
     "title": ""
    }
   },
   "source": [
    "**Q2** Create a new DataFrame based on the previous step, with the following removed:\n",
    "1. Any participant that is not an actor or actress (as measured by the category column);\n",
    "1. All adult movies;\n",
    "1. All dead actors or actresses;\n",
    "1. All actors or actresses born before 1920 or with no date of birth listed;\n",
    "1. All titles that are not of the type movie.\n",
    "\n",
    "How many rows does your dataframe have?"
   ]
  },
  {
   "cell_type": "code",
   "execution_count": 0,
   "metadata": {
    "application/vnd.databricks.v1+cell": {
     "cellMetadata": {
      "byteLimit": 2048000,
      "rowLimit": 10000
     },
     "inputWidgets": {},
     "nuid": "59afd860-59d0-471a-ae8f-bcb28efea674",
     "showTitle": false,
     "title": ""
    }
   },
   "outputs": [
    {
     "output_type": "stream",
     "name": "stdout",
     "output_type": "stream",
     "text": [
      "+---------+---------+--------+--------+----+----------------------------------+----------------+---------+---------+-----------------------------------------+--------------------------------------------+---------+-----------------------------+-----------------------------+-------+---------+-------+--------------+-------------------------+-------------+--------+\n|tconst   |nconst   |ordering|category|job |characters                        |primaryName     |birthYear|deathYear|primaryProfession                        |knownForTitles                              |titleType|primaryTitle                 |originalTitle                |isAdult|startYear|endYear|runtimeMinutes|genres                   |averageRating|numVotes|\n+---------+---------+--------+--------+----+----------------------------------+----------------+---------+---------+-----------------------------------------+--------------------------------------------+---------+-----------------------------+-----------------------------+-------+---------+-------+--------------+-------------------------+-------------+--------+\n|tt0026455|nm0172237|10      |actress |NULL|[\"Marian Foster\"]                 |Cora Sue Collins|1927     |NULL     |[actress, soundtrack]                    |[tt0024895, tt0033405, tt0029844, tt0025747]|movie    |Harmony Lane                 |Harmony Lane                 |0      |1935     |NULL   |89            |[Biography, Drama, Music]|5.8          |125     |\n|tt0027663|nm1359047|10      |actress |NULL|NULL                              |Lilo Bergen     |1922     |NULL     |NULL                                     |[tt0248811, tt0129993, tt0028924, tt0032919]|movie    |Geheimnis eines alten Hauses |Geheimnis eines alten Hauses |0      |1936     |NULL   |87            |NULL                     |6.4          |16      |\n|tt0029638|nm0038535|5       |actress |NULL|[\"Hazel Barker\"]                  |Hazel Ascot     |1928     |NULL     |NULL                                     |[tt0283010, tt0029638, tt1445557]           |movie    |Talking Feet                 |Talking Feet                 |0      |1937     |NULL   |79            |NULL                     |6.1          |28      |\n|tt0032160|nm0092008|6       |actress |NULL|[\"Dcerka zraneného dílovedoucího\"]|Jirina Bohdalová|1931     |NULL     |[actress, writer, soundtrack]            |[tt0113027, tt0107672, tt2559232, tt0062332]|movie    |Zlaty clovek                 |Zlaty clovek                 |0      |1939     |NULL   |NULL          |NULL                     |5.2          |17      |\n|tt0033006|nm0190681|10      |actress |NULL|[\"Terka\"]                         |Erzsébet Cserba |1920     |NULL     |NULL                                     |[tt0033006, tt0032573]                      |movie    |Rózsafabot                   |Rózsafabot                   |0      |1940     |NULL   |86            |[Drama, Romance]         |7.4          |40      |\n|tt0034461|nm0798333|5       |actor   |NULL|[\"Carlitos\"]                      |Horácio Silva   |1930     |NULL     |NULL                                     |NULL                                        |movie    |Aniki Bóbó                   |Aniki Bóbó                   |0      |1942     |NULL   |71            |[Drama, Family]          |7.6          |1897    |\n|tt0035617|nm0924916|4       |actress |NULL|[\"Peggy Parker\"]                  |Jacqueline White|1922     |NULL     |[actress, archive_footage, archive_sound]|[tt0044954, tt0038938, tt0036407, tt0039659]|movie    |Air Raid Wardens             |Air Raid Wardens             |0      |1943     |NULL   |67            |NULL                     |6.1          |1226    |\n|tt0035826|nm0639684|7       |actress |NULL|[\"Margaret\"]                      |Margaret O'Brien|1937     |NULL     |[actress, writer, soundtrack]            |[tt0037059, tt0034923, tt3132614, tt0041855]|movie    |Dr. Gillespie's Criminal Case|Dr. Gillespie's Criminal Case|0      |1943     |NULL   |89            |[Crime, Drama, Mystery]  |6.1          |374     |\n|tt0036198|nm0750674|6       |actor   |NULL|[\"Dick\"]                          |Jerry Rush      |1930     |NULL     |NULL                                     |[tt0036198, tt0057733, tt0068138, tt0052504]|movie    |Nearly Eighteen              |Nearly Eighteen              |0      |1943     |NULL   |61            |[Comedy, Music, Romance] |5.5          |72      |\n|tt0037655|nm0751255|7       |actor   |NULL|[\"Howie Mossrock\"]                |Johnny Russell  |1933     |NULL     |NULL                                     |[tt0032264, tt0031507, tt0028814, tt0031887]|movie    |Don Juan Quilligan           |Don Juan Quilligan           |0      |1945     |NULL   |75            |NULL                     |5.9          |120     |\n+---------+---------+--------+--------+----+----------------------------------+----------------+---------+---------+-----------------------------------------+--------------------------------------------+---------+-----------------------------+-----------------------------+-------+---------+-------+--------------+-------------------------+-------------+--------+\nonly showing top 10 rows\n\n"
     ]
    }
   ],
   "source": [
    "# Step 1: Remove any participant that is not an actor or actress\n",
    "q2_df = q1_df.filter((col(\"category\") == \"actor\") | (col(\"category\") == \"actress\"))\n",
    "\n",
    "# Step 2: Remove all adult movies\n",
    "q2_df = q2_df.filter(col(\"isAdult\") == 0)\n",
    "\n",
    "# Step 3: Remove all dead actors or actresses\n",
    "q2_df = q2_df.filter(col(\"deathYear\").isNull())\n",
    "\n",
    "# Step 4: Remove all actors or actresses born before 1920 or with no date of birth listed\n",
    "q2_df = q2_df.filter((col(\"birthYear\").isNotNull()) & (col(\"birthYear\") >= 1920))\n",
    "\n",
    "# Step 5: Remove all titles that are not of the type movie\n",
    "q2_df = q2_df.filter(col(\"titleType\") == \"movie\")\n",
    "\n",
    "# Count the number of rows in the final DataFrame\n",
    "number_of_rows_filtered = q2_df.count()\n",
    "\n",
    "# Show the first 10 rows of the filtered DataFrame to verify\n",
    "q2_df.show(10, truncate=False)"
   ]
  },
  {
   "cell_type": "code",
   "execution_count": 0,
   "metadata": {
    "application/vnd.databricks.v1+cell": {
     "cellMetadata": {
      "byteLimit": 2048000,
      "rowLimit": 10000
     },
     "inputWidgets": {},
     "nuid": "7f200622-be01-40a9-8470-c4a916e55e75",
     "showTitle": false,
     "title": ""
    }
   },
   "outputs": [
    {
     "output_type": "stream",
     "name": "stdout",
     "output_type": "stream",
     "text": [
      "The Data Frame has 749253 rows\n"
     ]
    }
   ],
   "source": [
    "# Display the number of rows, to answer Q2\n",
    "print(f\"The Data Frame has {number_of_rows_filtered} rows\")"
   ]
  },
  {
   "cell_type": "markdown",
   "metadata": {
    "application/vnd.databricks.v1+cell": {
     "cellMetadata": {},
     "inputWidgets": {},
     "nuid": "cac5a4e3-37c5-4325-93f9-9289ca25f609",
     "showTitle": false,
     "title": ""
    }
   },
   "source": [
    "**Q3** Convert the above Dataframe to an RDD. Use map and reduce to create a paired RDD which counts how many movies each actor / actress appears in.\n",
    "\n",
    "Display names of the top 10 actors/actresses according to the number of movies in which they appeared. Be careful to deal with different actors / actresses with the same name, these could be different people."
   ]
  },
  {
   "cell_type": "code",
   "execution_count": 0,
   "metadata": {
    "application/vnd.databricks.v1+cell": {
     "cellMetadata": {
      "byteLimit": 2048000,
      "rowLimit": 10000
     },
     "inputWidgets": {},
     "nuid": "a1d1cb7e-ceeb-4191-b17d-783d1d80ac67",
     "showTitle": false,
     "title": ""
    },
    "vscode": {
     "languageId": "python"
    }
   },
   "outputs": [
    {
     "output_type": "stream",
     "name": "stdout",
     "output_type": "stream",
     "text": [
      "Brahmanandam: appeared in 798 movies\nJagathy Sreekumar: appeared in 514 movies\nShakti Kapoor: appeared in 476 movies\nMammootty: appeared in 411 movies\nMohanlal: appeared in 378 movies\nMithun Chakraborty: appeared in 370 movies\nAruna Irani: appeared in 368 movies\nAnupam Kher: appeared in 365 movies\nNassar: appeared in 365 movies\nTanikella Bharani: appeared in 365 movies\n"
     ]
    }
   ],
   "source": [
    "# Select the columns of interest (nconst and primaryName) from Q2 and convert it to an RDD\n",
    "q3_rdd = q2_df.select(\"nconst\", \"primaryName\").rdd\n",
    "\n",
    "# Create a paired RDD where the key is the actor/actress' nconst (to avoid potential situations of different actors/actresses having the same name being considered the same people) and the value is 1\n",
    "q3_rdd = q3_rdd.map(lambda row: (row[\"nconst\"], 1))\n",
    "\n",
    "# Use reduceByKey to count the number of movies for each actor/actress\n",
    "q3_rdd = q3_rdd.reduceByKey(lambda a, b: a + b)\n",
    "\n",
    "# Join the counts with the actor/actress names\n",
    "names_rdd = q2_df.select(\"nconst\", \"primaryName\").rdd.distinct().map(lambda row: (row[\"nconst\"], row[\"primaryName\"]))\n",
    "q3_rdd = q3_rdd.join(names_rdd)\n",
    "\n",
    "# Swap the key-value pairs to sort by the number of movies each actor/actress appears in\n",
    "q3_rdd_output = q3_rdd.map(lambda x: (x[1][0], x[1][1])).sortByKey(ascending=False)\n",
    "\n",
    "# Take the top 10 actors/actresses by movie appearances\n",
    "top_10_actors = q3_rdd_output.take(10)\n",
    "\n",
    "# Display the top 10 actors/actresses by movie appearances\n",
    "for count, name in top_10_actors:\n",
    "    print(f\"{name}: appeared in {count} movies\")"
   ]
  },
  {
   "cell_type": "markdown",
   "metadata": {
    "application/vnd.databricks.v1+cell": {
     "cellMetadata": {},
     "inputWidgets": {},
     "nuid": "7e440ede-62e5-4ad4-8f32-745453eb75ee",
     "showTitle": false,
     "title": ""
    }
   },
   "source": [
    "**Q4** Start with the dataframe from Q2. Generate a DataFrame that lists all links of your network. Here we shall consider that a link connects a pair of actors/actresses if they participated in at least one movie together (actors / actresses should be represented by their unique ID's). For every link we then need anytime a pair of actors were together in a movie as a link in each direction (A -> B and B -> A). However links should be distinct we do not need duplicates when two actors worked together in several movies. \n",
    "\n",
    "Display a DataFrame with the first 10 edges."
   ]
  },
  {
   "cell_type": "code",
   "execution_count": 0,
   "metadata": {
    "application/vnd.databricks.v1+cell": {
     "cellMetadata": {
      "byteLimit": 2048000,
      "rowLimit": 10000
     },
     "inputWidgets": {},
     "nuid": "83739e82-9947-4783-b873-1265ab2c0cdb",
     "showTitle": false,
     "title": ""
    },
    "vscode": {
     "languageId": "python"
    }
   },
   "outputs": [
    {
     "output_type": "stream",
     "name": "stdout",
     "output_type": "stream",
     "text": [
      "+---------+------------------+---------+------------------+\n|actor1   |Actor 1 Name      |actor2   |Actor 2 Name      |\n+---------+------------------+---------+------------------+\n|nm0279524|Gregor Fisher     |nm0517642|Phyllis Logan     |\n|nm0517642|Phyllis Logan     |nm0561155|Giovanni Mauriello|\n|nm0279524|Gregor Fisher     |nm0561155|Giovanni Mauriello|\n|nm0177320|Tommy Cook        |nm0571763|Harry McKim       |\n|nm0517642|Phyllis Logan     |nm0949942|Paul Young        |\n|nm0561155|Giovanni Mauriello|nm0949942|Paul Young        |\n|nm0279524|Gregor Fisher     |nm0949942|Paul Young        |\n|nm0149883|Fay Chaldecott    |nm0172237|Cora Sue Collins  |\n|nm0063929|Rene Beard        |nm0418152|Eilene Janssen    |\n|nm0177320|Tommy Cook        |nm0824222|Bob Stebbins      |\n+---------+------------------+---------+------------------+\nonly showing top 10 rows\n\n"
     ]
    }
   ],
   "source": [
    "# Function to create pairs of actors\n",
    "def create_pairs(actors):\n",
    "    \"\"\"\n",
    "    Create pairs of actors who acted in the same movie.\n",
    "    \n",
    "    Args:\n",
    "    actors (list): List of actors in a movie.\n",
    "    \n",
    "    Returns:\n",
    "    list: List of tuples containing pairs of actors in both directions.\n",
    "    \"\"\"\n",
    "    pairs = []\n",
    "    sorted_actors = sorted(actors)  # Sort actors to ensure consistent ordering and to avoid duplicates, for example (A, B) and (B, A)\n",
    "    n = len(sorted_actors)\n",
    "    for i in range(n):\n",
    "        for j in range(i + 1, n):\n",
    "            pairs.append((sorted_actors[i], sorted_actors[j]))  # Add pair (A, B) and (B, A)\n",
    "    return pairs\n",
    "\n",
    "# Register the UDF (User Defined Function)\n",
    "create_pairs_udf = udf(create_pairs, ArrayType(ArrayType(StringType())))\n",
    "\n",
    "# Step 1: Group by tconst (movie identification) and collect the list of nconst (actor identification)\n",
    "actors_grouped = q2_df.groupBy(\"tconst\").agg(collect_list(\"nconst\").alias(\"actors\"))\n",
    "\n",
    "# Step 2: Apply the UDF to create pairs of actors for each movie and explode the resulting pairs\n",
    "pairs_df = actors_grouped.withColumn(\"pairs\", explode(create_pairs_udf(col(\"actors\"))))\n",
    "\n",
    "# Step 3: Select the individual pairs and ensure each pair is unique\n",
    "q4_df = pairs_df.select(\n",
    "    col(\"pairs\").getItem(0).alias(\"actor1\"),  # Select the first actor in the pair\n",
    "    col(\"pairs\").getItem(1).alias(\"actor2\")   # Select the second actor in the pair\n",
    ").distinct()  # Ensure each pair is unique\n",
    "\n",
    "# Step 4: Join with q2_df DataFrame to get primaryName for actor1\n",
    "q4_df = q4_df.join(\n",
    "    q2_df.select(\"nconst\", \"primaryName\").distinct(),                    # Select distinct nconst and primaryName from q2_df\n",
    "    q4_df.actor1 == q2_df.nconst,                                        # Join condition: actor1 in q4_df matches nconst in q2_df\n",
    "    \"left\"                                                               # Left join to keep all actor1 even if there's no match in q2_df\n",
    ").withColumnRenamed(\"primaryName\", \"Actor 1 Name\").drop(\"nconst\")        # Rename the primaryName column to \"Actor 1 Name\"\n",
    "                                                                         # Drop the nconst column to avoid ambiguity in subsequent joins\n",
    "\n",
    "# Step 5: Join with q2_df DataFrame to get primaryName for actor2\n",
    "q4_df = q4_df.join(\n",
    "    q2_df.select(\"nconst\", \"primaryName\").distinct(),                    # Select distinct nconst and primaryName from q2_df\n",
    "    q4_df.actor2 == q2_df.nconst,                                        # Join condition: actor2 in q4_df matches nconst in q2_df\n",
    "    \"left\"                                                               # Left join to keep all actor2 even if there's no match in q2_df\n",
    ").withColumnRenamed(\"primaryName\", \"Actor 2 Name\").drop(\"nconst\")        # Rename the primaryName column to \"Actor 2 Name\"\n",
    "                                                                         # Drop the nconst column to avoid ambiguity\n",
    "\n",
    "# Step 6: Display the first 10 edges with actor names\n",
    "q4_df.select(\"actor1\", \"Actor 1 Name\", \"actor2\", \"Actor 2 Name\").show(10, truncate=False)"
   ]
  },
  {
   "cell_type": "markdown",
   "metadata": {
    "application/vnd.databricks.v1+cell": {
     "cellMetadata": {},
     "inputWidgets": {},
     "nuid": "cd6e0c4e-0fb0-4c61-947f-39d63fdf27cf",
     "showTitle": false,
     "title": ""
    }
   },
   "source": [
    "**Q5** Compute the page rank of each actor. This can be done using GraphFrames or\n",
    "by using RDDs and the iterative implementation of the PageRank algorithm. Do not take\n",
    "more than 5 iterations and use reset probility = 0.1.\n",
    "\n",
    "List the top 10 actors / actresses by pagerank."
   ]
  },
  {
   "cell_type": "code",
   "execution_count": 0,
   "metadata": {
    "application/vnd.databricks.v1+cell": {
     "cellMetadata": {
      "byteLimit": 2048000,
      "rowLimit": 10000
     },
     "inputWidgets": {},
     "nuid": "7c17ae27-90a9-4855-8f09-527393ead56a",
     "showTitle": false,
     "title": ""
    }
   },
   "outputs": [
    {
     "output_type": "stream",
     "name": "stdout",
     "output_type": "stream",
     "text": [
      "+---------+----------------+------------------+\n|id       |primaryName     |pagerank          |\n+---------+----------------+------------------+\n|nm0000616|Eric Roberts    |48.71990343037742 |\n|nm0000514|Michael Madsen  |30.008493679902248|\n|nm0001803|Danny Trejo     |22.23336086939524 |\n|nm0202966|Keith David     |21.45265045274668 |\n|nm0261724|Joe Estevez     |20.79757260482764 |\n|nm0000448|Lance Henriksen |20.6681468318118  |\n|nm0000532|Malcolm McDowell|20.19561624739266 |\n|nm0001595|Michael Paré    |19.973561116547785|\n|nm0726223|Richard Riehle  |19.112720789082935|\n|nm0000367|Gérard Depardieu|18.67106559026893 |\n+---------+----------------+------------------+\nonly showing top 10 rows\n\n"
     ]
    }
   ],
   "source": [
    "# Create a DataFrame for vertices with distinct actor IDs\n",
    "actor_ids = q4_df.select(col(\"actor1\").alias(\"id\")).union(q4_df.select(col(\"actor2\").alias(\"id\"))).distinct()\n",
    "\n",
    "# Create a DataFrame for edges\n",
    "edges = q4_df.select(col(\"actor1\").alias(\"src\"), col(\"actor2\").alias(\"dst\"))\n",
    "\n",
    "# Create a GraphFrame from the vertices and edges\n",
    "graph = GraphFrame(actor_ids, edges)\n",
    "\n",
    "# Compute PageRank using GraphFrames, keeping at maximum 5 iterations and a reset probability of 0.1\n",
    "results = graph.pageRank(resetProbability=0.1, maxIter=5)\n",
    "\n",
    "# Get all actors/actresses' PageRank and order by the PageRank from the highest to lowest\n",
    "q5_df = results.vertices.orderBy(\"pagerank\", ascending=False)\n",
    "\n",
    "# Join with the Q2 DataFrame to show the actors/actresses' names   \n",
    "q5_df_with_names = q5_df.join(q2_df.select(\"nconst\", \"primaryName\").distinct(), q5_df.id == q2_df.nconst, \"left\") \\\n",
    "                        .select(\"id\", \"primaryName\", \"pagerank\") \\\n",
    "                        .orderBy(\"pagerank\", ascending=False)\n",
    "\n",
    "# Display the top 10 actors/actresses by PageRank with their names\n",
    "q5_df_with_names.show(10, truncate=False)"
   ]
  },
  {
   "cell_type": "markdown",
   "metadata": {
    "application/vnd.databricks.v1+cell": {
     "cellMetadata": {},
     "inputWidgets": {},
     "nuid": "ebfc5b76-2ccf-4318-a655-f48fd047cedb",
     "showTitle": false,
     "title": ""
    }
   },
   "source": [
    "**Q6**: Create an RDD with the number of outDegrees for each actor. Display the top 10 by outdegrees."
   ]
  },
  {
   "cell_type": "code",
   "execution_count": 0,
   "metadata": {
    "application/vnd.databricks.v1+cell": {
     "cellMetadata": {
      "byteLimit": 2048000,
      "rowLimit": 10000
     },
     "inputWidgets": {},
     "nuid": "6fc31988-7367-4b75-9a54-cd9e7e13cf6b",
     "showTitle": false,
     "title": ""
    },
    "vscode": {
     "languageId": "python"
    }
   },
   "outputs": [
    {
     "output_type": "stream",
     "name": "stdout",
     "output_type": "stream",
     "text": [
      "+---------+-----------------+---------+\n|id       |primaryName      |outDegree|\n+---------+-----------------+---------+\n|nm0000616|Eric Roberts     |1118     |\n|nm0000514|Michael Madsen   |789      |\n|nm0451600|Anupam Kher      |723      |\n|nm0000367|Gérard Depardieu |658      |\n|nm0202966|Keith David      |657      |\n|nm0621937|Nassar           |642      |\n|nm0410902|Renji Ishibashi  |624      |\n|nm0256628|Akira Emoto      |617      |\n|nm0695177|Prakash Raj      |607      |\n|nm0000168|Samuel L. Jackson|605      |\n+---------+-----------------+---------+\nonly showing top 10 rows\n\n"
     ]
    }
   ],
   "source": [
    "# Calculate outDegrees for each actor/actress\n",
    "outdegrees = graph.outDegrees\n",
    "\n",
    "# Convert to an RDD\n",
    "q6_rdd = outdegrees.rdd\n",
    "\n",
    "# Convert the RDD back to a DataFrame for printing purposes\n",
    "q6_df = q6_rdd.toDF([\"id\", \"outDegree\"])\n",
    "\n",
    "# Join with the Q2 DataFrame to get the actor/actresses' names\n",
    "q6_df_with_names = q6_df.join(q2_df.select(\"nconst\", \"primaryName\").distinct(), q6_df.id == q2_df.nconst, \"left\") \\\n",
    "                        .select(\"id\", \"primaryName\", \"outDegree\") \\\n",
    "                        .orderBy(col(\"outDegree\").desc())\n",
    "\n",
    "# Display the top 10 actors/actresses by outDegrees\n",
    "q6_df_with_names.show(10, truncate=False)"
   ]
  },
  {
   "cell_type": "markdown",
   "metadata": {
    "application/vnd.databricks.v1+cell": {
     "cellMetadata": {},
     "inputWidgets": {},
     "nuid": "3a15dc25-3e0f-4400-9207-127bcfdaee1f",
     "showTitle": false,
     "title": ""
    }
   },
   "source": [
    "### Let’s play Kevin’s own game\n",
    "\n",
    "**Q7** Start with the graphframe / dataframe you developed in the previous questions. Using Spark GraphFrame and/or Spark Core library perform the following steps:\n",
    "\n",
    "1. Identify the id of Kevin Bacon, there are two actors named ‘Kevin Bacon’, we will use the one with the highest degree, that is, the one that participated in most titles;\n",
    "1. Estimate the shortest path between every actor in the database actors and Kevin Bacon, keep a dataframe with this information as you will need it later;\n",
    "1. Summarise the data, that is, count the number of actors at each number of degress from kevin bacon (you will need to deal with actors unconnected to kevin bacon, if not connected to Kevin Bacon given these actors / actresses a score/degree of 20)."
   ]
  },
  {
   "cell_type": "markdown",
   "metadata": {
    "application/vnd.databricks.v1+cell": {
     "cellMetadata": {},
     "inputWidgets": {},
     "nuid": "5e3ddddd-1a1f-4d80-baf2-d16ebb9a3753",
     "showTitle": false,
     "title": ""
    }
   },
   "source": [
    "### Step 1: Identify the id of Kevin Bacon, there are two actors named ‘Kevin Bacon’, we will use the one with the highest degree, that is, the one that participated in most titles"
   ]
  },
  {
   "cell_type": "code",
   "execution_count": 0,
   "metadata": {
    "application/vnd.databricks.v1+cell": {
     "cellMetadata": {
      "byteLimit": 2048000,
      "rowLimit": 10000
     },
     "inputWidgets": {},
     "nuid": "68593435-ced4-46d1-b65b-28c78b2726b2",
     "showTitle": false,
     "title": ""
    },
    "vscode": {
     "languageId": "python"
    }
   },
   "outputs": [
    {
     "output_type": "stream",
     "name": "stdout",
     "output_type": "stream",
     "text": [
      "Kevin Bacon ID with highest degree: nm0000102, Degree: 670\n"
     ]
    }
   ],
   "source": [
    "# Filter to find both Kevin Bacon's nconsts\n",
    "kevin_bacon_df = q2_df.filter(col(\"primaryName\") == \"Kevin Bacon\").select(\"nconst\").distinct()\n",
    "\n",
    "# Collect Kevin Bacon's nconsts as a list\n",
    "kevin_bacon_ids = [row[\"nconst\"] for row in kevin_bacon_df.collect()]\n",
    "\n",
    "# Compute degrees for all actors/actresses\n",
    "degrees = graph.degrees\n",
    "\n",
    "# Filter degrees to find the Kevin Bacon with the highest degree\n",
    "kevin_bacon_degrees = degrees.filter(degrees.id.isin(kevin_bacon_ids)).orderBy(desc(\"degree\"))\n",
    "\n",
    "# Get the ID of Kevin Bacon with the highest degree\n",
    "kevin_bacon_row = kevin_bacon_degrees.first()\n",
    "kevin_bacon_id = kevin_bacon_row[\"id\"]\n",
    "kevin_bacon_degree = kevin_bacon_row[\"degree\"]\n",
    "\n",
    "print(f\"Kevin Bacon ID with highest degree: {kevin_bacon_id}, Degree: {kevin_bacon_degree}\")"
   ]
  },
  {
   "cell_type": "markdown",
   "metadata": {
    "application/vnd.databricks.v1+cell": {
     "cellMetadata": {},
     "inputWidgets": {},
     "nuid": "7f92429e-8ee3-4c7f-93b4-41d6f0f3ecf0",
     "showTitle": false,
     "title": ""
    }
   },
   "source": [
    "### Step 2: Estimate the shortest path between every actor in the database actors and Kevin Bacon, keep a dataframe with this information as you will need it later;"
   ]
  },
  {
   "cell_type": "code",
   "execution_count": 0,
   "metadata": {
    "application/vnd.databricks.v1+cell": {
     "cellMetadata": {
      "byteLimit": 2048000,
      "rowLimit": 10000
     },
     "inputWidgets": {},
     "nuid": "8ab3b368-eaf3-460a-bc16-65facb494768",
     "showTitle": false,
     "title": ""
    }
   },
   "outputs": [
    {
     "output_type": "stream",
     "name": "stdout",
     "output_type": "stream",
     "text": [
      "+----------+------------------+--------+\n|id        |primaryName       |distance|\n+----------+------------------+--------+\n|nm0000198 |Gary Oldman       |1       |\n|nm0000362 |Danny DeVito      |2       |\n|nm0008161 |Seif Abdelrahman  |4       |\n|nm0068551 |Tobin Bell        |2       |\n|nm0091035 |Kim Bodnia        |3       |\n|nm0209670 |Matet De Leon     |4       |\n|nm0212204 |Paolo De Vita     |3       |\n|nm0350453 |Jake Gyllenhaal   |2       |\n|nm0482652 |Lin-Lin Li        |4       |\n|nm0606396 |Brad Morris       |4       |\n|nm0877270 |Glynn Turman      |2       |\n|nm0911320 |Patrick Warburton |2       |\n|nm0933264 |David Wilson      |2       |\n|nm0962618 |Vanessa Terkes    |3       |\n|nm12135812|Kim Gun-ho        |4       |\n|nm1492443 |Rayver Cruz       |4       |\n|nm1594301 |Jae-hyeong Jeon   |3       |\n|nm2418386 |Niksa Butijer     |3       |\n|nm3236159 |Paul Walter Hauser|2       |\n|nm4434808 |Jenn Lyon         |3       |\n+----------+------------------+--------+\nonly showing top 20 rows\n\n"
     ]
    }
   ],
   "source": [
    "# Compute shortest paths from Kevin Bacon to all other actors/actresses\n",
    "shortest_paths = graph.shortestPaths(landmarks=[kevin_bacon_id])\n",
    "\n",
    "# Extract the distance from the shortest paths\n",
    "q7_df = shortest_paths.withColumn(\"distance\", col(\"distances\").getItem(kevin_bacon_id)).select(\"id\", \"distance\")\n",
    "\n",
    "# Assign a score of 20 to unconnected actors/actresses (where distance is null)\n",
    "q7_df = q7_df.withColumn(\"distance\", col(\"distance\").cast(\"int\")).fillna(20, subset=[\"distance\"])\n",
    "\n",
    "# Join with the Q2 DataFrame to show the actor/actresses' names\n",
    "q7_df_with_names = q7_df.join(q2_df.select(\"nconst\", \"primaryName\").distinct(), q7_df.id == q2_df.nconst, \"left\") \\\n",
    "                        .select(\"id\", \"primaryName\", \"distance\")\n",
    "\n",
    "# Show the first 20 actors/actresses and their corresponding distances to verify the success of the operations\n",
    "q7_df_with_names.show(20, truncate=False)"
   ]
  },
  {
   "cell_type": "markdown",
   "metadata": {
    "application/vnd.databricks.v1+cell": {
     "cellMetadata": {},
     "inputWidgets": {},
     "nuid": "306c4db9-0dca-4401-8ae5-715ae593ba35",
     "showTitle": false,
     "title": ""
    }
   },
   "source": [
    "### Step 3: Summarise the data, that is, count the number of actors at each number of degress from kevin bacon (you will need to deal with actors unconnected to kevin bacon, if not connected to Kevin Bacon given these actors / actresses a score/degree of 20)."
   ]
  },
  {
   "cell_type": "code",
   "execution_count": 0,
   "metadata": {
    "application/vnd.databricks.v1+cell": {
     "cellMetadata": {
      "byteLimit": 2048000,
      "rowLimit": 10000
     },
     "inputWidgets": {},
     "nuid": "8973bbf5-e83e-49c5-8973-4f255ed8a167",
     "showTitle": false,
     "title": ""
    }
   },
   "outputs": [
    {
     "output_type": "stream",
     "name": "stdout",
     "output_type": "stream",
     "text": [
      "+--------+-----+\n|distance|count|\n+--------+-----+\n|       0|    1|\n|       1|  334|\n|       2|13312|\n|       3|54194|\n|       4|38612|\n|       5| 4052|\n|       6|  319|\n|       7|   32|\n|       8|    3|\n|      20| 3841|\n+--------+-----+\n\n"
     ]
    }
   ],
   "source": [
    "# Summarize the data by counting the number of actors/actresses at each degree of distance from Kevin Bacon\n",
    "summary_q7_df = q7_df.groupBy(\"distance\").count().orderBy(\"distance\")\n",
    "\n",
    "# Show the summarized data as output\n",
    "summary_q7_df.show()"
   ]
  },
  {
   "cell_type": "markdown",
   "metadata": {
    "application/vnd.databricks.v1+cell": {
     "cellMetadata": {},
     "inputWidgets": {},
     "nuid": "72a70135-807b-4130-840e-d5df28102136",
     "showTitle": false,
     "title": ""
    }
   },
   "source": [
    "### Exploring the data with RDD's\n",
    "\n",
    "Using RDDs and (not dataframes) answer the following questions (if you loaded your data into spark in a dataframe you can convert to an RDD of rows easily using `.rdd`):\n",
    "\n",
    "**Q8** Movies can have multiple genres. Considering only titles of the type 'movie' what is the combination of genres that is the most popluar (as measured by number of reviews). Hint: paired RDD's will be useful."
   ]
  },
  {
   "cell_type": "code",
   "execution_count": 0,
   "metadata": {
    "application/vnd.databricks.v1+cell": {
     "cellMetadata": {
      "byteLimit": 2048000,
      "rowLimit": 10000
     },
     "inputWidgets": {},
     "nuid": "d6a1b626-786d-4115-b11e-6914743cf919",
     "showTitle": false,
     "title": ""
    }
   },
   "outputs": [
    {
     "output_type": "stream",
     "name": "stdout",
     "output_type": "stream",
     "text": [
      "+---------+---------+--------+---------------+--------+--------------------+--------------------+---------+---------+--------------------+--------------------+---------+--------------------+--------------------+-------+---------+-------+--------------+------------------+-------------+--------+\n|   tconst|   nconst|ordering|       category|     job|          characters|         primaryName|birthYear|deathYear|   primaryProfession|      knownForTitles|titleType|        primaryTitle|       originalTitle|isAdult|startYear|endYear|runtimeMinutes|            genres|averageRating|numVotes|\n+---------+---------+--------+---------------+--------+--------------------+--------------------+---------+---------+--------------------+--------------------+---------+--------------------+--------------------+-------+---------+-------+--------------+------------------+-------------+--------+\n|tt0000658|nm0169871|       1|       director|    NULL|                NULL|          Émile Cohl|     1857|     1938|[director, animat...|[tt1003400, tt100...|    short|The Puppet's Nigh...|Le cauchemar de F...|      0|     1908|   NULL|             2|[Animation, Short]|          6.4|     292|\n|tt0001732|nm0790137|       1|          actor|    NULL|     [\"Bert Duncan\"]|     William E. Shay|     1866|     NULL|[actor, archive_f...|[tt0326077, tt000...|    short|The Lighthouse Ke...|The Lighthouse Ke...|      0|     1911|   NULL|          NULL|    [Drama, Short]|          7.2|      19|\n|tt0001732|nm0532996|       5|          actor|    NULL|   [\"Wedding Guest\"]|        Hayward Mack|     1882|     1921|[actor, director,...|[tt0012522, tt000...|    short|The Lighthouse Ke...|The Lighthouse Ke...|      0|     1911|   NULL|          NULL|    [Drama, Short]|          7.2|      19|\n|tt0001732|nm0480674|       8|       producer|producer|                NULL|        Carl Laemmle|     1867|     1939|[producer, miscel...|[tt0021884, tt002...|    short|The Lighthouse Ke...|The Lighthouse Ke...|      0|     1911|   NULL|          NULL|    [Drama, Short]|          7.2|      19|\n|tt0001732|nm0408436|       7|       director|    NULL|                NULL|      Thomas H. Ince|     1880|     1924|[producer, miscel...|[tt0005193, tt000...|    short|The Lighthouse Ke...|The Lighthouse Ke...|      0|     1911|   NULL|          NULL|    [Drama, Short]|          7.2|      19|\n|tt0001732|nm0681931|       6|        actress|    NULL|   [\"Wedding Guest\"]|     Lottie Pickford|     1895|     1936|[actress, archive...|[tt0005302, tt000...|    short|The Lighthouse Ke...|The Lighthouse Ke...|      0|     1911|   NULL|          NULL|    [Drama, Short]|          7.2|      19|\n|tt0001732|nm0531759|       3|          actor|    NULL|[\"Nat Berry - The...|J. Farrell MacDonald|     1875|     1952|[actor, director,...|[tt0018455, tt003...|    short|The Lighthouse Ke...|The Lighthouse Ke...|      0|     1911|   NULL|          NULL|    [Drama, Short]|          7.2|      19|\n|tt0001732|nm0367556|       4|          actor|    NULL|      [\"Tom Atkins\"]|         Jack Harvey|     1881|     1954|[director, actor,...|[tt0325458, tt000...|    short|The Lighthouse Ke...|The Lighthouse Ke...|      0|     1911|   NULL|          NULL|    [Drama, Short]|          7.2|      19|\n|tt0001732|nm0681933|       2|        actress|    NULL|[\"Polly Berry - t...|       Mary Pickford|     1892|     1979|[actress, produce...|[tt0019788, tt001...|    short|The Lighthouse Ke...|The Lighthouse Ke...|      0|     1911|   NULL|          NULL|    [Drama, Short]|          7.2|      19|\n|tt0002253|nm0005658|      14|cinematographer|    NULL|                NULL|         G.W. Bitzer|     1872|     1944|[cinematographer,...|[tt0004972, tt000...|    short|          Home Folks|          Home Folks|      0|     1912|   NULL|            17|    [Drama, Short]|          5.1|      15|\n|tt0002253|nm0262757|      10|          actor|    NULL|   [\"Outside Dance\"]|         Frank Evans|     1849|     1934|[actor, archive_f...|[tt0362731, tt000...|    short|          Home Folks|          Home Folks|      0|     1912|   NULL|            17|    [Drama, Short]|          5.1|      15|\n|tt0002253|nm0524306|       5|          actor|    NULL|  [\"The Blacksmith\"]|       Wilfred Lucas|     1871|     1940|[actor, director,...|[tt0027977, tt001...|    short|          Home Folks|          Home Folks|      0|     1912|   NULL|            17|    [Drama, Short]|          5.1|      15|\n|tt0002253|nm0537556|       2|          actor|    NULL|[\"The Young Woman...| Charles Hill Mailes|     1870|     1937|[actor, archive_f...|[tt0005525, tt001...|    short|          Home Folks|          Home Folks|      0|     1912|   NULL|            17|    [Drama, Short]|          5.1|      15|\n|tt0002253|nm0043018|       8|          actor|    NULL|   [\"At Barn Dance\"]|       Charles Avery|     1873|     1926|[actor, director,...|[tt0004260, tt000...|    short|          Home Folks|          Home Folks|      0|     1912|   NULL|            17|    [Drama, Short]|          5.1|      15|\n|tt0002253|nm0366008|       4|          actor|    NULL|[\"The Young Woman...|       Robert Harron|     1893|     1920|[actor, art_depar...|[tt0006864, tt000...|    short|          Home Folks|          Home Folks|      0|     1912|   NULL|            17|    [Drama, Short]|          5.1|      15|\n|tt0002253|nm0115524|       3|        actress|    NULL|[\"The Young Woman...|          Kate Bruce|     1860|     1946|[actress, archive...|[tt0006745, tt001...|    short|          Home Folks|          Home Folks|      0|     1912|   NULL|            17|    [Drama, Short]|          5.1|      15|\n|tt0002253|nm0681933|       1|        actress|    NULL| [\"The Young Woman\"]|       Mary Pickford|     1892|     1979|[actress, produce...|[tt0019788, tt001...|    short|          Home Folks|          Home Folks|      0|     1912|   NULL|            17|    [Drama, Short]|          5.1|      15|\n|tt0002253|nm0000428|      12|       director|    NULL|                NULL|       D.W. Griffith|     1875|     1948|[director, writer...|[tt0004972, tt000...|    short|          Home Folks|          Home Folks|      0|     1912|   NULL|            17|    [Drama, Short]|          5.1|      15|\n|tt0002253|nm0141035|       9|          actor|    NULL|   [\"At Barn Dance\"]|  William A. Carroll|     1875|     1928|                NULL|[tt0009940, tt000...|    short|          Home Folks|          Home Folks|      0|     1912|   NULL|            17|    [Drama, Short]|          5.1|      15|\n|tt0002253|nm0331049|      11|          actor|    NULL|         [\"A Mover\"]|      Charles Gorman|     1865|     1928|                NULL|[tt0009721, tt024...|    short|          Home Folks|          Home Folks|      0|     1912|   NULL|            17|    [Drama, Short]|          5.1|      15|\n+---------+---------+--------+---------------+--------+--------------------+--------------------+---------+---------+--------------------+--------------------+---------+--------------------+--------------------+-------+---------+-------+--------------+------------------+-------------+--------+\nonly showing top 20 rows\n\n"
     ]
    }
   ],
   "source": [
    "# A reminder of how the q1_df DataFrame looks like\n",
    "q1_df.show()"
   ]
  },
  {
   "cell_type": "markdown",
   "metadata": {
    "application/vnd.databricks.v1+cell": {
     "cellMetadata": {},
     "inputWidgets": {},
     "nuid": "5a13ffa1-1c50-478b-8278-1edc2d1b4b41",
     "showTitle": false,
     "title": ""
    }
   },
   "source": [
    "**Note:**\n",
    "\n",
    "Since Q8 is asking for the most popular combination of genres as measured by the number of reviews only for movies, we understood that it did not make sense to use the filtered Data Frame we created on Question 2. As a result, we decided it would make more sense to ask this question using the original DataFrame created on Question 1, which has all the needed information with no filters."
   ]
  },
  {
   "cell_type": "code",
   "execution_count": 0,
   "metadata": {
    "application/vnd.databricks.v1+cell": {
     "cellMetadata": {
      "byteLimit": 2048000,
      "rowLimit": 10000
     },
     "inputWidgets": {},
     "nuid": "a9207e59-b22f-46bf-8737-8297e001c0f0",
     "showTitle": false,
     "title": ""
    },
    "vscode": {
     "languageId": "python"
    }
   },
   "outputs": [
    {
     "output_type": "stream",
     "name": "stdout",
     "output_type": "stream",
     "text": [
      "The most popular genre combination by number of reviews is ('Action', 'Adventure', 'Sci-Fi') with 1322880435 reviews\n"
     ]
    }
   ],
   "source": [
    "# Convert the Q1 dataframe to an RDD\n",
    "q8_rdd = q1_df.rdd\n",
    "\n",
    "# Step 1: Filter for movies only\n",
    "q8_rdd = q8_rdd.filter(lambda row: row.titleType == \"movie\")\n",
    "\n",
    "# Step 2: Extract genres and number of votes\n",
    "# Filter out rows where genres or numVotes are None\n",
    "# Flatmap will help us split genres and create (genre_combination, numVotes) pairs\n",
    "# The sorted part is to ensure that, regardless of the order, combinations containing the same genres are treated as the same. For example, we want the combinations [Romance, Adventure] and [Aventure, Romance] to be considered the same combination, so that the paired RDD (genre_combination, numVotes) can be created\n",
    "q8_rdd = q8_rdd.filter(lambda row: row.genres is not None and row.numVotes is not None).flatMap(lambda row: [(tuple(sorted(row.genres)), row.numVotes)])\n",
    "\n",
    "# Step 3: Sum the number of votes for each genre combination\n",
    "q8_rdd = q8_rdd.reduceByKey(lambda x, y: x + y)\n",
    "\n",
    "# Step 4: Find the most popular genre combination\n",
    "most_popular_genre_combination = q8_rdd.takeOrdered(1, key=lambda x: -x[1])\n",
    "\n",
    "print(f'The most popular genre combination by number of reviews is {most_popular_genre_combination[0][0]} with {most_popular_genre_combination[0][1]} reviews')"
   ]
  },
  {
   "cell_type": "markdown",
   "metadata": {
    "application/vnd.databricks.v1+cell": {
     "cellMetadata": {},
     "inputWidgets": {},
     "nuid": "d01f24fc-3580-452b-aa71-403b80a48ee7",
     "showTitle": false,
     "title": ""
    }
   },
   "source": [
    "**Q9** Movies can have multiple genres. Considering only titles of the type 'movie', and movies with more than 400 ratings, what is the combination of genres that has the highest **average movie rating** (you can average the movie rating for each movie in that genre combination). Hint: paired RDD's will be useful."
   ]
  },
  {
   "cell_type": "markdown",
   "metadata": {
    "application/vnd.databricks.v1+cell": {
     "cellMetadata": {},
     "inputWidgets": {},
     "nuid": "d188b194-8dd4-41c0-bc8f-1cfb29791f2e",
     "showTitle": false,
     "title": ""
    }
   },
   "source": [
    "**Note:**\n",
    "\n",
    "Since Q9 is asking for the most popular combination of genres as measured by the average movie rating only for movies, we understood that it did not make sense to use the filtered Data Frame we created on Question 2. As a result, we decided it would make more sense to answer this question using the original DataFrame created on Question 1, which has all the needed information with no filters."
   ]
  },
  {
   "cell_type": "code",
   "execution_count": 0,
   "metadata": {
    "application/vnd.databricks.v1+cell": {
     "cellMetadata": {
      "byteLimit": 2048000,
      "rowLimit": 10000
     },
     "inputWidgets": {},
     "nuid": "23a9c054-2de9-46d4-b24f-b76a259d6fb6",
     "showTitle": false,
     "title": ""
    },
    "vscode": {
     "languageId": "python"
    }
   },
   "outputs": [
    {
     "output_type": "stream",
     "name": "stdout",
     "output_type": "stream",
     "text": [
      "The genre combination with the highest average movie rating is ('Action', 'Documentary', 'Mystery') with an average movie rating of 8.30\n"
     ]
    }
   ],
   "source": [
    "# Convert the Q1 DataFrame to an RDD\n",
    "q9_rdd = q1_df.rdd\n",
    "\n",
    "# Step 1: Filter for movies only and those with more than 400 ratings\n",
    "q9_rdd = q9_rdd.filter(lambda row: row.titleType == \"movie\" and row.numVotes is not None and row.numVotes > 400)\n",
    "\n",
    "# Step 2: Extract genres and average rating\n",
    "# Filter out rows where genres or averageRating are None\n",
    "# FlatMap will help us split genres and create (genre_combination, (averageRating, 1)) pairs\n",
    "# The sorted part is to ensure that, regardless of the order, combinations containing the same genres are treated as the same. For example, we want the combinations [Romance, Adventure] and [Aventure, Romance] to be considered the same combination, so that the paired RDD (genre_combination, (averageRating, 1)) can be created\n",
    "q9_rdd = q9_rdd.filter(lambda row: row.genres is not None and row.averageRating is not None).flatMap(lambda row: [(tuple(sorted(row.genres)), (row.averageRating, 1))])\n",
    "\n",
    "# Step 3: Aggregate ratings and count the number of ratings per genre combination\n",
    "q9_rdd = q9_rdd.reduceByKey(lambda x, y: (x[0] + y[0], x[1] + y[1]))\n",
    "\n",
    "# Step 4: Calculate the average rating for each genre combination\n",
    "q9_rdd = q9_rdd.mapValues(lambda x: x[0] / x[1])\n",
    "\n",
    "# Step 5: Find the top genre combination with the highest average rating\n",
    "top_1_avg_rating_genre_combination = q9_rdd.takeOrdered(1, key=lambda x: -x[1])\n",
    "\n",
    "# Print the top genre combination by average rating\n",
    "if top_1_avg_rating_genre_combination:\n",
    "    genre_combination, avg_rating = top_1_avg_rating_genre_combination[0]\n",
    "    print(f'The genre combination with the highest average movie rating is {genre_combination} with an average movie rating of {avg_rating:.2f}')\n",
    "else:\n",
    "    print(\"No valid genre combinations found.\")"
   ]
  },
  {
   "cell_type": "markdown",
   "metadata": {
    "application/vnd.databricks.v1+cell": {
     "cellMetadata": {},
     "inputWidgets": {},
     "nuid": "82f2eccb-2c6b-46b4-97b4-4865ec799d81",
     "showTitle": false,
     "title": ""
    }
   },
   "source": [
    "**Q10** Movies can have multiple genres. What is **the individual genre** which is the most popular as meaured by number of votes. Votes for multiple genres count towards each genre listed. Hint: flatmap and pairedRDD's will be useful here."
   ]
  },
  {
   "cell_type": "markdown",
   "metadata": {
    "application/vnd.databricks.v1+cell": {
     "cellMetadata": {},
     "inputWidgets": {},
     "nuid": "f8d47b59-96ee-4dbd-a60a-252d314a5e18",
     "showTitle": false,
     "title": ""
    }
   },
   "source": [
    "**Note:**\n",
    "\n",
    "Since Q10 is asking for the most popular individual genre as measured by the number of votes only for movies, we understood that it did not make sense to use the filtered Data Frame we created on Question 2. As a result, we decided it would make more sense to answer this question using the original DataFrame created on Question 1, which has all the needed information with no filters."
   ]
  },
  {
   "cell_type": "code",
   "execution_count": 0,
   "metadata": {
    "application/vnd.databricks.v1+cell": {
     "cellMetadata": {
      "byteLimit": 2048000,
      "rowLimit": 10000
     },
     "inputWidgets": {},
     "nuid": "b02cf251-0143-465f-b3af-6ea15d310545",
     "showTitle": false,
     "title": ""
    },
    "vscode": {
     "languageId": "python"
    }
   },
   "outputs": [
    {
     "output_type": "stream",
     "name": "stdout",
     "output_type": "stream",
     "text": [
      "The most popular individual genre as measured by number of votes is Drama with 11339607542 votes\n"
     ]
    }
   ],
   "source": [
    "# Convert the Q1 DataFrame to an RDD\n",
    "q10_rdd = q1_df.rdd\n",
    "\n",
    "# Step 1: Filter for movies only\n",
    "q10_rdd = q10_rdd.filter(lambda row: row.titleType == \"movie\")\n",
    "\n",
    "# Step 2: Extract individual genres and number of votes\n",
    "# Filter out rows where genres or numVotes are None\n",
    "# FlatMap will help us split genres and create (genre, numVotes) pairs\n",
    "q10_rdd = q10_rdd.filter(lambda row: row.genres is not None and row.numVotes is not None).flatMap(lambda row: [(genre, row.numVotes) for genre in row.genres])\n",
    "\n",
    "# Step 3: Sum the number of votes for each genre\n",
    "q10_rdd = q10_rdd.reduceByKey(lambda x, y: x + y)\n",
    "\n",
    "# Step 4: Find the top genre by number of votes\n",
    "top_genres = q10_rdd.takeOrdered(1, key=lambda x: -x[1]) \n",
    "\n",
    "# Step 5: Retrieve the most popular genre and its number of votes\n",
    "genre, num_votes = top_genres[0]\n",
    "\n",
    "print(f'The most popular individual genre as measured by number of votes is {genre} with {num_votes} votes')"
   ]
  },
  {
   "cell_type": "markdown",
   "metadata": {
    "application/vnd.databricks.v1+cell": {
     "cellMetadata": {},
     "inputWidgets": {},
     "nuid": "5c34dffe-aaee-419a-a24a-91c5b590760f",
     "showTitle": false,
     "title": ""
    }
   },
   "source": [
    "## Engineering the perfect cast\n",
    "We have created a number of potential features for predicting the rating of a movie based on its cast. Use sparkML to build a simple linear model to predict the rating of a movie based on the following features:\n",
    "\n",
    "1. The total number of movies in which the actors / actresses have acted (based on Q3)\n",
    "1. The average pagerank of the cast in each movie (based on Q5)\n",
    "1. The average outDegree of the cast in each movie (based on Q6)\n",
    "1. The average value for for the cast of degrees of Kevin Bacon (based on Q7).\n",
    "\n",
    "You will need to create a dataframe with the required features and label. Use a pipeline to create the vectors required by sparkML and apply the model. Remember to split your dataset, leave 30% of the data for testing, when splitting your data use the option seed=0.\n",
    "\n",
    "**Q11** Provide the coefficients of the regression and the accuracy of your model on that test dataset according to RSME."
   ]
  },
  {
   "cell_type": "markdown",
   "metadata": {
    "application/vnd.databricks.v1+cell": {
     "cellMetadata": {
      "byteLimit": 2048000,
      "rowLimit": 10000
     },
     "inputWidgets": {},
     "nuid": "95b512dd-b2e1-4250-8b3d-c8a50657d496",
     "showTitle": false,
     "title": ""
    },
    "vscode": {
     "languageId": "python"
    }
   },
   "source": [
    "### Feature 1: The total number of movies in which the actors / actresses have acted (based on Q3)"
   ]
  },
  {
   "cell_type": "code",
   "execution_count": 0,
   "metadata": {
    "application/vnd.databricks.v1+cell": {
     "cellMetadata": {
      "byteLimit": 2048000,
      "rowLimit": 10000
     },
     "inputWidgets": {},
     "nuid": "6dfdec32-a262-45f9-a3d8-b59cf8405037",
     "showTitle": false,
     "title": ""
    }
   },
   "outputs": [
    {
     "output_type": "execute_result",
     "data": {
      "text/plain": [
       "[('nm0000198', (69, 'Gary Oldman')),\n",
       " ('nm0114931', (10, 'Wren T. Brown')),\n",
       " ('nm0423730', (2, 'Håkan Johannesson')),\n",
       " ('nm0857851', (1, 'Nikolaj Thide')),\n",
       " ('nm0876255', (5, 'Olivier Tuinier')),\n",
       " ('nm0136399', (6, 'Steve Cardenas')),\n",
       " ('nm0668241', (17, 'Carl Anthony Payne II')),\n",
       " ('nm0947166', (4, 'Jason Yee')),\n",
       " ('nm1148917', (1, 'Dion Gossett')),\n",
       " ('nm0276150', (1, 'Joy Fielding')),\n",
       " ('nm0427274', (12, 'Kumari Joemol')),\n",
       " ('nm0602383', (4, 'Galina Morachyova')),\n",
       " ('nm4344820', (3, 'Teoman Aksoy')),\n",
       " ('nm1997609', (1, 'Vivienne Dick')),\n",
       " ('nm0394123', (2, 'Bobb Hopkins')),\n",
       " ('nm0110756', (2, 'Leonard Brockwell')),\n",
       " ('nm0895741', (2, 'Betina Vianny')),\n",
       " ('nm0810729', (9, 'Victoria Smurfit')),\n",
       " ('nm2320600', (3, 'Luis Angel Pinasco')),\n",
       " ('nm0258783', (14, 'Selim Erdogan')),\n",
       " ('nm0375246', (4, 'Sofi Helleday')),\n",
       " ('nm1283243', (1, 'Mario Helguera')),\n",
       " ('nm1099196', (1, 'Zlatko Ozbolt')),\n",
       " ('nm1961687', (1, 'Andreas Buntscheck')),\n",
       " ('nm0194571', (11, 'Gloria Cámara')),\n",
       " ('nm0330375', (2, 'Krzysztof Gordon')),\n",
       " ('nm0542706', (13, 'Danny Mann')),\n",
       " ('nm0046033', (36, 'Diedrich Bader')),\n",
       " ('nm0324720', (8, 'Ivan Gogál')),\n",
       " ('nm0235550', (5, 'Jenna Dover')),\n",
       " ('nm1299200', (1, 'Lluís Elias')),\n",
       " ('nm0716188', (1, 'Dianne Reeves')),\n",
       " ('nm1690265', (2, 'Aysun Metiner')),\n",
       " ('nm0264672', (5, 'Fabienne Fabre')),\n",
       " ('nm1938492', (6, 'Hsuan Li')),\n",
       " ('nm0455176', (2, 'Reina King')),\n",
       " ('nm0229810', (38, 'Fyodor Dobronravov')),\n",
       " ('nm0299873', (1, 'Lisa G.')),\n",
       " ('nm2482187', (1, 'Jindra Rathová')),\n",
       " ('nm0382967', (1, 'Tahitia Hicks')),\n",
       " ('nm0202528', (2, 'Dave')),\n",
       " ('nm1320600', (31, 'César Bordón')),\n",
       " ('nm1065585', (11, 'Chang Mi-hee')),\n",
       " ('nm1300787', (1, 'Anne Maasik')),\n",
       " ('nm0790919', (2, 'Aleksey Sheynin')),\n",
       " ('nm0422531', (9, 'Olivera Jezina')),\n",
       " ('nm0022094', (4, 'Miri Aloni')),\n",
       " ('nm0726175', (2, 'Gerd Rigauer')),\n",
       " ('nm0008118', (5, 'Pavel Abdalov')),\n",
       " ('nm0370729', (9, 'Dennis Hayden')),\n",
       " ('nm0015382', (22, 'Adewale Akinnuoye-Agbaje')),\n",
       " ('nm0408846', (10, 'Lee Ingleby')),\n",
       " ('nm0151668', (5, 'Christina Chang')),\n",
       " ('nm0706153', (5, 'Joachim Rafaelsen')),\n",
       " ('nm1195405', (5, 'Camila MacLennan')),\n",
       " ('nm1418764', (4, 'Harry Michell')),\n",
       " ('nm3664406', (9, 'Bae Soo-bin')),\n",
       " ('nm2892930', (1, 'Krista Meadows')),\n",
       " ('nm0804957', (3, 'Jadwiga Skupnik')),\n",
       " ('nm0501911', (1, 'Deirdre Lenihan')),\n",
       " ('nm0245612', (26, 'Lech Dyblik')),\n",
       " ('nm0344936', (2, 'Nikolaus Gröbe')),\n",
       " ('nm0835001', (8, 'Johnny Strong')),\n",
       " ('nm1498920', (1, 'Jaclyn Dietl')),\n",
       " ('nm0758736', (2, 'Riitta Salminen')),\n",
       " ('nm0115671', (26, 'Agnes Bruckner')),\n",
       " ('nm0120705', (4, 'Raffaele Buranelli')),\n",
       " ('nm0257025', (6, 'Niklas Engdahl')),\n",
       " ('nm1937112', (15, 'Tom Lodewyck')),\n",
       " ('nm0925966', (42, 'Bradley Whitford')),\n",
       " ('nm0402105', (4, 'Paul Humpoletz')),\n",
       " ('nm0147073', (1, 'Brenda Cavendish')),\n",
       " ('nm0748075', (27, 'Jennifer Rubin')),\n",
       " ('nm0052051', (9, 'Nis Bank-Mikkelsen')),\n",
       " ('nm0648764', (20, 'Yûrei Yanagi')),\n",
       " ('nm0433678', (2, 'Per Jörnelius')),\n",
       " ('nm0061693', (2, 'Pippo Baudo')),\n",
       " ('nm0773290', (1, 'Katja Schmidt-Oehm')),\n",
       " ('nm1742602', (6, 'Manish Wadhwa')),\n",
       " ('nm1257057', (1, 'Miikka Enbuske')),\n",
       " ('nm0459570', (3, 'Matthias Klimsa')),\n",
       " ('nm2379066', (6, 'Elizabeth Di Prinzio')),\n",
       " ('nm0554578', (34, 'Ana Martín')),\n",
       " ('nm0138608', (11, 'Stella Carnacina')),\n",
       " ('nm0846961', (7, 'Reiko Tajima')),\n",
       " ('nm0398550', (1, 'Marta Hradílková')),\n",
       " ('nm0412046', (3, 'Igor Ivanov')),\n",
       " ('nm5396858', (2, 'Tomoko Aizawa')),\n",
       " ('nm0581927', (1, 'Michael Mesmer')),\n",
       " ('nm0286022', (7, 'Amanda Foreman')),\n",
       " ('nm0883996', (2, 'Mathew Valencia')),\n",
       " ('nm0796316', (26, 'Clément Sibony')),\n",
       " ('nm0421541', (6, 'Kandeyce Jorden')),\n",
       " ('nm0726356', (3, 'Ruth Rieser')),\n",
       " ('nm0157185', (1, 'Bruno Chiche')),\n",
       " ('nm1631667', (34, 'Ramya')),\n",
       " ('nm0577416', (6, 'Pertti Melasniemi')),\n",
       " ('nm0220663', (1, 'Gilbert DeRush')),\n",
       " ('nm0869082', (1, 'Calle Torén')),\n",
       " ('nm0668589', (2, 'Sara Paz')),\n",
       " ('nm0690577', (1, 'Alber Ponte')),\n",
       " ('nm0788482', (6, 'Shel Shapiro')),\n",
       " ('nm0510340', (4, 'Håvard Lilleheie')),\n",
       " ('nm1340370', (13, 'Brian Caspe')),\n",
       " ('nm0758382', (1, 'Nora Salinas')),\n",
       " ('nm0030925', (1, 'Kate Anthony')),\n",
       " ('nm1795071', (2, 'Beto Cuevas')),\n",
       " ('nm0084597', (8, 'Olga Bityukova')),\n",
       " ('nm0412690', (13, 'Miguel Iza')),\n",
       " ('nm0739960', (2, 'Neil Ronco')),\n",
       " ('nm0479608', (6, 'Emmanuelle Laborit')),\n",
       " ('nm2002740', (1, 'Tracey Flint')),\n",
       " ('nm1087183', (13, 'Cung Le')),\n",
       " ('nm3619308', (10, 'Mei Yong')),\n",
       " ('nm1234301', (11, 'Sung Hyun-ah')),\n",
       " ('nm0294557', (4, 'Douglas Frey')),\n",
       " ('nm0064777', (4, 'Terry Beaver')),\n",
       " ('nm0212635', (4, 'Lucy Deakins')),\n",
       " ('nm0390285', (22, 'Kris Holden-Ried')),\n",
       " ('nm0776625', (1, 'Garth Schumacher')),\n",
       " ('nm0559421', (8, 'Masaru Matsuda')),\n",
       " ('nm0076447', (2, 'Erika Bernardi')),\n",
       " ('nm0945355', (1, 'Takashi Yamaguchi')),\n",
       " ('nm1268276', (2, 'Thomas Doucet')),\n",
       " ('nm1146916', (8, 'Eliza Bennett')),\n",
       " ('nm0106013', (8, 'Bart Braverman')),\n",
       " ('nm0269208', (15, 'Jannie Faurschou')),\n",
       " ('nm0677521', (1, 'Tino Petilli')),\n",
       " ('nm0269909', (14, 'Ray Fearon')),\n",
       " ('nm0440447', (1, 'Dylan Kasch')),\n",
       " ('nm1410687', (3, 'Jamal Duff')),\n",
       " ('nm2702093', (1, 'Gustav Langberg Hossy')),\n",
       " ('nm0936771', (1, 'Shane Withington')),\n",
       " ('nm0889662', (1, 'Lizzi Varencke')),\n",
       " ('nm0000536', (2, 'Robert Duncan McNeill')),\n",
       " ('nm1000496', (2, 'Neda Bric')),\n",
       " ('nm0917838', (1, 'Rafer Weigel')),\n",
       " ('nm0155693', (21, 'Kristin Chenoweth')),\n",
       " ('nm1574827', (9, 'Maria Popistasu')),\n",
       " ('nm0369202', (23, 'Sabine Haudepin')),\n",
       " ('nm0385976', (14, 'Darby Hinton')),\n",
       " ('nm0688675', (4, 'Eija Pokkinen')),\n",
       " ('nm0466965', (1, 'Katharina Koschny')),\n",
       " ('nm0277168', (23, 'Recep Filiz')),\n",
       " ('nm0404067', (1, 'Eva Husson')),\n",
       " ('nm1846447', (9, 'Kata Bartsch')),\n",
       " ('nm0450033', (11, 'Manou Kersting')),\n",
       " ('nm0146708', (7, 'Tom Cavalcante')),\n",
       " ('nm1689442', (3, 'Pernille Vallentin')),\n",
       " ('nm0938176', (4, 'Stuart Wolfenden')),\n",
       " ('nm0295747', (17, 'Nelly Frijda')),\n",
       " ('nm0171811', (26, 'Yann Collette')),\n",
       " ('nm0068622', (6, 'Rachael Bella')),\n",
       " ('nm0434011', (1, 'Patrick Kabakdjian')),\n",
       " ('nm1679608', (1, 'Antónia Bálint')),\n",
       " ('nm0758150', (1, 'Sam Saletta')),\n",
       " ('nm0718957', (5, 'Leah Remini')),\n",
       " ('nm0488686', (3, 'Sarit Larry')),\n",
       " ('nm0153100', (20, 'Melissa Fahn')),\n",
       " ('nm2028782', (4, 'Bartosz Turzynski')),\n",
       " ('nm0052830', (5, 'Ferenc Baracsi')),\n",
       " ('nm0719053', (1, 'Dudley Remus')),\n",
       " ('nm0081945', (7, 'Rodolfo Bigotti')),\n",
       " ('nm0606261', (1, 'Joshua Morrell')),\n",
       " ('nm0622989', (1, 'Pepe Navarro')),\n",
       " ('nm0698183', (11, 'Shanti Priya')),\n",
       " ('nm0813893', (11, 'Geraldine Somerville')),\n",
       " ('nm0464677', (18, 'Tamaki Komiyama')),\n",
       " ('nm0168339', (2, 'Doug Cockle')),\n",
       " ('nm1468403', (3, 'Dylan Patton')),\n",
       " ('nm2247245', (25, 'Haley Bennett')),\n",
       " ('nm0071290', (7, 'Christopher Benjamin')),\n",
       " ('nm0680352', (2, 'Demetre Phillips')),\n",
       " ('nm0019587', (4, 'Dominique Saint Claire')),\n",
       " ('nm0820218', (13, 'Jelica Sretenovic')),\n",
       " ('nm0132064', (24, 'Bernard Campan')),\n",
       " ('nm0238183', (1, 'Jakub Drocar')),\n",
       " ('nm0121616', (3, 'Bryan Burke')),\n",
       " ('nm0006713', (15, 'Rachael Harris')),\n",
       " ('nm1086593', (2, 'Gleb Soshnikov')),\n",
       " ('nm1474908', (4, 'Ursula Renneke')),\n",
       " ('nm0590535', (3, 'Vujadin Milosevic')),\n",
       " ('nm1252256', (1, 'Ramiro Longo')),\n",
       " ('nm2429666', (3, 'Francesco Baccini')),\n",
       " ('nm0070194', (1, 'Cheryl Benard')),\n",
       " ('nm0048949', (5, 'Susan Baker')),\n",
       " ('nm0514648', (4, 'Rich Little')),\n",
       " ('nm0840965', (4, 'Lars Svedberg')),\n",
       " ('nm0022443', (1, 'Manuela Alphons')),\n",
       " ('nm0559342', (2, 'Alla Maltseva')),\n",
       " ('nm1035730', (3, 'Victor McCay')),\n",
       " ('nm1975849', (3, 'Devon Marcel Clark III')),\n",
       " ('nm0810747', (5, 'Karel Smyczek')),\n",
       " ('nm0709354', (8, 'Kôju Ran')),\n",
       " ('nm0899391', (5, 'Gunta Virkava')),\n",
       " ('nm0931465', (7, 'Peter Williams')),\n",
       " ('nm0437032', (13, 'Hiro Kanagawa')),\n",
       " ('nm0375709', (2, 'Cay Helmich')),\n",
       " ('nm0905515', (1, 'Stuart Wade')),\n",
       " ('nm0193510', (1, 'Sonny Curtis')),\n",
       " ('nm0451719', (1, 'Vyacheslav Khodchenko')),\n",
       " ('nm0217370', (2, 'Marco Della Noce')),\n",
       " ('nm1172944', (2, 'Arzu Os')),\n",
       " ('nm1151381', (6, 'Atticus Todd')),\n",
       " ('nm1291787', (3, 'Merita Dabulla')),\n",
       " ('nm1346461', (1, 'Sayuri Ishikawa')),\n",
       " ('nm0912598', (1, 'Steven Warner')),\n",
       " ('nm0738189', (1, 'Frederick Rolf')),\n",
       " ('nm0396671', (1, 'Joey House')),\n",
       " ('nm1222346', (1, 'Sílvia Regina')),\n",
       " ('nm7922599', (5, 'Ayten Koçak')),\n",
       " ('nm1711829', (9, 'Steven Strait')),\n",
       " ('nm1855651', (10, 'Berke Üzrek')),\n",
       " ('nm0438092', (95, 'Dimple Kapadia')),\n",
       " ('nm0637973', (1, 'Luísa Nunes')),\n",
       " ('nm0014654', (3, 'Marja-Sisko Aimonen')),\n",
       " ('nm0800799', (2, 'Maria Simonsson')),\n",
       " ('nm0159017', (5, 'Alexandra Bokyun Chun')),\n",
       " ('nm4564972', (8, 'Jonathan Wing Hong Cheung')),\n",
       " ('nm0640913', (4, 'Damien Odoul')),\n",
       " ('nm0153002', (1, 'Craig Charles')),\n",
       " ('nm0715117', (1, 'François Rodon')),\n",
       " ('nm0001762', (22, 'Jill St. John')),\n",
       " ('nm0130816', (1, 'Keith Calvert')),\n",
       " ('nm0787669', (4, 'Viktor Shakhov')),\n",
       " ('nm1025594', (2, 'Robert Duncan')),\n",
       " ('nm0540935', (19, 'Irina Malysheva')),\n",
       " ('nm0859921', (30, 'Brian Thompson')),\n",
       " ('nm0324458', (10, 'Fred Goessens')),\n",
       " ('nm1345551', (18, 'Karen Badalov')),\n",
       " ('nm0042316', (8, 'Alana Austin')),\n",
       " ('nm0718728', (1, 'Lucie Rejchrtová')),\n",
       " ('nm0331426', (7, 'Ewa Gorzelak')),\n",
       " ('nm0514380', (1, 'Marti Litis')),\n",
       " ('nm0240381', (21, 'Hilary Duff')),\n",
       " ('nm0492259', (2, 'Mariya Lavrova')),\n",
       " ('nm0935561', (2, 'Alexus Winston')),\n",
       " ('nm1063038', (1, 'Ashley Thewlis')),\n",
       " ('nm1534812', (5, 'Ridge Canipe')),\n",
       " ('nm0223698', (7, 'Peppino Di Capri')),\n",
       " ('nm0549457', (55, 'Akaji Maro')),\n",
       " ('nm0310532', (6, 'Erica Gavin')),\n",
       " ('nm1039861', (2, 'Marina Dobrovolskaya')),\n",
       " ('nm0779415', (1, 'Karey-Louis Scott')),\n",
       " ('nm0258905', (52, 'Halil Ergün')),\n",
       " ('nm0164898', (1, 'Mary Ruth Clarke')),\n",
       " ('nm0563748', (6, 'Achero Mañas')),\n",
       " ('nm0652278', (8, 'Dominika Ostalowska')),\n",
       " ('nm0065561', (4, 'Randy Becker')),\n",
       " ('nm0241033', (3, 'Zack Duhame')),\n",
       " ('nm0031277', (10, 'Giovanna Antonelli')),\n",
       " ('nm0961121', (17, 'Gabriella Hámori')),\n",
       " ('nm1229801', (6, 'Roque Valero')),\n",
       " ('nm0339080', (1, 'Caryn Greenhut')),\n",
       " ('nm1946532', (3, 'Mariko Takahashi')),\n",
       " ('nm0770309', (1, 'Eva Schauland')),\n",
       " ('nm0552713', (2, 'Lucy Martin')),\n",
       " ('nm0699437', (2, 'Geof Prysirr')),\n",
       " ('nm0657556', (1, 'Giancarlo Palermo')),\n",
       " ('nm0847328', (1, 'Aya Takanashi')),\n",
       " ('nm0243789', (1, 'Guillaume Durand')),\n",
       " ('nm0871993', (4, 'Ken Tremblett')),\n",
       " ('nm0829537', (6, 'Jon Stewart')),\n",
       " ('nm0670350', (25, 'Filip Peeters')),\n",
       " ('nm0332562', (9, 'Alain Goulem')),\n",
       " ('nm1047726', (29, 'Christoph Bach')),\n",
       " ('nm1118888', (13, 'Ayaka Maeda')),\n",
       " ('nm1189809', (4, 'Simon Jul Jørgensen')),\n",
       " ('nm1316789', (3, 'Sepo Seeman')),\n",
       " ('nm0481329', (11, 'David Scott Lago')),\n",
       " ('nm0453704', (2, 'Kim Tae-yeon')),\n",
       " ('nm0151293', (34, 'Leena Chandavarkar')),\n",
       " ('nm0382013', (2, 'Celia Hewitt')),\n",
       " ('nm0002139', (21, 'Judd Hirsch')),\n",
       " ('nm0667135', (3, 'Peter Pauli')),\n",
       " ('nm0406699', (11, 'Yoshie Ichige')),\n",
       " ('nm1128113', (1, 'Ray Carney')),\n",
       " ('nm0296546', (13, 'Nika Futterman')),\n",
       " ('nm1172879', (1, 'Ondrej Neff')),\n",
       " ('nm0116460', (5, 'Cinzia Bruno')),\n",
       " ('nm0116809', (3, 'Susanne Bruun-Koppel')),\n",
       " ('nm0485120', (11, 'Lou Landré')),\n",
       " ('nm0060506', (13, 'Fanny Bastien')),\n",
       " ('nm0004272', (12, 'Paul Hipp')),\n",
       " ('nm0771070', (5, 'Elsje Scherjon')),\n",
       " ('nm0231677', (27, 'Aleksandr Domogarov')),\n",
       " ('nm0053891', (9, 'Gabriella Barbuti')),\n",
       " ('nm0758436', (2, 'Benjamin Salisbury')),\n",
       " ('nm0912270', (2, 'Todd Waring')),\n",
       " ('nm0369560', (1, 'Sigrid Hauser')),\n",
       " ('nm0511943', (14, 'Natacha Lindinger')),\n",
       " ('nm0741461', (17, 'Jeff Rose')),\n",
       " ('nm0017861', (2, 'Gleb Aleynikov')),\n",
       " ('nm0972458', (1, 'Katya Gorina')),\n",
       " ('nm1007073', (8, 'Taymour Ghazi')),\n",
       " ('nm1846933', (4, 'Türkan Kiliç')),\n",
       " ('nm1427720', (1, 'Jason Michaels')),\n",
       " ('nm1530336', (2, 'Tiffany Marie Wilson')),\n",
       " ('nm2746310', (5, 'Kerem Can')),\n",
       " ('nm0913843', (37, 'Misako Watanabe')),\n",
       " ('nm0537944', (1, 'Colin Maitland')),\n",
       " ('nm0000246', (103, 'Bruce Willis')),\n",
       " ('nm0787783', (3, 'Valeri Shalnykh')),\n",
       " ('nm0273650', (24, 'Maritoni Fernandez')),\n",
       " ('nm0573809', (1, 'Kane McNay')),\n",
       " ('nm0971135', (14, 'Craig Parkinson')),\n",
       " ('nm1593437', (1, 'Awana Gana')),\n",
       " ('nm0316501', (1, 'Juliane Gibbins')),\n",
       " ('nm0100235', (3, 'Robert Bousquet')),\n",
       " ('nm0755205', (4, 'Salli Sachse')),\n",
       " ('nm0594465', (54, 'Junko Miyashita')),\n",
       " ('nm1142713', (2, 'Tatyana Sidorenko')),\n",
       " ('nm0005159', (7, 'Tone Loc')),\n",
       " ('nm0038673', (6, 'William Ash')),\n",
       " ('nm0029176', (8, 'Arnaldo André')),\n",
       " ('nm0971402', (1, 'Alice Connor')),\n",
       " ('nm1194190', (1, 'Douglas Coupland')),\n",
       " ('nm0659579', (11, 'Jörg Panknin')),\n",
       " ('nm0555709', (3, 'France Mary')),\n",
       " ('nm1151908', (2, 'Joe Camp')),\n",
       " ('nm0219027', (1, 'Jie Deng')),\n",
       " ('nm0847490', (3, 'Takatoshi Takeda')),\n",
       " ('nm4104993', (9, 'Lyudmila Davydova')),\n",
       " ('nm0901286', (3, 'Dimitrije Vojnov')),\n",
       " ('nm1070422', (1, 'Touta Tarumi')),\n",
       " ('nm0454447', (1, 'Anastasia King')),\n",
       " ('nm1189966', (15, 'Iva Krajnc')),\n",
       " ('nm1458108', (6, 'Pyotr Buslov')),\n",
       " ('nm1456114', (12, 'Alban Ukaj')),\n",
       " ('nm0829723', (1, 'Paula Stewart')),\n",
       " ('nm0532675', (5, 'Krzysztof Machowski')),\n",
       " ('nm0797610', (24, 'Sigurður Sigurjónsson')),\n",
       " ('nm0223806', (4, 'Luigi Di Fiore')),\n",
       " ('nm0083217', (15, 'Antonio Birabent')),\n",
       " ('nm1085551', (1, 'Kristina Hanzalová')),\n",
       " ('nm0556005', (3, 'Jeanne Mas')),\n",
       " ('nm1215758', (3, 'Katsutoshi Arata')),\n",
       " ('nm0467416', (2, 'Mitchell Kosterman')),\n",
       " ('nm3750581', (2, 'Lee Yong-joo')),\n",
       " ('nm1840504', (25, 'Tiffany Haddish')),\n",
       " ('nm0440465', (3, 'David Kasday')),\n",
       " ('nm8444818', (1, 'Ricky Vera')),\n",
       " ('nm0346315', (25, 'Orso Maria Guerrini')),\n",
       " ('nm0177393', (1, 'Cherrod Cook')),\n",
       " ('nm0199626', (8, 'Floriane Daniel')),\n",
       " ('nm0822790', (1, 'Pat Stanton')),\n",
       " ('nm0451092', (3, 'Christel Khalil')),\n",
       " ('nm0004966', (7, 'Bill Goldberg')),\n",
       " ('nm0900246', (1, 'Gladys Vivas')),\n",
       " ('nm0506858', (3, 'Malgorzata Lewinska')),\n",
       " ('nm1245609', (7, 'Biboy Ramirez')),\n",
       " ('nm0546431', (2, 'Roberto Marelli')),\n",
       " ('nm0949744', (25, 'Karen Young')),\n",
       " ('nm0750220', (1, 'Kicki Rundgren')),\n",
       " ('nm0403240', (4, 'Heikki Huopainen')),\n",
       " ('nm0097304', (6, 'Alicia Borrachero')),\n",
       " ('nm0539816', (4, 'Sabra Malkinson')),\n",
       " ('nm1899494', (1, 'Jean-Christophe Jeauffre')),\n",
       " ('nm0660107', (1, 'Nick Paonessa')),\n",
       " ('nm0778532', (6, 'Franca Sciutto')),\n",
       " ('nm0192076', (5, 'Mico Cundari')),\n",
       " ('nm0847826', (13, 'Vladimir Talashko')),\n",
       " ('nm0382570', (1, 'Peter Hick')),\n",
       " ('nm0123078', (6, 'Maryedith Burrell')),\n",
       " ('nm0296675', (1, 'Sarah Rosen Fruitman')),\n",
       " ('nm0931879', (11, 'Victor Williams')),\n",
       " ('nm1812523', (13, 'Nathalie Cox')),\n",
       " ('nm0922616', (11, 'Meg Westergren')),\n",
       " ('nm0199359', (1, 'Sylvia Daneel')),\n",
       " ('nm0125488', (2, 'Bjarne Buur')),\n",
       " ('nm0456372', (2, 'Gelena Kirik')),\n",
       " ('nm0005420', (25, 'Marley Shelton')),\n",
       " ('nm0753548', (1, 'Piotr Rzymyszkiewicz')),\n",
       " ('nm0458468', (2, 'Jeremy Klavens')),\n",
       " ('nm0735714', (8, 'Alicia Rodríguez')),\n",
       " ('nm0677590', (1, 'Michel Petit')),\n",
       " ('nm0517884', (5, 'Gerd Lohmeyer')),\n",
       " ('nm0410631', (5, 'Peter Isacksen')),\n",
       " ('nm0066656', (1, 'Elisabet Befrits')),\n",
       " ('nm7303106', (1, 'Reon Argondian')),\n",
       " ('nm0677597', (1, 'Philippe Petit')),\n",
       " ('nm0217254', (2, \"Ramona Dell'Abate\")),\n",
       " ('nm0175042', (1, 'Katherine Connella')),\n",
       " ('nm0722209', (14, 'Johan Rheborg')),\n",
       " ('nm0172301', (4, 'Emmy Collins')),\n",
       " ('nm0769214', (1, 'Greg Scarnici')),\n",
       " ('nm0046900', (4, 'Abdelkrim Bahloul')),\n",
       " ('nm1182987', (6, 'Federico Fontán')),\n",
       " ('nm1336288', (2, 'Marina Zubanova')),\n",
       " ('nm0174731', (8, 'Markus Konká')),\n",
       " ('nm1082659', (5, 'Peggy Vrijens')),\n",
       " ('nm0787519', (6, 'Ohad Shahar')),\n",
       " ('nm0020845', (1, 'Kamian Allen')),\n",
       " ('nm0799238', (4, 'Ana María Simón')),\n",
       " ('nm0903833', (8, 'Vagelis Voulgaridis')),\n",
       " ('nm0782416', (1, 'Bia Seidl')),\n",
       " ('nm0993573', (4, 'Reiko Kayama')),\n",
       " ('nm0074945', (2, 'Beatrice Bergner')),\n",
       " ('nm2301950', (5, 'Dakota Blue Richards')),\n",
       " ('nm0137088', (3, 'Margaret Cargill')),\n",
       " ('nm0082848', (181, 'Bindu Desai')),\n",
       " ('nm1570601', (1, 'János Dóczy')),\n",
       " ('nm0753934', (1, 'Ellen Röhrman')),\n",
       " ('nm0775812', (1, 'Katharina Schubert')),\n",
       " ('nm0693936', (3, 'Darya Poverennova')),\n",
       " ('nm0123951', (11, 'Adam Busch')),\n",
       " ('nm1368718', (3, 'Pascal Sellem')),\n",
       " ('nm0629481', (1, 'Kate Nicholls')),\n",
       " ('nm0374956', (6, 'Christopher Heldman')),\n",
       " ('nm0309404', (17, 'Johanna Gastdorf')),\n",
       " ('nm0690456', (3, 'Matthias Ponnier')),\n",
       " ('nm0717176', (12, 'Anne Reid')),\n",
       " ('nm0022045', (18, 'Raik Alniaçik')),\n",
       " ('nm0974364', (16, 'Jonathan Cherry')),\n",
       " ('nm0183481', (2, 'Lindsey Coulson')),\n",
       " ('nm1625753', (1, 'Jan Saudek')),\n",
       " ('nm0604688', (1, 'Glen Morgan')),\n",
       " ('nm0814276', (2, 'Jia Song')),\n",
       " ('nm0044762', (39, 'Obba Babatundé')),\n",
       " ('nm1415637', (2, 'Lloyd Garner III')),\n",
       " ('nm1654483', (1, 'Nadav Abuksis')),\n",
       " ('nm1896736', (6, 'Haaz Sleiman')),\n",
       " ('nm0650735', (2, 'Ines Orsini')),\n",
       " ('nm1411824', (1, 'Aleksander Kornel')),\n",
       " ('nm0000952', (20, 'Hart Bochner')),\n",
       " ('nm0476077', (3, 'Martin Kurtén')),\n",
       " ('nm0943237', (12, 'Robert Wuhl')),\n",
       " ('nm0001491', (40, 'Melanie Lynskey')),\n",
       " ('nm0832665', (6, 'Antonio Stornaiolo')),\n",
       " ('nm0491394', (6, 'Darcy Laurie')),\n",
       " ('nm0119532', (10, 'Stomy Bugsy')),\n",
       " ('nm1630992', (12, 'Madeline Carroll')),\n",
       " ('nm0462582', (2, 'Michal Kocourek')),\n",
       " ('nm0991884', (7, 'Kou Machida')),\n",
       " ('nm0115663', (3, 'Jane Brucker')),\n",
       " ('nm0681203', (1, 'Antoine Pialat')),\n",
       " ('nm0533305', (6, 'Georgia Mackenzie')),\n",
       " ('nm1112144', (1, 'Yumi Tamai')),\n",
       " ('nm0764701', (2, 'Jessica Sara')),\n",
       " ('nm1434772', (15, 'Giovanni Calcagno')),\n",
       " ('nm1975751', (2, 'Alessandra Pierelli')),\n",
       " ('nm0774714', (3, 'Theresa Scholze')),\n",
       " ('nm2132101', (1, 'Luis Koellar')),\n",
       " ('nm1055638', (9, 'Seon-tae Ju')),\n",
       " ('nm0072628', (1, 'Robert Benson')),\n",
       " ('nm0880813', (12, 'Martin Umbach')),\n",
       " ('nm2024176', (8, 'Ahmad Seyam')),\n",
       " ('nm0393682', (2, 'Mike Hoolboom')),\n",
       " ('nm0864592', (3, 'Tomas Tivemark')),\n",
       " ('nm2683997', (2, 'Othello Rensoli')),\n",
       " ('nm0855429', (32, 'Shinobu Terajima')),\n",
       " ('nm1309446', (1, 'Sandra Blázquez')),\n",
       " ('nm1029798', (2, 'Federico Greco')),\n",
       " ('nm1179803', (4, 'Andrea Montenegro')),\n",
       " ('nm0001189', (1, 'Gabriel Yared')),\n",
       " ('nm0529518', (5, 'Joachim Lätsch')),\n",
       " ('nm0541098', (1, 'Yuri Mamin')),\n",
       " ('nm0084524', (1, 'Pierre Bittencourt')),\n",
       " ('nm0111272', (1, 'Clark Heathcliff Brolly')),\n",
       " ('nm0094846', (3, 'Jean-Pierre Bonnefous')),\n",
       " ('nm0456388', (5, 'Denis Kirillov')),\n",
       " ('nm0398461', (1, 'Erich Hoyt')),\n",
       " ('nm1313634', (2, 'Vera Baranyai')),\n",
       " ('nm1416479', (1, 'Jill Nicolini')),\n",
       " ('nm1446997', (1, 'Robbyne Manning')),\n",
       " ('nm1523600', (4, 'Yûsuke Izaki')),\n",
       " ('nm0243986', (8, 'Juraj Durdiak')),\n",
       " ('nm0731798', (1, 'David M. Robertson')),\n",
       " ('nm0757726', (6, 'Manuel Salazar')),\n",
       " ('nm0535023', (1, 'Paolo Magelli')),\n",
       " ('nm0436499', (2, 'Jürgen Christoph Kamcke')),\n",
       " ('nm0173427', (1, 'Mikael Colville-Andersen')),\n",
       " ('nm1513729', (1, 'Yaman Coskun')),\n",
       " ('nm1346115', (1, 'Jan Fabre')),\n",
       " ('nm3538718', (14, 'Nick Robinson')),\n",
       " ('nm1652814', (2, 'Sophie Hannah')),\n",
       " ('nm0919518', (2, 'Bruce Welch')),\n",
       " ('nm0019927', (1, 'George Allan')),\n",
       " ('nm0229313', (8, 'Rada Djuricin')),\n",
       " ('nm0074333', (3, 'Renata Berger')),\n",
       " ('nm0030797', (9, 'Aimé Anthoni')),\n",
       " ('nm0775960', (3, 'Laura Schuhrk')),\n",
       " ('nm1882951', (1, 'Mascha Gohlke')),\n",
       " ('nm0005210', (9, 'Tim McGraw')),\n",
       " ('nm1993171', (2, 'Yuna Ito')),\n",
       " ('nm0336390', (26, 'Carla Gravina')),\n",
       " ('nm0149435', (5, 'Tom Chadbon')),\n",
       " ('nm0010629', (1, 'John Adames')),\n",
       " ('nm0865078', (25, 'Keiko Toda')),\n",
       " ('nm0376891', (10, 'Lori Jo Hendrix')),\n",
       " ('nm0455837', (52, 'Hôka Kinoshita')),\n",
       " ('nm2003849', (2, 'Sven Holmberg')),\n",
       " ('nm0147739', (1, 'Loren Cedar')),\n",
       " ('nm0973370', (22, 'Manami Konishi')),\n",
       " ('nm1534125', (7, 'Deborah Baker Jr.')),\n",
       " ('nm2047098', (1, 'Gergõ Bárdi')),\n",
       " ('nm0804140', (2, 'Margie Skidmore')),\n",
       " ('nm0567710', (4, 'Country Joe McDonald')),\n",
       " ('nm0391072', (7, 'Polly Holliday')),\n",
       " ('nm0487102', (1, 'John Lansing')),\n",
       " ('nm0412177', (2, 'Stan Ivar')),\n",
       " ('nm0311328', (5, 'Ulrich Gebauer')),\n",
       " ('nm0014554', (15, 'Keiko Aikawa')),\n",
       " ('nm2518968', (2, 'Christina Buenaventura')),\n",
       " ('nm0868477', (4, 'Tania Torrens')),\n",
       " ('nm0673802', (1, 'Louise Purnell')),\n",
       " ('nm0640351', (2, \"Hazel O'Connor\")),\n",
       " ('nm0419187', (4, 'Krzysztof Jasinski')),\n",
       " ('nm1446299', (1, 'Wanda Sikora')),\n",
       " ('nm0497383', (23, 'Lee Hye-yeong')),\n",
       " ('nm1208172', (9, 'Yeong-ran Lee')),\n",
       " ('nm0255554', (46, 'Layla Olwi')),\n",
       " ('nm0559381', (19, 'Takako Matsu')),\n",
       " ('nm0356820', (2, 'Florian Halm')),\n",
       " ('nm0801900', (1, 'Blair Singer')),\n",
       " ('nm0413974', (1, 'Richard Lee Jackson')),\n",
       " ('nm1959774', (18, 'Ryô Katô')),\n",
       " ('nm0628576', (1, 'Reggie Newton')),\n",
       " ('nm0620411', (2, 'Emiri Nakayama')),\n",
       " ('nm0393535', (36, 'Randeep Hooda')),\n",
       " ('nm0019681', (6, 'Manfredi Aliquo')),\n",
       " ('nm0379609', (4, 'Jonathan Hernandez')),\n",
       " ('nm0287186', (3, 'Isabelle Fortea')),\n",
       " ('nm0068755', (11, 'Clara Bellar')),\n",
       " ('nm3369811', (2, 'Tomás Zákravský')),\n",
       " ('nm0614250', (2, 'Erin Murphy')),\n",
       " ('nm1149597', (1, 'Kristyna Kvetova')),\n",
       " ('nm1347058', (1, 'Zlatija Ocokoljic')),\n",
       " ('nm0183945', (3, 'Pat Courtney')),\n",
       " ('nm0852766', (12, 'Leon Tyler')),\n",
       " ('nm0809869', (1, 'Sandra Smith')),\n",
       " ('nm0096824', (2, 'Larysa Borysenko')),\n",
       " ('nm0876942', (30, 'Charlotte de Turckheim')),\n",
       " ('nm0736521', (1, 'Luciano Roffi')),\n",
       " ('nm0638099', (3, 'Bia Nunnes')),\n",
       " ('nm1020124', (15, 'Sarah Clarke')),\n",
       " ('nm1671547', (5, 'Hanan Motawie')),\n",
       " ('nm0655938', (4, 'Ângelo Paes Leme')),\n",
       " ('nm2207222', (17, 'Scott Eastwood')),\n",
       " ('nm1660138', (11, 'David Milchard')),\n",
       " ('nm0464030', (4, 'Jana Kolesárová')),\n",
       " ('nm0922518', (1, 'Gordon Wescourt')),\n",
       " ('nm0373372', (2, 'Dagmar Hedrich')),\n",
       " ('nm0001332', (15, 'Robert Hays')),\n",
       " ('nm1260445', (3, 'Bobby DiVito')),\n",
       " ('nm1067548', (9, 'Kim Hyeong-ja')),\n",
       " ('nm0224069', (5, 'Antonio Di Mauro')),\n",
       " ('nm2279833', (1, 'Stina Svensson')),\n",
       " ('nm0421956', (1, 'Nancy Jeris')),\n",
       " ('nm0123331', (2, 'Andrei Bursaci')),\n",
       " ('nm0629978', (4, 'Christian Nickel')),\n",
       " ('nm1367635', (1, 'Magda Nemec')),\n",
       " ('nm1116906', (5, 'Kim Yeong-cheol')),\n",
       " ('nm0448976', (2, 'Bálint Kenyeres')),\n",
       " ('nm4500976', (1, 'Thomas B. Fore')),\n",
       " ('nm1140952', (8, 'Matthew Bushell')),\n",
       " ('nm1516909', (2, 'Iliya Vasilev')),\n",
       " ('nm0362890', (3, 'Betty Harford')),\n",
       " ('nm5058719', (11, 'Duraid Lahham')),\n",
       " ('nm0297676', (14, 'Mariko Fuji')),\n",
       " ('nm0951671', (1, 'Lisbeth Zachrisson')),\n",
       " ('nm0397465', (3, 'Lisa Howard')),\n",
       " ('nm2125252', (1, 'Andrew Coyne')),\n",
       " ('nm0727120', (16, 'Michael Riley')),\n",
       " ('nm0439435', (22, 'Fritz Karl')),\n",
       " ('nm0232061', (1, 'Ann Donaldson')),\n",
       " ('nm1525948', (11, 'Ashton Holmes')),\n",
       " ('nm1122636', (5, 'Rei Kikukawa')),\n",
       " ('nm1232360', (1, 'Jule Flierl')),\n",
       " ('nm0156226', (2, 'Emilie Chesnais')),\n",
       " ('nm1693432', (13, 'Jan Cornet')),\n",
       " ('nm0414417', (3, 'Glenn Jacobs')),\n",
       " ('nm0763995', (5, 'Bert Santos')),\n",
       " ('nm0631230', (4, 'Edouard Niermans')),\n",
       " ('nm0183464', (13, 'Bernie Coulson')),\n",
       " ('nm0843819', (2, 'Ewa Szawlowska')),\n",
       " ('nm0193664', (2, 'Susie Cusack')),\n",
       " ('nm0587533', (1, 'Olivera Miljakovic')),\n",
       " ('nm1411119', (4, 'Radik Golovkov')),\n",
       " ('nm1579531', (1, 'Simon Dahl Thaulow')),\n",
       " ('nm1544084', (6, 'Jake Cherry')),\n",
       " ('nm0000267', (29, 'Julie Andrews')),\n",
       " ('nm0251468', (6, 'Kaspar Eichel')),\n",
       " ('nm0419726', (1, 'L. Errol Jaye')),\n",
       " ('nm0473035', (16, 'Jerzy Kryszak')),\n",
       " ('nm0001400', (21, 'Michelle Johnson')),\n",
       " ('nm0420745', (3, 'Devon Jenkin')),\n",
       " ('nm3056196', (11, 'Aleksandr Ilin')),\n",
       " ('nm0230317', (3, 'Grant Dodwell')),\n",
       " ('nm0258784', (16, 'Yilmaz Erdogan')),\n",
       " ('nm1796390', (7, 'Ravi Krishna')),\n",
       " ('nm0793619', (6, 'Saeko Shimazu')),\n",
       " ('nm2634755', (7, 'Chih-Hsiung Hu')),\n",
       " ('nm0433440', (1, 'Zsófi Jávor')),\n",
       " ('nm0095104', (4, 'Bono')),\n",
       " ('nm1435211', (1, 'Maja Dosthe')),\n",
       " ('nm0578247', (14, 'Gastón Melo')),\n",
       " ('nm0747500', (62, 'Irina Rozanova')),\n",
       " ('nm0004850', (9, 'Alexis Cruz')),\n",
       " ('nm0065942', (25, 'Irene Bedard')),\n",
       " ('nm1403431', (1, 'András Schiff')),\n",
       " ('nm1495232', (1, 'Dan McLean')),\n",
       " ('nm0429069', (16, 'Rashida Jones')),\n",
       " ('nm0576316', (2, 'Evelina Meghnagi')),\n",
       " ('nm1426138', (7, 'Fedja Stukan')),\n",
       " ('nm1371703', (4, 'Eric Peter-Kaiser')),\n",
       " ('nm0125379', (8, 'Haymon Maria Buttinger')),\n",
       " ('nm0903679', (2, 'Pim Vosmaer')),\n",
       " ('nm0089608', (1, 'Marcus Bluhm')),\n",
       " ('nm1033824', (1, 'Natasha Zlobina')),\n",
       " ('nm0776580', (10, 'Matt Schulze')),\n",
       " ('nm0454109', (4, 'Sakae Kimura')),\n",
       " ('nm2695751', (1, 'Alexander Herrmann')),\n",
       " ('nm0921488', (4, 'Tilo Werner')),\n",
       " ('nm1186499', (1, 'Megumi Ujiie')),\n",
       " ('nm0361072', (7, 'Rudi Hansen')),\n",
       " ('nm0000825', (3, 'Mary Badham')),\n",
       " ('nm0761782', (1, 'Derek Sanderson')),\n",
       " ('nm0887122', (1, 'Paul Van Himst')),\n",
       " ('nm0506616', (5, 'Shmuel Levy')),\n",
       " ('nm0286384', (2, 'Win Forman')),\n",
       " ('nm0911976', (25, 'Zdzislaw Wardejn')),\n",
       " ('nm0960528', (1, 'Bas ten Batenburg')),\n",
       " ('nm0532842', (1, 'Jay W. MacIntosh')),\n",
       " ('nm0480754', (14, 'Krystjo Lafazanov')),\n",
       " ('nm1118696', (1, 'Antun Kujavec')),\n",
       " ('nm1459074', (1, 'Kevin Kennedy')),\n",
       " ('nm0310303', (1, 'Nathalie Gaulthier')),\n",
       " ('nm0938531', (10, 'Felicitas Woll')),\n",
       " ('nm1036691', (4, 'Josie Maran')),\n",
       " ('nm2363570', (1, 'Jav Rivera')),\n",
       " ('nm0191229', (1, 'Ximena Cuevas')),\n",
       " ('nm6244013', (10, 'Jack Dylan Grazer')),\n",
       " ('nm0735167', (13, 'Márcia Rodrigues')),\n",
       " ('nm0336245', (3, 'Lois Ursone')),\n",
       " ('nm1913092', (1, 'Liselott Wærum')),\n",
       " ('nm0800828', (2, 'Emese Simorjay')),\n",
       " ('nm0642488', (1, \"Terry O'Reilly\")),\n",
       " ('nm0159514', (25, 'Vivian Chow')),\n",
       " ('nm0733153', (1, 'Tony Robinson')),\n",
       " ('nm0007412', (2, 'Thor Michael Aamodt')),\n",
       " ('nm0004893', (7, 'Hallie Eisenberg')),\n",
       " ('nm0659000', (13, 'Changjiang Pan')),\n",
       " ('nm0868012', (3, 'Kirsti Eline Torhaug')),\n",
       " ('nm0440761', (5, 'Bartek Kasprzykowski')),\n",
       " ('nm1089703', (1, 'Fisz')),\n",
       " ('nm0754107', (8, 'Helmut Rühl')),\n",
       " ('nm1592300', (3, 'David House')),\n",
       " ('nm0459538', (2, 'Vladimir Klimentyev')),\n",
       " ('nm0263760', (16, 'Greg Evigan')),\n",
       " ('nm0858479', (5, 'Angelika Thomas')),\n",
       " ('nm1129314', (3, 'Carolien van den Berg')),\n",
       " ('nm0338061', (6, 'Kerri Green')),\n",
       " ('nm0210915', (17, 'Starletta DuPois')),\n",
       " ('nm1042403', (2, 'Jennifer Charles')),\n",
       " ('nm0840551', (15, 'Anne Suzuki')),\n",
       " ('nm0577236', (1, 'Lissete Mejía')),\n",
       " ('nm0069990', (1, 'Jorge Ben Jor')),\n",
       " ('nm1507623', (1, 'Tommy Bowden')),\n",
       " ('nm0481993', (2, 'Texas Terri')),\n",
       " ('nm0165760', (5, 'Terrell Clayton')),\n",
       " ('nm0441752', (4, 'Josie Katz')),\n",
       " ('nm0474391', (2, 'Mariola Kukula')),\n",
       " ('nm0885374', (21, 'Nora Valsami')),\n",
       " ('nm0656818', (1, 'Jonathan Painchaud')),\n",
       " ('nm0352643', (3, 'Ava Haddad')),\n",
       " ('nm0575957', (2, 'Polina Medvedeva')),\n",
       " ('nm0431659', (1, 'Lisa Joyner')),\n",
       " ('nm0709839', (4, 'Kerri Randles')),\n",
       " ('nm0006765', (1, 'Vidhu Vinod Chopra')),\n",
       " ('nm0469083', (12, 'Maria Kraakman')),\n",
       " ('nm1859942', (2, 'Gregor Collins')),\n",
       " ('nm0133197', (28, 'Arsenio Campos')),\n",
       " ('nm0941471', (3, 'Nanette Workman')),\n",
       " ('nm0884644', (1, 'Ivana Valesová')),\n",
       " ('nm0455187', (6, 'Richard King')),\n",
       " ('nm0000146', (65, 'Ralph Fiennes')),\n",
       " ('nm0000405', (15, 'Michelle Forbes')),\n",
       " ('nm0215231', (1, 'Dafna Dekel')),\n",
       " ('nm0410905', (7, 'Takaaki Ishibashi')),\n",
       " ('nm2085319', (1, 'Vítor Espadinha')),\n",
       " ('nm1050523', (4, 'Mari Shimizu')),\n",
       " ('nm0634935', (2, 'Linus Nord')),\n",
       " ('nm1201893', (6, 'Daniel Emilio Baldock')),\n",
       " ('nm2018079', (4, 'Marco Ballesteros')),\n",
       " ('nm0461712', (9, 'Erik Knudsen')),\n",
       " ('nm0737406', (2, 'Tatyana Rogozina')),\n",
       " ('nm0669939', (1, 'Ove Pedersen')),\n",
       " ('nm0223973', (31, 'Francesco Di Leva')),\n",
       " ('nm1514507', (1, 'Zoheb Hassan')),\n",
       " ('nm0762774', (1, 'Ray Saniger')),\n",
       " ('nm0441369', (5, \"Ken'ichi Katô\")),\n",
       " ('nm1244774', (8, 'Danial Hakimi')),\n",
       " ('nm1385845', (1, 'Werner Krenn')),\n",
       " ('nm1073289', (2, 'Vuk Marinic')),\n",
       " ('nm0604208', (1, 'Wanda Moreno')),\n",
       " ('nm0813954', (1, 'David Sommer')),\n",
       " ('nm1626618', (2, 'Garo Nigoghossian')),\n",
       " ('nm0336474', (15, 'Billy Gray')),\n",
       " ('nm1099123', (3, 'Eva Océnasová')),\n",
       " ('nm0091072', (43, 'Gyula Bodrogi')),\n",
       " ('nm0000257', (33, 'Alan Alda')),\n",
       " ('nm0262333', (1, 'George Eugeniou')),\n",
       " ('nm0455133', (19, 'Perry King')),\n",
       " ('nm0018837', (2, 'Tiana Alexandra-Silliphant')),\n",
       " ('nm0522429', (9, 'Suzanna Love')),\n",
       " ('nm0458768', (11, 'Gérard Klein')),\n",
       " ('nm0782373', (3, 'Rupert J. Seidel')),\n",
       " ('nm0692737', (2, 'Andrzej Posniak')),\n",
       " ('nm0713221', (3, 'Cathleen Raymond')),\n",
       " ('nm0631740', (2, 'Roger Nikkanen')),\n",
       " ('nm0899064', (1, 'Zoya Vinogradova')),\n",
       " ('nm0833751', (3, 'Velta Straume')),\n",
       " ('nm1832193', (1, 'Duncan Bannatyne')),\n",
       " ('nm0751359', (1, 'Nat Russell Jr.')),\n",
       " ('nm0777596', (1, 'Josef Schwarz')),\n",
       " ('nm0421849', (2, 'Marin Lysholm Jepsen')),\n",
       " ('nm0000327', (28, 'Lacey Chabert')),\n",
       " ('nm0506368', (1, 'Coco Levy')),\n",
       " ('nm0648499', (44, 'Andy On')),\n",
       " ('nm1414931', (10, 'Shondrella Avery')),\n",
       " ('nm0577428', (3, 'Heike-Melba Fendel')),\n",
       " ('nm0808860', (12, 'Julie K. Smith')),\n",
       " ('nm0542558', (16, 'Blu Mankuma')),\n",
       " ('nm1570124', (1, 'Sándor Czvetkó')),\n",
       " ('nm0739490', (3, 'Lucio Romero')),\n",
       " ('nm0461201', (2, 'Kristen Elizabeth')),\n",
       " ('nm0524963', (8, 'Marie Ludvíková')),\n",
       " ('nm0383675', (1, 'Chieko Higuchi')),\n",
       " ('nm0298571', (2, 'Helen Funai')),\n",
       " ('nm0608263', (3, 'Roberto Mosca')),\n",
       " ('nm0393419', (4, 'Zbynek Honzík')),\n",
       " ('nm0855417', (25, 'Akira Terao')),\n",
       " ('nm0846339', (6, 'Tulkun Tadzhiyev')),\n",
       " ('nm0443159', (2, 'Phyllis Kay')),\n",
       " ('nm0046347', (45, 'Edouard Baer')),\n",
       " ('nm0476643', (15, 'Matleena Kuusniemi')),\n",
       " ('nm0896942', (6, 'Dalton Vigh')),\n",
       " ('nm1659972', (2, 'Rafael Amargo')),\n",
       " ('nm0880504', (5, 'Raviv Ullman')),\n",
       " ('nm0198114', (6, 'Szilvia Dallos')),\n",
       " ('nm0351334', (11, 'Hiromi Gô')),\n",
       " ('nm0099178', (2, 'Carla Boudreau')),\n",
       " ('nm0485402', (3, 'Justin Lane')),\n",
       " ('nm0224468', (4, 'Youma Diakite')),\n",
       " ('nm0052488', (2, 'Rocío Banquells')),\n",
       " ('nm1117310', (5, 'Hakan Altiner')),\n",
       " ('nm1021126', (2, 'Pablo Azar')),\n",
       " ('nm1354491', (17, 'Nader Boussandel')),\n",
       " ('nm0555466', (1, \"Ken'ichirô Maruyama\")),\n",
       " ('nm0559698', (53, 'Keiko Matsuzaka')),\n",
       " ('nm0904907', (3, 'Tuula Väänänen')),\n",
       " ('nm0403425', (1, 'Craig Hurley')),\n",
       " ('nm0464656', (2, 'Luule Komissarov')),\n",
       " ('nm0196672', (1, 'Anja Daems')),\n",
       " ('nm0535434', (1, 'Caroline Maes')),\n",
       " ('nm0536424', (1, 'Guðrún Kristín Magnúsdóttir')),\n",
       " ('nm0594069', (1, 'Hideo Shibuya')),\n",
       " ('nm0661886', (28, 'Park Geun-hyeong')),\n",
       " ('nm0842554', (1, 'Iwona Swietochowska')),\n",
       " ('nm0412212', (1, 'Peter Ivatts')),\n",
       " ('nm0577081', (1, 'Petr Meissel')),\n",
       " ('nm1372650', (5, 'Garth Collins')),\n",
       " ('nm0658602', (2, 'Flavia Palmiero')),\n",
       " ('nm1484714', (1, 'Carlos J. Cestero')),\n",
       " ('nm1119427', (2, 'Portia Prescott')),\n",
       " ('nm1872228', (3, 'Rika Sudô')),\n",
       " ('nm1151223', (20, 'Kenta Suga')),\n",
       " ('nm3484277', (5, 'Irina Novak')),\n",
       " ('nm0323067', (2, 'Bob Glouberman')),\n",
       " ('nm0543666', (37, 'Manuel Manquiña')),\n",
       " ('nm0378969', (1, 'Bertram Heribertson')),\n",
       " ('nm0016897', (2, 'Roger Alborough')),\n",
       " ('nm0670426', (1, 'Sophie Dia Pegrum')),\n",
       " ('nm1376961', (1, 'Dan Ben-Lior')),\n",
       " ('nm0501565', (4, 'Guenia Lemos')),\n",
       " ('nm0516272', (47, 'Enrico Lo Verso')),\n",
       " ('nm0072344', (28, 'Abraham Benrubi')),\n",
       " ('nm0725284', (18, 'Jason James Richter')),\n",
       " ('nm0816637', (29, 'Gabriel Spahiu')),\n",
       " ('nm0356021', (30, 'Regina Hall')),\n",
       " ('nm1147581', (6, 'Deniz Akkaya')),\n",
       " ('nm0387847', (8, 'Uri Hochman')),\n",
       " ('nm0119097', (26, 'Teresa Budzisz-Krzyzanowska')),\n",
       " ('nm0011095', (4, 'Jonathan Adams')),\n",
       " ('nm0298630', (5, 'Mercedes Funes')),\n",
       " ('nm0270470', (1, 'Trevor Fehrman')),\n",
       " ('nm0888070', (2, 'Guy Van Swearingen')),\n",
       " ('nm0177059', (5, 'Gwendolyn Hung')),\n",
       " ('nm1100104', (3, 'Hiroko Shimabukuro')),\n",
       " ('nm0093312', (1, 'Stephen Bolster')),\n",
       " ('nm0770221', (2, 'Hans-Jürgen Schatz')),\n",
       " ('nm0491560', (7, 'Tomas Laustiola')),\n",
       " ('nm0004355', (14, 'Roger Ashton-Griffiths')),\n",
       " ('nm0538394', (14, 'Aleksey Makarov')),\n",
       " ('nm0738376', (1, 'Hélène Rollès')),\n",
       " ('nm1172198', (10, 'Claudio Gregori')),\n",
       " ('nm2932767', (10, 'Rafiq Azimov')),\n",
       " ('nm2098258', (8, 'Kim Ah-jung')),\n",
       " ('nm1452476', (2, 'Irina Leonova')),\n",
       " ('nm3539944', (1, 'Kristina Lauren Anderson')),\n",
       " ('nm0124417', (4, 'Verena Buss')),\n",
       " ('nm0072758', (12, 'Tim Bentinck')),\n",
       " ('nm0456343', (9, 'Rano Kubaeva')),\n",
       " ('nm0529477', (2, 'Balázs Lázár')),\n",
       " ('nm0260245', (4, 'Esther Esche')),\n",
       " ('nm0161308', (16, 'Wallace Chung')),\n",
       " ('nm0806527', (4, 'Sharon Small')),\n",
       " ('nm0000104', (95, 'Antonio Banderas')),\n",
       " ('nm0316455', (12, 'Donald Gibb')),\n",
       " ('nm0005289', (7, 'Catherine Oxenberg')),\n",
       " ('nm0354810', (1, 'Tim Haldeman')),\n",
       " ('nm1397509', (1, 'Buddy Casino')),\n",
       " ('nm1076584', (11, 'Uros Fürst')),\n",
       " ('nm1575181', (1, 'Lynsey Richards')),\n",
       " ('nm0443577', (36, 'Lainie Kazan')),\n",
       " ('nm0779966', (2, 'Sheila Scott Wilkinson')),\n",
       " ('nm0055796', (6, 'Suzanne Barnes')),\n",
       " ('nm0335691', (8, 'Vince Grant')),\n",
       " ('nm0756964', (6, 'Osamu Saka')),\n",
       " ('nm0596818', (4, 'Alberto Molinari')),\n",
       " ('nm0547715', (34, 'Ksenija Marinkovic')),\n",
       " ('nm0704398', (2, 'Jose Quiroz')),\n",
       " ('nm0696059', (10, 'Laura Prepon')),\n",
       " ('nm0968535', (4, 'Roman Ageev')),\n",
       " ('nm1727951', (7, 'André Sjöberg')),\n",
       " ('nm1626256', (6, 'Margo Stilley')),\n",
       " ('nm0345614', (2, 'Vivian Gude')),\n",
       " ('nm0791974', (2, 'Paula E. Sheppard')),\n",
       " ('nm0250784', (1, 'Manuel Ángel Egea')),\n",
       " ('nm0745402', (7, 'Lisa Rotondi')),\n",
       " ('nm0548648', (2, 'Goran Markovic')),\n",
       " ('nm0740390', (2, 'Alexander Roos')),\n",
       " ('nm0008410', (2, 'Rodrigo Abed')),\n",
       " ('nm1776377', (4, 'Ryan Hayden')),\n",
       " ('nm0711552', (1, 'Michael Rastl')),\n",
       " ('nm0647970', (16, 'Nancy Olson')),\n",
       " ('nm0273018', (37, 'Mark Anthony Fernandez')),\n",
       " ('nm0407613', (1, 'Eila Ilenius')),\n",
       " ('nm0324085', (12, 'Noémie Godin-Vigneau')),\n",
       " ('nm0678683', (2, 'Roberto Pettinato')),\n",
       " ('nm3821714', (1, 'Lee Jong-nam')),\n",
       " ('nm1565984', (10, 'Amador Granados')),\n",
       " ('nm1065785', (2, 'Tony Kushner')),\n",
       " ('nm0670230', (3, 'Edward Peel')),\n",
       " ('nm2709093', (1, 'Maurizia Paradiso')),\n",
       " ('nm0255517', (11, 'Siir Eloglu')),\n",
       " ('nm0453956', (20, 'Poulad Kimiayi')),\n",
       " ('nm0002728', (1, 'Juan José Campanella')),\n",
       " ('nm1119539', (5, 'Ayana Sakai')),\n",
       " ('nm1090133', (2, 'Tyler Patrick Jones')),\n",
       " ('nm0940946', (31, 'Joanne Woodward')),\n",
       " ('nm0013822', (1, 'Renée Agén')),\n",
       " ('nm0036651', (17, 'Tichina Arnold')),\n",
       " ('nm0490555', (14, 'Jay Lau')),\n",
       " ('nm0841311', (5, 'Svetlana Svirko')),\n",
       " ('nm0854518', (1, 'Joe Tello')),\n",
       " ('nm0911787', (4, 'Phil Ward')),\n",
       " ('nm0679513', (8, 'Loretta Pflaum')),\n",
       " ('nm0040012', (2, 'Ali Astin')),\n",
       " ('nm0026196', (4, 'Kresten Andersen')),\n",
       " ('nm0279056', (3, 'Miriam Fischer')),\n",
       " ('nm1834124', (13, 'Kinuo Yamada')),\n",
       " ('nm0538260', (2, 'Lee Majors II')),\n",
       " ('nm0732133', (6, 'Wendy Robie')),\n",
       " ('nm0441754', (5, 'Judah Katz')),\n",
       " ('nm0256660', (9, 'Erhan Emre')),\n",
       " ('nm0729468', (1, 'Gabriela Rivero')),\n",
       " ('nm0617031', (11, 'Ville Myllyrinne')),\n",
       " ('nm0727059', (1, 'Janet Riley')),\n",
       " ('nm0561415', (44, 'Stefan Mavrodiyev')),\n",
       " ('nm0628669', (23, 'Marina Neyolova')),\n",
       " ('nm0566525', (3, 'Gilmer McCormick')),\n",
       " ('nm0352000', (1, 'Robert Hass')),\n",
       " ('nm2487842', (1, 'Dynamite Kansai')),\n",
       " ('nm1538338', (1, 'Fernando Blumenthal')),\n",
       " ('nm1487708', (2, 'Niroo')),\n",
       " ('nm2518107', (14, 'Jinshan Liu')),\n",
       " ('nm2011414', (49, 'Devadarshini Chetan')),\n",
       " ('nm3744068', (3, 'Yoon Seo-hyun')),\n",
       " ('nm1381367', (17, 'Nikola Rakocevic')),\n",
       " ('nm2112748', (24, 'Tsuyoshi Muro')),\n",
       " ('nm0330015', (17, 'Barry Gordon')),\n",
       " ('nm0051055', (6, 'Zsuzsa Balogh')),\n",
       " ('nm0419206', (4, 'Stanislaw Jaskulka')),\n",
       " ('nm0000186', (3, 'David Lynch')),\n",
       " ('nm0463579', (4, 'Ulla Koivuranta')),\n",
       " ('nm0349020', (5, 'Daniel Gustavsson')),\n",
       " ('nm0001978', (5, 'Emma Bunton')),\n",
       " ('nm0685328', (6, 'John Pirruccello')),\n",
       " ('nm0022387', (1, 'Jonathan Alpers')),\n",
       " ('nm0843114', (1, 'Marie Sýkorová')),\n",
       " ('nm1495459', (1, 'Hans van Beenen')),\n",
       " ('nm1375991', (4, 'Zay Nuba')),\n",
       " ('nm0594151', (2, 'Marcus Mittermeier')),\n",
       " ('nm1548044', (16, 'Lana Baric')),\n",
       " ('nm0108795', (1, 'Spencir Bridges')),\n",
       " ('nm1505845', (1, 'Alexandria DeFabiis')),\n",
       " ('nm0689933', (18, 'Lyudmila Polyakova')),\n",
       " ('nm0044079', (24, 'Azaad Irani')),\n",
       " ('nm0588984', (1, 'Michael A. Miller')),\n",
       " ('nm0470451', (3, 'Miroslaw Krawczyk')),\n",
       " ('nm0420688', (11, 'Eva Jenickova')),\n",
       " ('nm0594523', (31, 'Yoshiko Miyazaki')),\n",
       " ('nm0095982', (5, 'Gabriella Borbás')),\n",
       " ('nm0863130', (8, 'Ramon Tikaram')),\n",
       " ('nm0655607', (4, 'Paul Paddick')),\n",
       " ('nm0404687', (4, 'Adam Hutyra')),\n",
       " ('nm0240066', (1, 'Dave Dudfield')),\n",
       " ('nm0238051', (5, 'Richard Driscoll')),\n",
       " ('nm3123241', (3, 'Galina Gudova')),\n",
       " ('nm0316162', (13, 'Reynaldo Gianecchini')),\n",
       " ('nm1258766', (6, 'Lluís Villanueva')),\n",
       " ('nm4935244', (1, 'Florian Tabor')),\n",
       " ('nm0601003', (5, 'Carmen Moore')),\n",
       " ('nm2589815', (5, 'Marsha Wattanapanich')),\n",
       " ('nm0336140', (1, 'Friedrich Graumann')),\n",
       " ('nm0136622', (33, 'David Cardoso')),\n",
       " ('nm0857167', (28, 'Guy Thauvette')),\n",
       " ('nm0001633', (18, 'Annie Potts')),\n",
       " ('nm0148996', (27, 'Pascal Cervo')),\n",
       " ('nm0861208', (3, 'Cilla Thorell')),\n",
       " ('nm0101202', (2, 'John Bowler')),\n",
       " ('nm0251098', (1, 'Gretchen Egolf')),\n",
       " ('nm2357569', (1, 'Davis Burgos')),\n",
       " ('nm1460782', (44, 'François Damiens')),\n",
       " ('nm0880744', (2, 'Björn Ulvaeus')),\n",
       " ('nm0767181', (22, 'Didier Sauvegrain')),\n",
       " ('nm0172084', (3, 'Lyn Collingwood')),\n",
       " ('nm0000292', (42, 'Michelle Bauer')),\n",
       " ('nm0440860', (7, 'Mark Kassen')),\n",
       " ('nm2496455', (2, 'Ondrej Kavan')),\n",
       " ('nm0757824', (9, 'Millán Salcedo')),\n",
       " ('nm0352748', (1, 'Jeffrey Haddow')),\n",
       " ('nm0664203', (17, 'Michael Pas')),\n",
       " ('nm0583057', (1, 'Chin Meyer')),\n",
       " ('nm0538778', (1, 'Vitaly Maksimov')),\n",
       " ('nm0046277', (24, 'Bae Doona')),\n",
       " ('nm1047185', (7, 'Thomas Wodianka')),\n",
       " ('nm0752005', (1, 'Emily Rutherfurd')),\n",
       " ('nm0015590', (1, 'Irina Aktasheva')),\n",
       " ('nm0960359', (27, 'Dénes Ujlaky')),\n",
       " ('nm0551397', (13, 'Silvia Marsó')),\n",
       " ('nm0491669', (3, 'Fanny Lauzier')),\n",
       " ('nm0453238', (4, 'Jon Killough')),\n",
       " ('nm0404003', (45, 'Faizal Hussein')),\n",
       " ('nm0011928', (2, 'Konrad Aderer')),\n",
       " ('nm0468229', (8, 'Krisztián Kovács')),\n",
       " ('nm1905247', (15, 'Mike Amigorena')),\n",
       " ('nm1476870', (1, 'Paul Rogic')),\n",
       " ('nm14361822', (1, 'Kil Eun-sung')),\n",
       " ('nm0345152', (11, 'Carrie Ku Mei')),\n",
       " ('nm0199453', (1, 'Jim Danforth')),\n",
       " ('nm0438585', (20, 'Valérie Kaprisky')),\n",
       " ('nm0264475', (1, 'Eric Faber')),\n",
       " ('nm0158414', (27, 'Wenzhuo Zhao')),\n",
       " ('nm0830767', (7, 'Sara Stockbridge')),\n",
       " ('nm0937251', (7, 'Agnieszka Wlodarczyk')),\n",
       " ('nm0227572', (3, 'Michael Cole Dinelli')),\n",
       " ('nm0793781', (21, 'Shin Eun-kyung')),\n",
       " ('nm0108431', (15, 'Nicolas Briançon')),\n",
       " ('nm1499443', (1, 'Scoop Jackson')),\n",
       " ('nm0000598', (79, 'Dennis Quaid')),\n",
       " ('nm0424044', (8, 'Pia Johansson')),\n",
       " ('nm0838520', (98, 'Suman')),\n",
       " ('nm0251526', (16, 'Karoline Eichhorn')),\n",
       " ('nm0497641', (7, 'Kang-i Lee')),\n",
       " ('nm0624423', (1, 'Antonio Negret')),\n",
       " ('nm1690717', (4, 'Ayumi Takano')),\n",
       " ('nm0971255', (1, 'Mike Stranges')),\n",
       " ('nm1258003', (3, 'Shichinosuke Nakamura')),\n",
       " ('nm2122921', (1, 'Zoje Stage')),\n",
       " ('nm0092657', (2, 'Bonnie Boland')),\n",
       " ('nm0611644', (34, 'Niño Muhlach')),\n",
       " ('nm0017460', (2, 'Ginger Alden')),\n",
       " ('nm0397603', (9, 'Sherman Howard')),\n",
       " ('nm0508349', (12, 'Baotian Li')),\n",
       " ('nm0891203', (3, 'Judson Vaughn')),\n",
       " ('nm0187460', (6, 'Rebecca Creskoff')),\n",
       " ('nm0471967', (1, 'Aarni Krohn')),\n",
       " ('nm1058653', (2, 'Kika Kalache')),\n",
       " ('nm0216469', (3, 'Mathieu Delarive')),\n",
       " ('nm1443610', (3, 'Brad Yoder')),\n",
       " ('nm0934090', (1, 'Ryan Wilson')),\n",
       " ('nm1502701', (1, 'Jonathan Everett')),\n",
       " ('nm1458132', (5, 'Mark Wystrach')),\n",
       " ('nm1384340', (4, 'Matthew Campagna')),\n",
       " ('nm0676251', (3, 'Verena Peter')),\n",
       " ('nm0001512', (16, 'Mary Elizabeth Mastrantonio')),\n",
       " ('nm0423470', (10, 'Hansi Jochmann')),\n",
       " ('nm0110433', (8, 'Eloise DeJoria')),\n",
       " ('nm0330853', (33, 'Michael Gor')),\n",
       " ('nm0882464', (2, 'Valeriya Ustinova')),\n",
       " ('nm0225189', (6, 'Natalia Dicenta')),\n",
       " ('nm0175228', (1, 'Phillip Connery')),\n",
       " ('nm0205729', (1, 'Josephine Davison')),\n",
       " ('nm0565002', (1, 'Jon Michael McCarron')),\n",
       " ('nm1220852', (1, 'Almir Gurgel')),\n",
       " ('nm0705356', (27, 'Daniel Radcliffe')),\n",
       " ('nm1778479', (2, 'Eugene Hutz')),\n",
       " ...]"
      ]
     },
     "execution_count": 203,
     "metadata": {},
     "output_type": "execute_result"
    }
   ],
   "source": [
    "# Display how q3_rdd looks like. It contains the total number of movie appearances per actor/actress\n",
    "q3_rdd.collect() "
   ]
  },
  {
   "cell_type": "code",
   "execution_count": 0,
   "metadata": {
    "application/vnd.databricks.v1+cell": {
     "cellMetadata": {
      "byteLimit": 2048000,
      "rowLimit": 10000
     },
     "inputWidgets": {},
     "nuid": "b8c10403-4497-4658-8d6d-b1e43ed2f701",
     "showTitle": false,
     "title": ""
    }
   },
   "outputs": [
    {
     "output_type": "execute_result",
     "data": {
      "text/plain": [
       "[('nm0000198', 69),\n",
       " ('nm0114931', 10),\n",
       " ('nm0423730', 2),\n",
       " ('nm0857851', 1),\n",
       " ('nm0876255', 5),\n",
       " ('nm0136399', 6),\n",
       " ('nm0668241', 17),\n",
       " ('nm0947166', 4),\n",
       " ('nm1148917', 1),\n",
       " ('nm0276150', 1),\n",
       " ('nm0427274', 12),\n",
       " ('nm0602383', 4),\n",
       " ('nm4344820', 3),\n",
       " ('nm1997609', 1),\n",
       " ('nm0394123', 2),\n",
       " ('nm0110756', 2),\n",
       " ('nm0895741', 2),\n",
       " ('nm0810729', 9),\n",
       " ('nm2320600', 3),\n",
       " ('nm0258783', 14),\n",
       " ('nm0375246', 4),\n",
       " ('nm1283243', 1),\n",
       " ('nm1099196', 1),\n",
       " ('nm1961687', 1),\n",
       " ('nm0194571', 11),\n",
       " ('nm0330375', 2),\n",
       " ('nm0542706', 13),\n",
       " ('nm0046033', 36),\n",
       " ('nm0324720', 8),\n",
       " ('nm0235550', 5),\n",
       " ('nm1299200', 1),\n",
       " ('nm0716188', 1),\n",
       " ('nm1690265', 2),\n",
       " ('nm0264672', 5),\n",
       " ('nm1938492', 6),\n",
       " ('nm0455176', 2),\n",
       " ('nm0229810', 38),\n",
       " ('nm0299873', 1),\n",
       " ('nm2482187', 1),\n",
       " ('nm0382967', 1),\n",
       " ('nm0202528', 2),\n",
       " ('nm1320600', 31),\n",
       " ('nm1065585', 11),\n",
       " ('nm1300787', 1),\n",
       " ('nm0790919', 2),\n",
       " ('nm0422531', 9),\n",
       " ('nm0022094', 4),\n",
       " ('nm0726175', 2),\n",
       " ('nm0008118', 5),\n",
       " ('nm0370729', 9),\n",
       " ('nm0015382', 22),\n",
       " ('nm0408846', 10),\n",
       " ('nm0151668', 5),\n",
       " ('nm0706153', 5),\n",
       " ('nm1195405', 5),\n",
       " ('nm1418764', 4),\n",
       " ('nm3664406', 9),\n",
       " ('nm2892930', 1),\n",
       " ('nm0804957', 3),\n",
       " ('nm0501911', 1),\n",
       " ('nm0245612', 26),\n",
       " ('nm0344936', 2),\n",
       " ('nm0835001', 8),\n",
       " ('nm1498920', 1),\n",
       " ('nm0758736', 2),\n",
       " ('nm0115671', 26),\n",
       " ('nm0120705', 4),\n",
       " ('nm0257025', 6),\n",
       " ('nm1937112', 15),\n",
       " ('nm0925966', 42),\n",
       " ('nm0402105', 4),\n",
       " ('nm0147073', 1),\n",
       " ('nm0748075', 27),\n",
       " ('nm0052051', 9),\n",
       " ('nm0648764', 20),\n",
       " ('nm0433678', 2),\n",
       " ('nm0061693', 2),\n",
       " ('nm0773290', 1),\n",
       " ('nm1742602', 6),\n",
       " ('nm1257057', 1),\n",
       " ('nm0459570', 3),\n",
       " ('nm2379066', 6),\n",
       " ('nm0554578', 34),\n",
       " ('nm0138608', 11),\n",
       " ('nm0846961', 7),\n",
       " ('nm0398550', 1),\n",
       " ('nm0412046', 3),\n",
       " ('nm5396858', 2),\n",
       " ('nm0581927', 1),\n",
       " ('nm0286022', 7),\n",
       " ('nm0883996', 2),\n",
       " ('nm0796316', 26),\n",
       " ('nm0421541', 6),\n",
       " ('nm0726356', 3),\n",
       " ('nm0157185', 1),\n",
       " ('nm1631667', 34),\n",
       " ('nm0577416', 6),\n",
       " ('nm0220663', 1),\n",
       " ('nm0869082', 1),\n",
       " ('nm0668589', 2),\n",
       " ('nm0690577', 1),\n",
       " ('nm0788482', 6),\n",
       " ('nm0510340', 4),\n",
       " ('nm1340370', 13),\n",
       " ('nm0758382', 1),\n",
       " ('nm0030925', 1),\n",
       " ('nm1795071', 2),\n",
       " ('nm0084597', 8),\n",
       " ('nm0412690', 13),\n",
       " ('nm0739960', 2),\n",
       " ('nm0479608', 6),\n",
       " ('nm2002740', 1),\n",
       " ('nm1087183', 13),\n",
       " ('nm3619308', 10),\n",
       " ('nm1234301', 11),\n",
       " ('nm0294557', 4),\n",
       " ('nm0064777', 4),\n",
       " ('nm0212635', 4),\n",
       " ('nm0390285', 22),\n",
       " ('nm0776625', 1),\n",
       " ('nm0559421', 8),\n",
       " ('nm0076447', 2),\n",
       " ('nm0945355', 1),\n",
       " ('nm1268276', 2),\n",
       " ('nm1146916', 8),\n",
       " ('nm0106013', 8),\n",
       " ('nm0269208', 15),\n",
       " ('nm0677521', 1),\n",
       " ('nm0269909', 14),\n",
       " ('nm0440447', 1),\n",
       " ('nm1410687', 3),\n",
       " ('nm2702093', 1),\n",
       " ('nm0936771', 1),\n",
       " ('nm0889662', 1),\n",
       " ('nm0000536', 2),\n",
       " ('nm1000496', 2),\n",
       " ('nm0917838', 1),\n",
       " ('nm0155693', 21),\n",
       " ('nm1574827', 9),\n",
       " ('nm0369202', 23),\n",
       " ('nm0385976', 14),\n",
       " ('nm0688675', 4),\n",
       " ('nm0466965', 1),\n",
       " ('nm0277168', 23),\n",
       " ('nm0404067', 1),\n",
       " ('nm1846447', 9),\n",
       " ('nm0450033', 11),\n",
       " ('nm0146708', 7),\n",
       " ('nm1689442', 3),\n",
       " ('nm0938176', 4),\n",
       " ('nm0295747', 17),\n",
       " ('nm0171811', 26),\n",
       " ('nm0068622', 6),\n",
       " ('nm0434011', 1),\n",
       " ('nm1679608', 1),\n",
       " ('nm0758150', 1),\n",
       " ('nm0718957', 5),\n",
       " ('nm0488686', 3),\n",
       " ('nm0153100', 20),\n",
       " ('nm2028782', 4),\n",
       " ('nm0052830', 5),\n",
       " ('nm0719053', 1),\n",
       " ('nm0081945', 7),\n",
       " ('nm0606261', 1),\n",
       " ('nm0622989', 1),\n",
       " ('nm0698183', 11),\n",
       " ('nm0813893', 11),\n",
       " ('nm0464677', 18),\n",
       " ('nm0168339', 2),\n",
       " ('nm1468403', 3),\n",
       " ('nm2247245', 25),\n",
       " ('nm0071290', 7),\n",
       " ('nm0680352', 2),\n",
       " ('nm0019587', 4),\n",
       " ('nm0820218', 13),\n",
       " ('nm0132064', 24),\n",
       " ('nm0238183', 1),\n",
       " ('nm0121616', 3),\n",
       " ('nm0006713', 15),\n",
       " ('nm1086593', 2),\n",
       " ('nm1474908', 4),\n",
       " ('nm0590535', 3),\n",
       " ('nm1252256', 1),\n",
       " ('nm2429666', 3),\n",
       " ('nm0070194', 1),\n",
       " ('nm0048949', 5),\n",
       " ('nm0514648', 4),\n",
       " ('nm0840965', 4),\n",
       " ('nm0022443', 1),\n",
       " ('nm0559342', 2),\n",
       " ('nm1035730', 3),\n",
       " ('nm1975849', 3),\n",
       " ('nm0810747', 5),\n",
       " ('nm0709354', 8),\n",
       " ('nm0899391', 5),\n",
       " ('nm0931465', 7),\n",
       " ('nm0437032', 13),\n",
       " ('nm0375709', 2),\n",
       " ('nm0905515', 1),\n",
       " ('nm0193510', 1),\n",
       " ('nm0451719', 1),\n",
       " ('nm0217370', 2),\n",
       " ('nm1172944', 2),\n",
       " ('nm1151381', 6),\n",
       " ('nm1291787', 3),\n",
       " ('nm1346461', 1),\n",
       " ('nm0912598', 1),\n",
       " ('nm0738189', 1),\n",
       " ('nm0396671', 1),\n",
       " ('nm1222346', 1),\n",
       " ('nm7922599', 5),\n",
       " ('nm1711829', 9),\n",
       " ('nm1855651', 10),\n",
       " ('nm0438092', 95),\n",
       " ('nm0637973', 1),\n",
       " ('nm0014654', 3),\n",
       " ('nm0800799', 2),\n",
       " ('nm0159017', 5),\n",
       " ('nm4564972', 8),\n",
       " ('nm0640913', 4),\n",
       " ('nm0153002', 1),\n",
       " ('nm0715117', 1),\n",
       " ('nm0001762', 22),\n",
       " ('nm0130816', 1),\n",
       " ('nm0787669', 4),\n",
       " ('nm1025594', 2),\n",
       " ('nm0540935', 19),\n",
       " ('nm0859921', 30),\n",
       " ('nm0324458', 10),\n",
       " ('nm1345551', 18),\n",
       " ('nm0042316', 8),\n",
       " ('nm0718728', 1),\n",
       " ('nm0331426', 7),\n",
       " ('nm0514380', 1),\n",
       " ('nm0240381', 21),\n",
       " ('nm0492259', 2),\n",
       " ('nm0935561', 2),\n",
       " ('nm1063038', 1),\n",
       " ('nm1534812', 5),\n",
       " ('nm0223698', 7),\n",
       " ('nm0549457', 55),\n",
       " ('nm0310532', 6),\n",
       " ('nm1039861', 2),\n",
       " ('nm0779415', 1),\n",
       " ('nm0258905', 52),\n",
       " ('nm0164898', 1),\n",
       " ('nm0563748', 6),\n",
       " ('nm0652278', 8),\n",
       " ('nm0065561', 4),\n",
       " ('nm0241033', 3),\n",
       " ('nm0031277', 10),\n",
       " ('nm0961121', 17),\n",
       " ('nm1229801', 6),\n",
       " ('nm0339080', 1),\n",
       " ('nm1946532', 3),\n",
       " ('nm0770309', 1),\n",
       " ('nm0552713', 2),\n",
       " ('nm0699437', 2),\n",
       " ('nm0657556', 1),\n",
       " ('nm0847328', 1),\n",
       " ('nm0243789', 1),\n",
       " ('nm0871993', 4),\n",
       " ('nm0829537', 6),\n",
       " ('nm0670350', 25),\n",
       " ('nm0332562', 9),\n",
       " ('nm1047726', 29),\n",
       " ('nm1118888', 13),\n",
       " ('nm1189809', 4),\n",
       " ('nm1316789', 3),\n",
       " ('nm0481329', 11),\n",
       " ('nm0453704', 2),\n",
       " ('nm0151293', 34),\n",
       " ('nm0382013', 2),\n",
       " ('nm0002139', 21),\n",
       " ('nm0667135', 3),\n",
       " ('nm0406699', 11),\n",
       " ('nm1128113', 1),\n",
       " ('nm0296546', 13),\n",
       " ('nm1172879', 1),\n",
       " ('nm0116460', 5),\n",
       " ('nm0116809', 3),\n",
       " ('nm0485120', 11),\n",
       " ('nm0060506', 13),\n",
       " ('nm0004272', 12),\n",
       " ('nm0771070', 5),\n",
       " ('nm0231677', 27),\n",
       " ('nm0053891', 9),\n",
       " ('nm0758436', 2),\n",
       " ('nm0912270', 2),\n",
       " ('nm0369560', 1),\n",
       " ('nm0511943', 14),\n",
       " ('nm0741461', 17),\n",
       " ('nm0017861', 2),\n",
       " ('nm0972458', 1),\n",
       " ('nm1007073', 8),\n",
       " ('nm1846933', 4),\n",
       " ('nm1427720', 1),\n",
       " ('nm1530336', 2),\n",
       " ('nm2746310', 5),\n",
       " ('nm0913843', 37),\n",
       " ('nm0537944', 1),\n",
       " ('nm0000246', 103),\n",
       " ('nm0787783', 3),\n",
       " ('nm0273650', 24),\n",
       " ('nm0573809', 1),\n",
       " ('nm0971135', 14),\n",
       " ('nm1593437', 1),\n",
       " ('nm0316501', 1),\n",
       " ('nm0100235', 3),\n",
       " ('nm0755205', 4),\n",
       " ('nm0594465', 54),\n",
       " ('nm1142713', 2),\n",
       " ('nm0005159', 7),\n",
       " ('nm0038673', 6),\n",
       " ('nm0029176', 8),\n",
       " ('nm0971402', 1),\n",
       " ('nm1194190', 1),\n",
       " ('nm0659579', 11),\n",
       " ('nm0555709', 3),\n",
       " ('nm1151908', 2),\n",
       " ('nm0219027', 1),\n",
       " ('nm0847490', 3),\n",
       " ('nm4104993', 9),\n",
       " ('nm0901286', 3),\n",
       " ('nm1070422', 1),\n",
       " ('nm0454447', 1),\n",
       " ('nm1189966', 15),\n",
       " ('nm1458108', 6),\n",
       " ('nm1456114', 12),\n",
       " ('nm0829723', 1),\n",
       " ('nm0532675', 5),\n",
       " ('nm0797610', 24),\n",
       " ('nm0223806', 4),\n",
       " ('nm0083217', 15),\n",
       " ('nm1085551', 1),\n",
       " ('nm0556005', 3),\n",
       " ('nm1215758', 3),\n",
       " ('nm0467416', 2),\n",
       " ('nm3750581', 2),\n",
       " ('nm1840504', 25),\n",
       " ('nm0440465', 3),\n",
       " ('nm8444818', 1),\n",
       " ('nm0346315', 25),\n",
       " ('nm0177393', 1),\n",
       " ('nm0199626', 8),\n",
       " ('nm0822790', 1),\n",
       " ('nm0451092', 3),\n",
       " ('nm0004966', 7),\n",
       " ('nm0900246', 1),\n",
       " ('nm0506858', 3),\n",
       " ('nm1245609', 7),\n",
       " ('nm0546431', 2),\n",
       " ('nm0949744', 25),\n",
       " ('nm0750220', 1),\n",
       " ('nm0403240', 4),\n",
       " ('nm0097304', 6),\n",
       " ('nm0539816', 4),\n",
       " ('nm1899494', 1),\n",
       " ('nm0660107', 1),\n",
       " ('nm0778532', 6),\n",
       " ('nm0192076', 5),\n",
       " ('nm0847826', 13),\n",
       " ('nm0382570', 1),\n",
       " ('nm0123078', 6),\n",
       " ('nm0296675', 1),\n",
       " ('nm0931879', 11),\n",
       " ('nm1812523', 13),\n",
       " ('nm0922616', 11),\n",
       " ('nm0199359', 1),\n",
       " ('nm0125488', 2),\n",
       " ('nm0456372', 2),\n",
       " ('nm0005420', 25),\n",
       " ('nm0753548', 1),\n",
       " ('nm0458468', 2),\n",
       " ('nm0735714', 8),\n",
       " ('nm0677590', 1),\n",
       " ('nm0517884', 5),\n",
       " ('nm0410631', 5),\n",
       " ('nm0066656', 1),\n",
       " ('nm7303106', 1),\n",
       " ('nm0677597', 1),\n",
       " ('nm0217254', 2),\n",
       " ('nm0175042', 1),\n",
       " ('nm0722209', 14),\n",
       " ('nm0172301', 4),\n",
       " ('nm0769214', 1),\n",
       " ('nm0046900', 4),\n",
       " ('nm1182987', 6),\n",
       " ('nm1336288', 2),\n",
       " ('nm0174731', 8),\n",
       " ('nm1082659', 5),\n",
       " ('nm0787519', 6),\n",
       " ('nm0020845', 1),\n",
       " ('nm0799238', 4),\n",
       " ('nm0903833', 8),\n",
       " ('nm0782416', 1),\n",
       " ('nm0993573', 4),\n",
       " ('nm0074945', 2),\n",
       " ('nm2301950', 5),\n",
       " ('nm0137088', 3),\n",
       " ('nm0082848', 181),\n",
       " ('nm1570601', 1),\n",
       " ('nm0753934', 1),\n",
       " ('nm0775812', 1),\n",
       " ('nm0693936', 3),\n",
       " ('nm0123951', 11),\n",
       " ('nm1368718', 3),\n",
       " ('nm0629481', 1),\n",
       " ('nm0374956', 6),\n",
       " ('nm0309404', 17),\n",
       " ('nm0690456', 3),\n",
       " ('nm0717176', 12),\n",
       " ('nm0022045', 18),\n",
       " ('nm0974364', 16),\n",
       " ('nm0183481', 2),\n",
       " ('nm1625753', 1),\n",
       " ('nm0604688', 1),\n",
       " ('nm0814276', 2),\n",
       " ('nm0044762', 39),\n",
       " ('nm1415637', 2),\n",
       " ('nm1654483', 1),\n",
       " ('nm1896736', 6),\n",
       " ('nm0650735', 2),\n",
       " ('nm1411824', 1),\n",
       " ('nm0000952', 20),\n",
       " ('nm0476077', 3),\n",
       " ('nm0943237', 12),\n",
       " ('nm0001491', 40),\n",
       " ('nm0832665', 6),\n",
       " ('nm0491394', 6),\n",
       " ('nm0119532', 10),\n",
       " ('nm1630992', 12),\n",
       " ('nm0462582', 2),\n",
       " ('nm0991884', 7),\n",
       " ('nm0115663', 3),\n",
       " ('nm0681203', 1),\n",
       " ('nm0533305', 6),\n",
       " ('nm1112144', 1),\n",
       " ('nm0764701', 2),\n",
       " ('nm1434772', 15),\n",
       " ('nm1975751', 2),\n",
       " ('nm0774714', 3),\n",
       " ('nm2132101', 1),\n",
       " ('nm1055638', 9),\n",
       " ('nm0072628', 1),\n",
       " ('nm0880813', 12),\n",
       " ('nm2024176', 8),\n",
       " ('nm0393682', 2),\n",
       " ('nm0864592', 3),\n",
       " ('nm2683997', 2),\n",
       " ('nm0855429', 32),\n",
       " ('nm1309446', 1),\n",
       " ('nm1029798', 2),\n",
       " ('nm1179803', 4),\n",
       " ('nm0001189', 1),\n",
       " ('nm0529518', 5),\n",
       " ('nm0541098', 1),\n",
       " ('nm0084524', 1),\n",
       " ('nm0111272', 1),\n",
       " ('nm0094846', 3),\n",
       " ('nm0456388', 5),\n",
       " ('nm0398461', 1),\n",
       " ('nm1313634', 2),\n",
       " ('nm1416479', 1),\n",
       " ('nm1446997', 1),\n",
       " ('nm1523600', 4),\n",
       " ('nm0243986', 8),\n",
       " ('nm0731798', 1),\n",
       " ('nm0757726', 6),\n",
       " ('nm0535023', 1),\n",
       " ('nm0436499', 2),\n",
       " ('nm0173427', 1),\n",
       " ('nm1513729', 1),\n",
       " ('nm1346115', 1),\n",
       " ('nm3538718', 14),\n",
       " ('nm1652814', 2),\n",
       " ('nm0919518', 2),\n",
       " ('nm0019927', 1),\n",
       " ('nm0229313', 8),\n",
       " ('nm0074333', 3),\n",
       " ('nm0030797', 9),\n",
       " ('nm0775960', 3),\n",
       " ('nm1882951', 1),\n",
       " ('nm0005210', 9),\n",
       " ('nm1993171', 2),\n",
       " ('nm0336390', 26),\n",
       " ('nm0149435', 5),\n",
       " ('nm0010629', 1),\n",
       " ('nm0865078', 25),\n",
       " ('nm0376891', 10),\n",
       " ('nm0455837', 52),\n",
       " ('nm2003849', 2),\n",
       " ('nm0147739', 1),\n",
       " ('nm0973370', 22),\n",
       " ('nm1534125', 7),\n",
       " ('nm2047098', 1),\n",
       " ('nm0804140', 2),\n",
       " ('nm0567710', 4),\n",
       " ('nm0391072', 7),\n",
       " ('nm0487102', 1),\n",
       " ('nm0412177', 2),\n",
       " ('nm0311328', 5),\n",
       " ('nm0014554', 15),\n",
       " ('nm2518968', 2),\n",
       " ('nm0868477', 4),\n",
       " ('nm0673802', 1),\n",
       " ('nm0640351', 2),\n",
       " ('nm0419187', 4),\n",
       " ('nm1446299', 1),\n",
       " ('nm0497383', 23),\n",
       " ('nm1208172', 9),\n",
       " ('nm0255554', 46),\n",
       " ('nm0559381', 19),\n",
       " ('nm0356820', 2),\n",
       " ('nm0801900', 1),\n",
       " ('nm0413974', 1),\n",
       " ('nm1959774', 18),\n",
       " ('nm0628576', 1),\n",
       " ('nm0620411', 2),\n",
       " ('nm0393535', 36),\n",
       " ('nm0019681', 6),\n",
       " ('nm0379609', 4),\n",
       " ('nm0287186', 3),\n",
       " ('nm0068755', 11),\n",
       " ('nm3369811', 2),\n",
       " ('nm0614250', 2),\n",
       " ('nm1149597', 1),\n",
       " ('nm1347058', 1),\n",
       " ('nm0183945', 3),\n",
       " ('nm0852766', 12),\n",
       " ('nm0809869', 1),\n",
       " ('nm0096824', 2),\n",
       " ('nm0876942', 30),\n",
       " ('nm0736521', 1),\n",
       " ('nm0638099', 3),\n",
       " ('nm1020124', 15),\n",
       " ('nm1671547', 5),\n",
       " ('nm0655938', 4),\n",
       " ('nm2207222', 17),\n",
       " ('nm1660138', 11),\n",
       " ('nm0464030', 4),\n",
       " ('nm0922518', 1),\n",
       " ('nm0373372', 2),\n",
       " ('nm0001332', 15),\n",
       " ('nm1260445', 3),\n",
       " ('nm1067548', 9),\n",
       " ('nm0224069', 5),\n",
       " ('nm2279833', 1),\n",
       " ('nm0421956', 1),\n",
       " ('nm0123331', 2),\n",
       " ('nm0629978', 4),\n",
       " ('nm1367635', 1),\n",
       " ('nm1116906', 5),\n",
       " ('nm0448976', 2),\n",
       " ('nm4500976', 1),\n",
       " ('nm1140952', 8),\n",
       " ('nm1516909', 2),\n",
       " ('nm0362890', 3),\n",
       " ('nm5058719', 11),\n",
       " ('nm0297676', 14),\n",
       " ('nm0951671', 1),\n",
       " ('nm0397465', 3),\n",
       " ('nm2125252', 1),\n",
       " ('nm0727120', 16),\n",
       " ('nm0439435', 22),\n",
       " ('nm0232061', 1),\n",
       " ('nm1525948', 11),\n",
       " ('nm1122636', 5),\n",
       " ('nm1232360', 1),\n",
       " ('nm0156226', 2),\n",
       " ('nm1693432', 13),\n",
       " ('nm0414417', 3),\n",
       " ('nm0763995', 5),\n",
       " ('nm0631230', 4),\n",
       " ('nm0183464', 13),\n",
       " ('nm0843819', 2),\n",
       " ('nm0193664', 2),\n",
       " ('nm0587533', 1),\n",
       " ('nm1411119', 4),\n",
       " ('nm1579531', 1),\n",
       " ('nm1544084', 6),\n",
       " ('nm0000267', 29),\n",
       " ('nm0251468', 6),\n",
       " ('nm0419726', 1),\n",
       " ('nm0473035', 16),\n",
       " ('nm0001400', 21),\n",
       " ('nm0420745', 3),\n",
       " ('nm3056196', 11),\n",
       " ('nm0230317', 3),\n",
       " ('nm0258784', 16),\n",
       " ('nm1796390', 7),\n",
       " ('nm0793619', 6),\n",
       " ('nm2634755', 7),\n",
       " ('nm0433440', 1),\n",
       " ('nm0095104', 4),\n",
       " ('nm1435211', 1),\n",
       " ('nm0578247', 14),\n",
       " ('nm0747500', 62),\n",
       " ('nm0004850', 9),\n",
       " ('nm0065942', 25),\n",
       " ('nm1403431', 1),\n",
       " ('nm1495232', 1),\n",
       " ('nm0429069', 16),\n",
       " ('nm0576316', 2),\n",
       " ('nm1426138', 7),\n",
       " ('nm1371703', 4),\n",
       " ('nm0125379', 8),\n",
       " ('nm0903679', 2),\n",
       " ('nm0089608', 1),\n",
       " ('nm1033824', 1),\n",
       " ('nm0776580', 10),\n",
       " ('nm0454109', 4),\n",
       " ('nm2695751', 1),\n",
       " ('nm0921488', 4),\n",
       " ('nm1186499', 1),\n",
       " ('nm0361072', 7),\n",
       " ('nm0000825', 3),\n",
       " ('nm0761782', 1),\n",
       " ('nm0887122', 1),\n",
       " ('nm0506616', 5),\n",
       " ('nm0286384', 2),\n",
       " ('nm0911976', 25),\n",
       " ('nm0960528', 1),\n",
       " ('nm0532842', 1),\n",
       " ('nm0480754', 14),\n",
       " ('nm1118696', 1),\n",
       " ('nm1459074', 1),\n",
       " ('nm0310303', 1),\n",
       " ('nm0938531', 10),\n",
       " ('nm1036691', 4),\n",
       " ('nm2363570', 1),\n",
       " ('nm0191229', 1),\n",
       " ('nm6244013', 10),\n",
       " ('nm0735167', 13),\n",
       " ('nm0336245', 3),\n",
       " ('nm1913092', 1),\n",
       " ('nm0800828', 2),\n",
       " ('nm0642488', 1),\n",
       " ('nm0159514', 25),\n",
       " ('nm0733153', 1),\n",
       " ('nm0007412', 2),\n",
       " ('nm0004893', 7),\n",
       " ('nm0659000', 13),\n",
       " ('nm0868012', 3),\n",
       " ('nm0440761', 5),\n",
       " ('nm1089703', 1),\n",
       " ('nm0754107', 8),\n",
       " ('nm1592300', 3),\n",
       " ('nm0459538', 2),\n",
       " ('nm0263760', 16),\n",
       " ('nm0858479', 5),\n",
       " ('nm1129314', 3),\n",
       " ('nm0338061', 6),\n",
       " ('nm0210915', 17),\n",
       " ('nm1042403', 2),\n",
       " ('nm0840551', 15),\n",
       " ('nm0577236', 1),\n",
       " ('nm0069990', 1),\n",
       " ('nm1507623', 1),\n",
       " ('nm0481993', 2),\n",
       " ('nm0165760', 5),\n",
       " ('nm0441752', 4),\n",
       " ('nm0474391', 2),\n",
       " ('nm0885374', 21),\n",
       " ('nm0656818', 1),\n",
       " ('nm0352643', 3),\n",
       " ('nm0575957', 2),\n",
       " ('nm0431659', 1),\n",
       " ('nm0709839', 4),\n",
       " ('nm0006765', 1),\n",
       " ('nm0469083', 12),\n",
       " ('nm1859942', 2),\n",
       " ('nm0133197', 28),\n",
       " ('nm0941471', 3),\n",
       " ('nm0884644', 1),\n",
       " ('nm0455187', 6),\n",
       " ('nm0000146', 65),\n",
       " ('nm0000405', 15),\n",
       " ('nm0215231', 1),\n",
       " ('nm0410905', 7),\n",
       " ('nm2085319', 1),\n",
       " ('nm1050523', 4),\n",
       " ('nm0634935', 2),\n",
       " ('nm1201893', 6),\n",
       " ('nm2018079', 4),\n",
       " ('nm0461712', 9),\n",
       " ('nm0737406', 2),\n",
       " ('nm0669939', 1),\n",
       " ('nm0223973', 31),\n",
       " ('nm1514507', 1),\n",
       " ('nm0762774', 1),\n",
       " ('nm0441369', 5),\n",
       " ('nm1244774', 8),\n",
       " ('nm1385845', 1),\n",
       " ('nm1073289', 2),\n",
       " ('nm0604208', 1),\n",
       " ('nm0813954', 1),\n",
       " ('nm1626618', 2),\n",
       " ('nm0336474', 15),\n",
       " ('nm1099123', 3),\n",
       " ('nm0091072', 43),\n",
       " ('nm0000257', 33),\n",
       " ('nm0262333', 1),\n",
       " ('nm0455133', 19),\n",
       " ('nm0018837', 2),\n",
       " ('nm0522429', 9),\n",
       " ('nm0458768', 11),\n",
       " ('nm0782373', 3),\n",
       " ('nm0692737', 2),\n",
       " ('nm0713221', 3),\n",
       " ('nm0631740', 2),\n",
       " ('nm0899064', 1),\n",
       " ('nm0833751', 3),\n",
       " ('nm1832193', 1),\n",
       " ('nm0751359', 1),\n",
       " ('nm0777596', 1),\n",
       " ('nm0421849', 2),\n",
       " ('nm0000327', 28),\n",
       " ('nm0506368', 1),\n",
       " ('nm0648499', 44),\n",
       " ('nm1414931', 10),\n",
       " ('nm0577428', 3),\n",
       " ('nm0808860', 12),\n",
       " ('nm0542558', 16),\n",
       " ('nm1570124', 1),\n",
       " ('nm0739490', 3),\n",
       " ('nm0461201', 2),\n",
       " ('nm0524963', 8),\n",
       " ('nm0383675', 1),\n",
       " ('nm0298571', 2),\n",
       " ('nm0608263', 3),\n",
       " ('nm0393419', 4),\n",
       " ('nm0855417', 25),\n",
       " ('nm0846339', 6),\n",
       " ('nm0443159', 2),\n",
       " ('nm0046347', 45),\n",
       " ('nm0476643', 15),\n",
       " ('nm0896942', 6),\n",
       " ('nm1659972', 2),\n",
       " ('nm0880504', 5),\n",
       " ('nm0198114', 6),\n",
       " ('nm0351334', 11),\n",
       " ('nm0099178', 2),\n",
       " ('nm0485402', 3),\n",
       " ('nm0224468', 4),\n",
       " ('nm0052488', 2),\n",
       " ('nm1117310', 5),\n",
       " ('nm1021126', 2),\n",
       " ('nm1354491', 17),\n",
       " ('nm0555466', 1),\n",
       " ('nm0559698', 53),\n",
       " ('nm0904907', 3),\n",
       " ('nm0403425', 1),\n",
       " ('nm0464656', 2),\n",
       " ('nm0196672', 1),\n",
       " ('nm0535434', 1),\n",
       " ('nm0536424', 1),\n",
       " ('nm0594069', 1),\n",
       " ('nm0661886', 28),\n",
       " ('nm0842554', 1),\n",
       " ('nm0412212', 1),\n",
       " ('nm0577081', 1),\n",
       " ('nm1372650', 5),\n",
       " ('nm0658602', 2),\n",
       " ('nm1484714', 1),\n",
       " ('nm1119427', 2),\n",
       " ('nm1872228', 3),\n",
       " ('nm1151223', 20),\n",
       " ('nm3484277', 5),\n",
       " ('nm0323067', 2),\n",
       " ('nm0543666', 37),\n",
       " ('nm0378969', 1),\n",
       " ('nm0016897', 2),\n",
       " ('nm0670426', 1),\n",
       " ('nm1376961', 1),\n",
       " ('nm0501565', 4),\n",
       " ('nm0516272', 47),\n",
       " ('nm0072344', 28),\n",
       " ('nm0725284', 18),\n",
       " ('nm0816637', 29),\n",
       " ('nm0356021', 30),\n",
       " ('nm1147581', 6),\n",
       " ('nm0387847', 8),\n",
       " ('nm0119097', 26),\n",
       " ('nm0011095', 4),\n",
       " ('nm0298630', 5),\n",
       " ('nm0270470', 1),\n",
       " ('nm0888070', 2),\n",
       " ('nm0177059', 5),\n",
       " ('nm1100104', 3),\n",
       " ('nm0093312', 1),\n",
       " ('nm0770221', 2),\n",
       " ('nm0491560', 7),\n",
       " ('nm0004355', 14),\n",
       " ('nm0538394', 14),\n",
       " ('nm0738376', 1),\n",
       " ('nm1172198', 10),\n",
       " ('nm2932767', 10),\n",
       " ('nm2098258', 8),\n",
       " ('nm1452476', 2),\n",
       " ('nm3539944', 1),\n",
       " ('nm0124417', 4),\n",
       " ('nm0072758', 12),\n",
       " ('nm0456343', 9),\n",
       " ('nm0529477', 2),\n",
       " ('nm0260245', 4),\n",
       " ('nm0161308', 16),\n",
       " ('nm0806527', 4),\n",
       " ('nm0000104', 95),\n",
       " ('nm0316455', 12),\n",
       " ('nm0005289', 7),\n",
       " ('nm0354810', 1),\n",
       " ('nm1397509', 1),\n",
       " ('nm1076584', 11),\n",
       " ('nm1575181', 1),\n",
       " ('nm0443577', 36),\n",
       " ('nm0779966', 2),\n",
       " ('nm0055796', 6),\n",
       " ('nm0335691', 8),\n",
       " ('nm0756964', 6),\n",
       " ('nm0596818', 4),\n",
       " ('nm0547715', 34),\n",
       " ('nm0704398', 2),\n",
       " ('nm0696059', 10),\n",
       " ('nm0968535', 4),\n",
       " ('nm1727951', 7),\n",
       " ('nm1626256', 6),\n",
       " ('nm0345614', 2),\n",
       " ('nm0791974', 2),\n",
       " ('nm0250784', 1),\n",
       " ('nm0745402', 7),\n",
       " ('nm0548648', 2),\n",
       " ('nm0740390', 2),\n",
       " ('nm0008410', 2),\n",
       " ('nm1776377', 4),\n",
       " ('nm0711552', 1),\n",
       " ('nm0647970', 16),\n",
       " ('nm0273018', 37),\n",
       " ('nm0407613', 1),\n",
       " ('nm0324085', 12),\n",
       " ('nm0678683', 2),\n",
       " ('nm3821714', 1),\n",
       " ('nm1565984', 10),\n",
       " ('nm1065785', 2),\n",
       " ('nm0670230', 3),\n",
       " ('nm2709093', 1),\n",
       " ('nm0255517', 11),\n",
       " ('nm0453956', 20),\n",
       " ('nm0002728', 1),\n",
       " ('nm1119539', 5),\n",
       " ('nm1090133', 2),\n",
       " ('nm0940946', 31),\n",
       " ('nm0013822', 1),\n",
       " ('nm0036651', 17),\n",
       " ('nm0490555', 14),\n",
       " ('nm0841311', 5),\n",
       " ('nm0854518', 1),\n",
       " ('nm0911787', 4),\n",
       " ('nm0679513', 8),\n",
       " ('nm0040012', 2),\n",
       " ('nm0026196', 4),\n",
       " ('nm0279056', 3),\n",
       " ('nm1834124', 13),\n",
       " ('nm0538260', 2),\n",
       " ('nm0732133', 6),\n",
       " ('nm0441754', 5),\n",
       " ('nm0256660', 9),\n",
       " ('nm0729468', 1),\n",
       " ('nm0617031', 11),\n",
       " ('nm0727059', 1),\n",
       " ('nm0561415', 44),\n",
       " ('nm0628669', 23),\n",
       " ('nm0566525', 3),\n",
       " ('nm0352000', 1),\n",
       " ('nm2487842', 1),\n",
       " ('nm1538338', 1),\n",
       " ('nm1487708', 2),\n",
       " ('nm2518107', 14),\n",
       " ('nm2011414', 49),\n",
       " ('nm3744068', 3),\n",
       " ('nm1381367', 17),\n",
       " ('nm2112748', 24),\n",
       " ('nm0330015', 17),\n",
       " ('nm0051055', 6),\n",
       " ('nm0419206', 4),\n",
       " ('nm0000186', 3),\n",
       " ('nm0463579', 4),\n",
       " ('nm0349020', 5),\n",
       " ('nm0001978', 5),\n",
       " ('nm0685328', 6),\n",
       " ('nm0022387', 1),\n",
       " ('nm0843114', 1),\n",
       " ('nm1495459', 1),\n",
       " ('nm1375991', 4),\n",
       " ('nm0594151', 2),\n",
       " ('nm1548044', 16),\n",
       " ('nm0108795', 1),\n",
       " ('nm1505845', 1),\n",
       " ('nm0689933', 18),\n",
       " ('nm0044079', 24),\n",
       " ('nm0588984', 1),\n",
       " ('nm0470451', 3),\n",
       " ('nm0420688', 11),\n",
       " ('nm0594523', 31),\n",
       " ('nm0095982', 5),\n",
       " ('nm0863130', 8),\n",
       " ('nm0655607', 4),\n",
       " ('nm0404687', 4),\n",
       " ('nm0240066', 1),\n",
       " ('nm0238051', 5),\n",
       " ('nm3123241', 3),\n",
       " ('nm0316162', 13),\n",
       " ('nm1258766', 6),\n",
       " ('nm4935244', 1),\n",
       " ('nm0601003', 5),\n",
       " ('nm2589815', 5),\n",
       " ('nm0336140', 1),\n",
       " ('nm0136622', 33),\n",
       " ('nm0857167', 28),\n",
       " ('nm0001633', 18),\n",
       " ('nm0148996', 27),\n",
       " ('nm0861208', 3),\n",
       " ('nm0101202', 2),\n",
       " ('nm0251098', 1),\n",
       " ('nm2357569', 1),\n",
       " ('nm1460782', 44),\n",
       " ('nm0880744', 2),\n",
       " ('nm0767181', 22),\n",
       " ('nm0172084', 3),\n",
       " ('nm0000292', 42),\n",
       " ('nm0440860', 7),\n",
       " ('nm2496455', 2),\n",
       " ('nm0757824', 9),\n",
       " ('nm0352748', 1),\n",
       " ('nm0664203', 17),\n",
       " ('nm0583057', 1),\n",
       " ('nm0538778', 1),\n",
       " ('nm0046277', 24),\n",
       " ('nm1047185', 7),\n",
       " ('nm0752005', 1),\n",
       " ('nm0015590', 1),\n",
       " ('nm0960359', 27),\n",
       " ('nm0551397', 13),\n",
       " ('nm0491669', 3),\n",
       " ('nm0453238', 4),\n",
       " ('nm0404003', 45),\n",
       " ('nm0011928', 2),\n",
       " ('nm0468229', 8),\n",
       " ('nm1905247', 15),\n",
       " ('nm1476870', 1),\n",
       " ('nm14361822', 1),\n",
       " ('nm0345152', 11),\n",
       " ('nm0199453', 1),\n",
       " ('nm0438585', 20),\n",
       " ('nm0264475', 1),\n",
       " ('nm0158414', 27),\n",
       " ('nm0830767', 7),\n",
       " ('nm0937251', 7),\n",
       " ('nm0227572', 3),\n",
       " ('nm0793781', 21),\n",
       " ('nm0108431', 15),\n",
       " ('nm1499443', 1),\n",
       " ('nm0000598', 79),\n",
       " ('nm0424044', 8),\n",
       " ('nm0838520', 98),\n",
       " ('nm0251526', 16),\n",
       " ('nm0497641', 7),\n",
       " ('nm0624423', 1),\n",
       " ('nm1690717', 4),\n",
       " ('nm0971255', 1),\n",
       " ('nm1258003', 3),\n",
       " ('nm2122921', 1),\n",
       " ('nm0092657', 2),\n",
       " ('nm0611644', 34),\n",
       " ('nm0017460', 2),\n",
       " ('nm0397603', 9),\n",
       " ('nm0508349', 12),\n",
       " ('nm0891203', 3),\n",
       " ('nm0187460', 6),\n",
       " ('nm0471967', 1),\n",
       " ('nm1058653', 2),\n",
       " ('nm0216469', 3),\n",
       " ('nm1443610', 3),\n",
       " ('nm0934090', 1),\n",
       " ('nm1502701', 1),\n",
       " ('nm1458132', 5),\n",
       " ('nm1384340', 4),\n",
       " ('nm0676251', 3),\n",
       " ('nm0001512', 16),\n",
       " ('nm0423470', 10),\n",
       " ('nm0110433', 8),\n",
       " ('nm0330853', 33),\n",
       " ('nm0882464', 2),\n",
       " ('nm0225189', 6),\n",
       " ('nm0175228', 1),\n",
       " ('nm0205729', 1),\n",
       " ('nm0565002', 1),\n",
       " ('nm1220852', 1),\n",
       " ('nm0705356', 27),\n",
       " ('nm1778479', 2),\n",
       " ...]"
      ]
     },
     "execution_count": 204,
     "metadata": {},
     "output_type": "execute_result"
    }
   ],
   "source": [
    "# We only want the Actor/Actress nconst and the their total number of appearances for the Machine Learning model\n",
    "sum_appearances_per_actor = q3_rdd.map(lambda x: (x[0], x[1][0]))\n",
    "\n",
    "# Show how the first feature will finally look like\n",
    "sum_appearances_per_actor.collect()"
   ]
  },
  {
   "cell_type": "code",
   "execution_count": 0,
   "metadata": {
    "application/vnd.databricks.v1+cell": {
     "cellMetadata": {
      "byteLimit": 2048000,
      "rowLimit": 10000
     },
     "inputWidgets": {},
     "nuid": "50fd2224-3c82-4f5a-ae8f-42dfe8fe0081",
     "showTitle": false,
     "title": ""
    }
   },
   "outputs": [
    {
     "output_type": "stream",
     "name": "stdout",
     "output_type": "stream",
     "text": [
      "+---------+-----------------+\n|tconst   |total_appearances|\n+---------+-----------------+\n|tt0066023|70               |\n|tt0072265|19               |\n|tt0087768|12               |\n|tt0111050|256              |\n|tt0161292|139              |\n|tt0193004|27               |\n|tt0285501|18               |\n|tt0444631|45               |\n|tt0069276|17               |\n|tt0109566|146              |\n+---------+-----------------+\nonly showing top 10 rows\n\n"
     ]
    }
   ],
   "source": [
    "# Convert the RDD to a DataFrame\n",
    "sum_appearances_df = sum_appearances_per_actor.toDF([\"nconst\", \"appearances\"])\n",
    "\n",
    "# Join the Q2 DataFrame with the sum_appearances_df on 'nconst'\n",
    "sum_appearances = q2_df.join(sum_appearances_df, on=\"nconst\")\n",
    "\n",
    "# Group by 'tconst' and sum the 'appearances'\n",
    "sum_appearances = sum_appearances.groupBy(\"tconst\").agg(sum(\"appearances\").alias(\"total_appearances\"))\n",
    "\n",
    "# Show the the first 10 records of this feature\n",
    "sum_appearances.show(10, truncate=False)"
   ]
  },
  {
   "cell_type": "markdown",
   "metadata": {
    "application/vnd.databricks.v1+cell": {
     "cellMetadata": {},
     "inputWidgets": {},
     "nuid": "b4dac2d4-db1a-4203-b561-0f9f1df91793",
     "showTitle": false,
     "title": ""
    }
   },
   "source": [
    "### Feature 2: The average pagerank of the cast in each movie (based on Q5)"
   ]
  },
  {
   "cell_type": "code",
   "execution_count": 0,
   "metadata": {
    "application/vnd.databricks.v1+cell": {
     "cellMetadata": {
      "byteLimit": 2048000,
      "rowLimit": 10000
     },
     "inputWidgets": {},
     "nuid": "13c3ba05-5906-4303-80e6-dbcbb252f6ed",
     "showTitle": false,
     "title": ""
    }
   },
   "outputs": [
    {
     "output_type": "execute_result",
     "data": {
      "text/plain": [
       "[Row(id='nm0000616', pagerank=48.71990343037742),\n",
       " Row(id='nm0000514', pagerank=30.008493679902248),\n",
       " Row(id='nm0001803', pagerank=22.23336086939524),\n",
       " Row(id='nm0202966', pagerank=21.45265045274668),\n",
       " Row(id='nm0261724', pagerank=20.79757260482764)]"
      ]
     },
     "execution_count": 206,
     "metadata": {},
     "output_type": "execute_result"
    }
   ],
   "source": [
    "# Convert the PageRank dataframe q5_df to an RDD\n",
    "page_rank_rdd = q5_df.rdd\n",
    "\n",
    "# Check the first 5 rows of the PageRank RDD\n",
    "page_rank_rdd.take(5)"
   ]
  },
  {
   "cell_type": "code",
   "execution_count": 0,
   "metadata": {
    "application/vnd.databricks.v1+cell": {
     "cellMetadata": {
      "byteLimit": 2048000,
      "rowLimit": 10000
     },
     "inputWidgets": {},
     "nuid": "8a5778d4-1c6c-4f5b-829d-bb7ba2a02dd5",
     "showTitle": false,
     "title": ""
    }
   },
   "outputs": [
    {
     "output_type": "stream",
     "name": "stdout",
     "output_type": "stream",
     "text": [
      "+---------+------------------+\n|tconst   |avg_page_rank     |\n+---------+------------------+\n|tt0066023|1.6669807887815333|\n|tt0072265|0.8787050348428577|\n|tt0087768|0.6823888355989246|\n|tt0111050|2.9045788825030976|\n|tt0161292|4.631269391806906 |\n|tt0193004|1.1488961116976883|\n|tt0285501|0.6575180847102265|\n|tt0444631|1.5017976872651895|\n|tt0069276|0.9002444305495564|\n|tt0109566|4.18935141539029  |\n+---------+------------------+\nonly showing top 10 rows\n\n"
     ]
    }
   ],
   "source": [
    "# Convert the RDD to a DataFrame\n",
    "page_rank_per_actor = page_rank_rdd.toDF([\"nconst\", \"PageRank\"])\n",
    "\n",
    "# Join the Q2 DataFrame with the page_rank_per_actor on 'nconst'\n",
    "avg_page_rank = q2_df.join(page_rank_per_actor, on=\"nconst\")\n",
    "\n",
    "# Group by 'tconst' and average the 'PageRank'\n",
    "avg_page_rank = avg_page_rank.groupBy(\"tconst\").agg(avg(\"PageRank\").alias(\"avg_page_rank\"))\n",
    "\n",
    "# Show the the first 10 records of this feature\n",
    "avg_page_rank.show(10, truncate=False)"
   ]
  },
  {
   "cell_type": "markdown",
   "metadata": {
    "application/vnd.databricks.v1+cell": {
     "cellMetadata": {},
     "inputWidgets": {},
     "nuid": "b55b3dab-c568-4d1f-ae39-998136e8b8a1",
     "showTitle": false,
     "title": ""
    }
   },
   "source": [
    "### Feature 3: The average outDegree of the cast in each movie (based on Q6)"
   ]
  },
  {
   "cell_type": "code",
   "execution_count": 0,
   "metadata": {
    "application/vnd.databricks.v1+cell": {
     "cellMetadata": {
      "byteLimit": 2048000,
      "rowLimit": 10000
     },
     "inputWidgets": {},
     "nuid": "18a8f21f-e63f-40b6-915b-c7d6e6aa78ee",
     "showTitle": false,
     "title": ""
    }
   },
   "outputs": [
    {
     "output_type": "execute_result",
     "data": {
      "text/plain": [
       "[Row(id='nm0000362', outDegree=367),\n",
       " Row(id='nm0726016', outDegree=5),\n",
       " Row(id='nm1616937', outDegree=99),\n",
       " Row(id='nm0191412', outDegree=145),\n",
       " Row(id='nm0911320', outDegree=259)]"
      ]
     },
     "execution_count": 208,
     "metadata": {},
     "output_type": "execute_result"
    }
   ],
   "source": [
    "# Convert the outDegree DataFrame q6_df to an RDD\n",
    "outdegree_rdd = q6_df.rdd\n",
    "\n",
    "# Check the first 5 rows of the Outdegree RDD\n",
    "outdegree_rdd.take(5)"
   ]
  },
  {
   "cell_type": "code",
   "execution_count": 0,
   "metadata": {
    "application/vnd.databricks.v1+cell": {
     "cellMetadata": {
      "byteLimit": 2048000,
      "rowLimit": 10000
     },
     "inputWidgets": {},
     "nuid": "3332352b-5eb3-4315-8239-da53ac99ef6b",
     "showTitle": false,
     "title": ""
    }
   },
   "outputs": [
    {
     "output_type": "stream",
     "name": "stdout",
     "output_type": "stream",
     "text": [
      "+---------+------------------+\n|tconst   |avg_outdegree     |\n+---------+------------------+\n|tt0066023|35.833333333333336|\n|tt0072265|14.666666666666666|\n|tt0087768|10.666666666666666|\n|tt0111050|126.5             |\n|tt0161292|129.5             |\n|tt0193004|18.75             |\n|tt0285501|17.5              |\n|tt0444631|40.4              |\n|tt0069276|14.666666666666666|\n|tt0109566|128.5             |\n+---------+------------------+\nonly showing top 10 rows\n\n"
     ]
    }
   ],
   "source": [
    "# Convert the RDD to a DataFrame\n",
    "outdegree_per_actor = outdegree_rdd.toDF([\"nconst\", \"Outdegree\"])\n",
    "\n",
    "# Join the Q2 DataFrame with the outdegree_per_actor on 'nconst'\n",
    "avg_outdegree = q2_df.join(outdegree_per_actor, on=\"nconst\")\n",
    "\n",
    "# Group by 'tconst' and average the 'Outdegree'\n",
    "avg_outdegree = avg_outdegree.groupBy(\"tconst\").agg(avg(\"Outdegree\").alias(\"avg_outdegree\"))\n",
    "\n",
    "# Show the the first 10 records of this feature\n",
    "avg_outdegree.show(10, truncate=False)"
   ]
  },
  {
   "cell_type": "markdown",
   "metadata": {
    "application/vnd.databricks.v1+cell": {
     "cellMetadata": {},
     "inputWidgets": {},
     "nuid": "113f30d7-d267-40d8-98ee-8c7912ca6b75",
     "showTitle": false,
     "title": ""
    }
   },
   "source": [
    "### Feature 4: The average value for for the cast of degrees of Kevin Bacon (based on Q7)."
   ]
  },
  {
   "cell_type": "code",
   "execution_count": 0,
   "metadata": {
    "application/vnd.databricks.v1+cell": {
     "cellMetadata": {
      "byteLimit": 2048000,
      "rowLimit": 10000
     },
     "inputWidgets": {},
     "nuid": "fae5203c-8cd3-4207-b962-68e3b784b1b5",
     "showTitle": false,
     "title": ""
    }
   },
   "outputs": [
    {
     "output_type": "execute_result",
     "data": {
      "text/plain": [
       "[Row(id='nm0000198', distance=1),\n",
       " Row(id='nm0350453', distance=2),\n",
       " Row(id='nm0068551', distance=2),\n",
       " Row(id='nm0212204', distance=3),\n",
       " Row(id='nm0091035', distance=3)]"
      ]
     },
     "execution_count": 210,
     "metadata": {},
     "output_type": "execute_result"
    }
   ],
   "source": [
    "# Convert the shortest path distances DataFrame q7_df to an RDD\n",
    "distance_to_kevin_bacon = q7_df.rdd\n",
    "\n",
    "# Check the first 5 rows of the shortest path distances RDD\n",
    "distance_to_kevin_bacon.take(5)"
   ]
  },
  {
   "cell_type": "code",
   "execution_count": 0,
   "metadata": {
    "application/vnd.databricks.v1+cell": {
     "cellMetadata": {
      "byteLimit": 2048000,
      "rowLimit": 10000
     },
     "inputWidgets": {},
     "nuid": "bfa682cf-5dad-430c-89fb-c2a9831069ef",
     "showTitle": false,
     "title": ""
    }
   },
   "outputs": [
    {
     "output_type": "stream",
     "name": "stdout",
     "output_type": "stream",
     "text": [
      "+---------+---------------------------+\n|tconst   |avg_distance_to_kevin_bacon|\n+---------+---------------------------+\n|tt0066023|3.1666666666666665         |\n|tt0072265|3.0                        |\n|tt0087768|3.0                        |\n|tt0111050|3.1666666666666665         |\n|tt0161292|2.8333333333333335         |\n|tt0193004|3.75                       |\n|tt0285501|4.0                        |\n|tt0444631|1.8                        |\n|tt0069276|3.6666666666666665         |\n|tt0109566|2.1666666666666665         |\n+---------+---------------------------+\nonly showing top 10 rows\n\n"
     ]
    }
   ],
   "source": [
    "# Convert the RDD to a DataFrame\n",
    "distances_per_actor = distance_to_kevin_bacon.toDF([\"nconst\", \"Distance\"])\n",
    "\n",
    "# Join the Q2 DataFrame with the distances_per_actor on 'nconst'\n",
    "avg_dist_kevin_bacon = q2_df.join(distances_per_actor, on=\"nconst\")\n",
    "\n",
    "# Group by 'tconst' and average the 'Distance'\n",
    "avg_dist_kevin_bacon = avg_dist_kevin_bacon.groupBy(\"tconst\").agg(avg(\"Distance\").alias(\"avg_distance_to_kevin_bacon\"))\n",
    "\n",
    "# Show the first 10 records of this feature\n",
    "avg_dist_kevin_bacon.show(10, truncate=False)"
   ]
  },
  {
   "cell_type": "markdown",
   "metadata": {
    "application/vnd.databricks.v1+cell": {
     "cellMetadata": {},
     "inputWidgets": {},
     "nuid": "b08bddf8-802c-443d-ac7d-0d7414abba52",
     "showTitle": false,
     "title": ""
    }
   },
   "source": [
    "### Concatenating all the Features and the target variable"
   ]
  },
  {
   "cell_type": "code",
   "execution_count": 0,
   "metadata": {
    "application/vnd.databricks.v1+cell": {
     "cellMetadata": {
      "byteLimit": 2048000,
      "rowLimit": 10000
     },
     "inputWidgets": {},
     "nuid": "15fedee9-2843-4ad5-9be4-29e2536a1ce1",
     "showTitle": false,
     "title": ""
    }
   },
   "outputs": [
    {
     "output_type": "stream",
     "name": "stdout",
     "output_type": "stream",
     "text": [
      "+---------+-----------------+------------------+-------------+---------------------------+------+\n|tconst   |total_appearances|avg_page_rank     |avg_outdegree|avg_distance_to_kevin_bacon|rating|\n+---------+-----------------+------------------+-------------+---------------------------+------+\n|tt0020652|5                |0.6839284375000029|1.0          |20.0                       |4.9   |\n|tt0022064|76               |4.272723979659575 |98.0         |2.0                        |5.3   |\n|tt0024193|21               |1.000000000000004 |1.0          |20.0                       |6.8   |\n|tt0025557|105              |6.235885769190589 |156.0        |3.0                        |6.8   |\n|tt0026264|22               |1.000000000000004 |1.0          |20.0                       |6.6   |\n|tt0026264|22               |1.000000000000004 |1.0          |20.0                       |6.6   |\n|tt0026455|21               |1.000000000000004 |1.0          |20.0                       |5.8   |\n|tt0027146|21               |1.000000000000004 |1.0          |20.0                       |7.3   |\n|tt0027230|21               |1.000000000000004 |1.0          |20.0                       |5.2   |\n|tt0027719|21               |1.000000000000004 |1.0          |20.0                       |6.4   |\n+---------+-----------------+------------------+-------------+---------------------------+------+\nonly showing top 10 rows\n\n"
     ]
    }
   ],
   "source": [
    "# Join all DataFrames on 'tconst'\n",
    "joined_df = sum_appearances \\\n",
    "    .join(avg_page_rank, on=\"tconst\", how=\"inner\") \\\n",
    "    .join(avg_outdegree, on=\"tconst\", how=\"inner\") \\\n",
    "    .join(avg_dist_kevin_bacon, on=\"tconst\", how=\"inner\")\n",
    "\n",
    "# Join with q2_df to get the 'rating' target variable for every movie\n",
    "final_df = joined_df.join(q2_df.select(\"tconst\", \"averageRating\"), on=\"tconst\", how=\"inner\")\n",
    "\n",
    "# Rename the 'averageRating' column to 'rating'\n",
    "final_df = final_df.withColumnRenamed(\"averageRating\", \"rating\")\n",
    "\n",
    "# Show the first 10 records of the final DataFrame\n",
    "final_df.show(10, truncate=False)"
   ]
  },
  {
   "cell_type": "markdown",
   "metadata": {
    "application/vnd.databricks.v1+cell": {
     "cellMetadata": {},
     "inputWidgets": {},
     "nuid": "236135a6-51c9-4e9e-8610-6d83db1e0970",
     "showTitle": false,
     "title": ""
    }
   },
   "source": [
    "### Normalizing all the Features"
   ]
  },
  {
   "cell_type": "code",
   "execution_count": 0,
   "metadata": {
    "application/vnd.databricks.v1+cell": {
     "cellMetadata": {
      "byteLimit": 2048000,
      "rowLimit": 10000
     },
     "inputWidgets": {},
     "nuid": "35e9f2b6-c125-4e6d-bae6-01aa26b8255f",
     "showTitle": false,
     "title": ""
    }
   },
   "outputs": [
    {
     "output_type": "stream",
     "name": "stdout",
     "output_type": "stream",
     "text": [
      "+-------+---------+------------------+-------------------+-----------------+---------------------------+------------------+\n|summary|   tconst| total_appearances|      avg_page_rank|    avg_outdegree|avg_distance_to_kevin_bacon|            rating|\n+-------+---------+------------------+-------------------+-----------------+---------------------------+------------------+\n|  count|   741679|            741679|             741679|           741679|                     741679|            741679|\n|   mean|     NULL|176.61287699934877| 2.9325120118626873|93.95141294279557|         3.0604216308698087| 5.889916662112721|\n| stddev|     NULL|225.20417437036204|  1.823067217867596| 69.8025658239292|         1.5622751782047668|1.2387530082207392|\n|    min|tt0015724|                 2|0.11570064468497714|              1.0|                        0.6|               1.0|\n|    25%|     NULL|                52|  1.634324326627363|           41.375|         2.5555555555555554|               5.2|\n|    50%|     NULL|               114| 2.6106786103271795|             78.4|                        3.0|               6.0|\n|    99%|     NULL|              1236|  8.370560103621662|            307.0|                        5.0|               8.6|\n|    max|tt9916730|              3236|  48.71990343037742|           1118.0|                       20.0|              10.0|\n+-------+---------+------------------+-------------------+-----------------+---------------------------+------------------+\n\n"
     ]
    }
   ],
   "source": [
    "# Check the statistical summary of every variable in the Final DataFrame\n",
    "final_df.summary(\"count\",\"mean\",\"stddev\",\"min\",\"25%\",\"50%\",\"99%\",\"max\").show()"
   ]
  },
  {
   "cell_type": "markdown",
   "metadata": {
    "application/vnd.databricks.v1+cell": {
     "cellMetadata": {},
     "inputWidgets": {},
     "nuid": "b25de232-7a49-425d-9761-e31f0603e2db",
     "showTitle": false,
     "title": ""
    }
   },
   "source": [
    "### **EXTRA: Plotting the distribution of the Features**"
   ]
  },
  {
   "cell_type": "code",
   "execution_count": 0,
   "metadata": {
    "application/vnd.databricks.v1+cell": {
     "cellMetadata": {
      "byteLimit": 2048000,
      "rowLimit": 10000
     },
     "inputWidgets": {},
     "nuid": "41beb1e9-b263-47a0-8357-f50cbd3185c6",
     "showTitle": false,
     "title": ""
    }
   },
   "outputs": [
    {
     "output_type": "display_data",
     "data": {
      "image/png": "[encoded data removed]",
      "text/plain": [
       "<Figure size 1200x1000 with 4 Axes>"
      ]
     },
     "metadata": {},
     "output_type": "display_data"
    }
   ],
   "source": [
    "# Convert the features to a pandas DataFrame. We need to do this conversion to plot the distribution of the features as this is only supported by Pandas DataFrames and not by\n",
    "# PySpark DataFrames \n",
    "data_pd = final_df.select(\"total_appearances\", \"avg_page_rank\", \"avg_outdegree\", \"avg_distance_to_kevin_bacon\").toPandas()\n",
    "\n",
    "# Plot histograms for each feature\n",
    "fig, axes = plt.subplots(2, 2, figsize=(12, 10))\n",
    "\n",
    "# Histogram for total_appearances\n",
    "axes[0, 0].hist(data_pd['total_appearances'], bins=50, color='blue', alpha=0.7)\n",
    "axes[0, 0].set_title('Total Appearances')\n",
    "axes[0, 0].set_xlabel('Total Appearances')\n",
    "axes[0, 0].set_ylabel('Frequency')\n",
    "\n",
    "# Histogram for avg_page_rank\n",
    "axes[0, 1].hist(data_pd['avg_page_rank'], bins=50, color='green', alpha=0.7)\n",
    "axes[0, 1].set_title('Average Page Rank')\n",
    "axes[0, 1].set_xlabel('Average Page Rank')\n",
    "axes[0, 1].set_ylabel('Frequency')\n",
    "\n",
    "# Histogram for avg_outdegree\n",
    "axes[1, 0].hist(data_pd['avg_outdegree'], bins=50, color='red', alpha=0.7)\n",
    "axes[1, 0].set_title('Average Outdegree')\n",
    "axes[1, 0].set_xlabel('Average Outdegree')\n",
    "axes[1, 0].set_ylabel('Frequency')\n",
    "\n",
    "# Histogram for avg_distance_to_kevin_bacon\n",
    "axes[1, 1].hist(data_pd['avg_distance_to_kevin_bacon'], bins=50, color='purple', alpha=0.7)\n",
    "axes[1, 1].set_title('Average Distance to Kevin Bacon')\n",
    "axes[1, 1].set_xlabel('Average Distance to Kevin Bacon')\n",
    "axes[1, 1].set_ylabel('Frequency')\n",
    "\n",
    "plt.tight_layout()\n",
    "plt.show()"
   ]
  },
  {
   "cell_type": "markdown",
   "metadata": {
    "application/vnd.databricks.v1+cell": {
     "cellMetadata": {},
     "inputWidgets": {},
     "nuid": "a0dd0264-fca4-4381-9a54-b10f1e584251",
     "showTitle": false,
     "title": ""
    }
   },
   "source": [
    "\n",
    "**Note:**\n",
    "\n",
    "**Since most of the Features clearly exhibit a non-normal distribution we decided to Normalize them in the Machine Learning Pipeline, by fitting a MinMaxScaler on the train data and transforming the train and test data to ensure Min=0 and Max=1 on every Feature, avoiding Data Leakage.**"
   ]
  },
  {
   "cell_type": "markdown",
   "metadata": {
    "application/vnd.databricks.v1+cell": {
     "cellMetadata": {},
     "inputWidgets": {},
     "nuid": "c059d9b5-0ebb-498e-b920-703cbefafc3a",
     "showTitle": false,
     "title": ""
    }
   },
   "source": [
    "### Machine Learning Pipeline"
   ]
  },
  {
   "cell_type": "code",
   "execution_count": 0,
   "metadata": {
    "application/vnd.databricks.v1+cell": {
     "cellMetadata": {
      "byteLimit": 2048000,
      "rowLimit": 10000
     },
     "inputWidgets": {},
     "nuid": "de248cde-246c-494a-87ce-ce7d7c703077",
     "showTitle": false,
     "title": ""
    }
   },
   "outputs": [
    {
     "output_type": "display_data",
     "data": {
      "application/vnd.jupyter.widget-view+json": {
       "model_id": "6dde1d1a0e1647a2b083965f1f3983bf",
       "version_major": 2,
       "version_minor": 0
      },
      "text/plain": [
       "Downloading artifacts:   0%|          | 0/18 [00:00<?, ?it/s]"
      ]
     },
     "metadata": {},
     "output_type": "display_data"
    },
    {
     "output_type": "display_data",
     "data": {
      "application/vnd.jupyter.widget-view+json": {
       "model_id": "4d3c3f187fd34c148ede755c2a84d7ea",
       "version_major": 2,
       "version_minor": 0
      },
      "text/plain": [
       "Uploading artifacts:   0%|          | 0/4 [00:00<?, ?it/s]"
      ]
     },
     "metadata": {},
     "output_type": "display_data"
    },
    {
     "output_type": "stream",
     "name": "stdout",
     "output_type": "stream",
     "text": [
      "+------------------+------+--------------------+\n|        prediction|rating|     scaled_features|\n+------------------+------+--------------------+\n| 6.413405007712513|   4.9|[9.27643784786642...|\n| 6.344008032791232|   6.6|[0.00618429189857...|\n| 6.344827249691414|   5.2|[0.00587507730364...|\n|  6.36039237079488|   6.1|[0.0,0.0181938866...|\n| 6.366791369237754|   5.2|[0.0,0.0181938866...|\n| 6.299852045017019|   6.5|[0.00432900432900...|\n|  5.89266654440922|   6.4|[0.00989486703772...|\n|  5.89266654440922|   6.4|[0.00989486703772...|\n| 5.835235080870476|   7.1|[0.00989486703772...|\n| 5.941405135450203|   6.1|[6.18429189857761...|\n| 5.916789610815432|   6.1|[0.00123685837971...|\n| 5.910787361248761|   7.2|[9.27643784786642...|\n| 5.809243517718535|   5.4|[0.00618429189857...|\n| 5.723646388136499|   5.9|[0.01360544217687...|\n| 5.805122093955372|   6.4|[0.00247371675943...|\n|5.8333608758051465|   5.7|[0.00278293135435...|\n| 6.358753936994515|   7.1|[6.18429189857761...|\n| 6.358753936994515|   7.1|[6.18429189857761...|\n| 5.771418400110818|   6.7|[0.00865800865800...|\n| 5.982321093771392|   6.3|[3.09214594928880...|\n+------------------+------+--------------------+\nonly showing top 20 rows\n\n"
     ]
    }
   ],
   "source": [
    "# Prepare the data for the Pipeline by creating feature vectors\n",
    "feature_columns = [\"total_appearances\", \"avg_page_rank\", \"avg_outdegree\", \"avg_distance_to_kevin_bacon\"]\n",
    "assembler = VectorAssembler(inputCols=feature_columns, outputCol=\"features\")\n",
    "\n",
    "# Normalize the features using MinMaxScaler\n",
    "scaler = MinMaxScaler(inputCol=\"features\", outputCol=\"scaled_features\")\n",
    "\n",
    "# Define the Linear Regression model\n",
    "lr = LinearRegression(featuresCol=\"scaled_features\", labelCol=\"rating\")\n",
    "\n",
    "# Create a Pipeline with the assembler, scaler, and linear regression stages\n",
    "pipeline = Pipeline(stages=[assembler, scaler, lr])\n",
    "\n",
    "# Split the data into training and testing datasets\n",
    "train_data, test_data = final_df.randomSplit([0.7, 0.3], seed=0)\n",
    "\n",
    "# Fit the pipeline to the training data\n",
    "pipeline_model = pipeline.fit(train_data)\n",
    "\n",
    "# Make predictions on the test data\n",
    "predictions = pipeline_model.transform(test_data)\n",
    "\n",
    "# Show some of the predictions\n",
    "predictions.select(\"prediction\", \"rating\", \"scaled_features\").show()"
   ]
  },
  {
   "cell_type": "code",
   "execution_count": 0,
   "metadata": {
    "application/vnd.databricks.v1+cell": {
     "cellMetadata": {
      "byteLimit": 2048000,
      "rowLimit": 10000
     },
     "inputWidgets": {},
     "nuid": "4cefee0b-ce06-41bc-afc8-173c71a64809",
     "showTitle": false,
     "title": ""
    }
   },
   "outputs": [
    {
     "output_type": "stream",
     "name": "stdout",
     "output_type": "stream",
     "text": [
      "Coefficients: [-2.6493474551899867,-8.529995823255112,7.147681260690048,0.6700052717559231]\nIntercept: 5.845580876017536\n"
     ]
    }
   ],
   "source": [
    "# Print the coefficients and intercept for the Linear Regression\n",
    "lr_model = pipeline_model.stages[-1]             # The last stage of the Pipeline is the linear regression model\n",
    "print(f\"Coefficients: {lr_model.coefficients}\")\n",
    "print(f\"Intercept: {lr_model.intercept}\")"
   ]
  },
  {
   "cell_type": "code",
   "execution_count": 0,
   "metadata": {
    "application/vnd.databricks.v1+cell": {
     "cellMetadata": {
      "byteLimit": 2048000,
      "rowLimit": 10000
     },
     "inputWidgets": {},
     "nuid": "80fff9c9-6342-4fc5-8abd-1007186e660b",
     "showTitle": false,
     "title": ""
    }
   },
   "outputs": [
    {
     "output_type": "stream",
     "name": "stdout",
     "output_type": "stream",
     "text": [
      "Root Mean Squared Error (RMSE) on test data = 1.2267730763339295\n"
     ]
    }
   ],
   "source": [
    "# Evaluate the model using RMSE\n",
    "evaluator = RegressionEvaluator(labelCol=\"rating\", predictionCol=\"prediction\", metricName=\"rmse\")\n",
    "rmse = evaluator.evaluate(predictions)\n",
    "print(f\"Root Mean Squared Error (RMSE) on test data = {rmse}\")"
   ]
  },
  {
   "cell_type": "markdown",
   "metadata": {
    "application/vnd.databricks.v1+cell": {
     "cellMetadata": {},
     "inputWidgets": {},
     "nuid": "401ea2c4-481b-449f-b2d0-5c482f27d0c1",
     "showTitle": false,
     "title": ""
    }
   },
   "source": [
    "**Q12** What score would your model predict for the 1997 movie Titanic."
   ]
  },
  {
   "cell_type": "code",
   "execution_count": 0,
   "metadata": {
    "application/vnd.databricks.v1+cell": {
     "cellMetadata": {
      "byteLimit": 2048000,
      "rowLimit": 10000
     },
     "inputWidgets": {},
     "nuid": "bdd511b5-41bb-4223-9df4-9ac45775aba4",
     "showTitle": false,
     "title": ""
    },
    "vscode": {
     "languageId": "python"
    }
   },
   "outputs": [
    {
     "output_type": "stream",
     "name": "stdout",
     "output_type": "stream",
     "text": [
      "+-----------------+\n|       prediction|\n+-----------------+\n|5.896977560846672|\n+-----------------+\n\n"
     ]
    }
   ],
   "source": [
    "# Step 1: Filter q2_df to get the tconst for \"Titanic\" with startYear 1997\n",
    "titanic_tconst = q2_df.filter((col(\"primaryTitle\") == \"Titanic\") & (col(\"startYear\") == 1997)).select(\"tconst\").collect()[0][\"tconst\"]\n",
    "\n",
    "# Step 2: Use the tconst to get the corresponding row from final_df\n",
    "titanic_features_row = final_df.filter(col(\"tconst\") == titanic_tconst).collect()[0]\n",
    "\n",
    "# Extract the features for prediction\n",
    "sum_appearances = titanic_features_row[\"total_appearances\"]\n",
    "avg_page_rank = titanic_features_row[\"avg_page_rank\"]\n",
    "avg_outdegree = titanic_features_row[\"avg_outdegree\"]\n",
    "avg_distance_to_kevin_bacon = titanic_features_row[\"avg_distance_to_kevin_bacon\"]\n",
    "\n",
    "# Create a DataFrame with the feature values for \"Titanic\"\n",
    "titanic_features = Row(total_appearances=sum_appearances, avg_page_rank=avg_page_rank, avg_outdegree=avg_outdegree, avg_distance_to_kevin_bacon=avg_distance_to_kevin_bacon)\n",
    "titanic_df = spark.createDataFrame([titanic_features])\n",
    "\n",
    "# Use the same pipeline as in Q11 to transform the features and make a prediction\n",
    "titanic_transformed = pipeline_model.transform(titanic_df)\n",
    "\n",
    "# Show the prediction\n",
    "titanic_transformed.select(\"prediction\").show()"
   ]
  },
  {
   "cell_type": "markdown",
   "metadata": {
    "application/vnd.databricks.v1+cell": {
     "cellMetadata": {},
     "inputWidgets": {},
     "nuid": "8489978a-4c37-452f-84c9-5e24498998c9",
     "showTitle": false,
     "title": ""
    }
   },
   "source": [
    "**Q13** Create dummy variables for each of the top 10 movie genres for Q10. These variable should have a value of 1 if the movie was rated with that genre and 0 otherwise. For example the 1997 movie Titanic should have a 1 in the dummy variable column for Romance, and a 1 in the dummy variable column for Drama, and 0's in all the other dummy variable columns.\n",
    "\n",
    "Does adding these variable to the regression improve your results? What is the new RMSE and predicted rating for the 1997 movie Titanic."
   ]
  },
  {
   "cell_type": "code",
   "execution_count": 0,
   "metadata": {
    "application/vnd.databricks.v1+cell": {
     "cellMetadata": {
      "byteLimit": 2048000,
      "rowLimit": 10000
     },
     "inputWidgets": {},
     "nuid": "49893a40-d37a-4f8e-939f-297ac24958b5",
     "showTitle": false,
     "title": ""
    }
   },
   "outputs": [
    {
     "output_type": "stream",
     "name": "stdout",
     "output_type": "stream",
     "text": [
      "The 10 most popular genres by number of votes are ['Drama', 'Action', 'Adventure', 'Comedy', 'Crime', 'Thriller', 'Sci-Fi', 'Romance', 'Mystery', 'Fantasy']\n"
     ]
    }
   ],
   "source": [
    "# Step 1: Find the top 10 genres by number of votes\n",
    "top_genres = q10_rdd.takeOrdered(10, key=lambda x: -x[1])\n",
    "\n",
    "# Extract the top genres\n",
    "top_genre_list = [genre for genre, _ in top_genres]\n",
    "\n",
    "print(f'The 10 most popular genres by number of votes are {top_genre_list}')"
   ]
  },
  {
   "cell_type": "code",
   "execution_count": 0,
   "metadata": {
    "application/vnd.databricks.v1+cell": {
     "cellMetadata": {
      "byteLimit": 2048000,
      "rowLimit": 10000
     },
     "inputWidgets": {},
     "nuid": "d7538ec9-cfd6-4383-93c8-ca1880abe749",
     "showTitle": false,
     "title": ""
    }
   },
   "outputs": [
    {
     "output_type": "stream",
     "name": "stdout",
     "output_type": "stream",
     "text": [
      "+---------+---------+--------+--------+----+--------------------+--------------------+---------+---------+--------------------+--------------------+---------+--------------------+--------------------+-------+---------+-------+--------------+--------------------+-------------+--------+-----+------+---------+------+-----+--------+------+-------+-------+-------+\n|   tconst|   nconst|ordering|category| job|          characters|         primaryName|birthYear|deathYear|   primaryProfession|      knownForTitles|titleType|        primaryTitle|       originalTitle|isAdult|startYear|endYear|runtimeMinutes|              genres|averageRating|numVotes|Drama|Action|Adventure|Comedy|Crime|Thriller|Sci-Fi|Romance|Mystery|Fantasy|\n+---------+---------+--------+--------+----+--------------------+--------------------+---------+---------+--------------------+--------------------+---------+--------------------+--------------------+-------+---------+-------+--------------+--------------------+-------------+--------+-----+------+---------+------+-----+--------+------+-------+-------+-------+\n|tt0026455|nm0172237|      10| actress|NULL|   [\"Marian Foster\"]|    Cora Sue Collins|     1927|     NULL|[actress, soundtr...|[tt0024895, tt003...|    movie|        Harmony Lane|        Harmony Lane|      0|     1935|   NULL|            89|[Biography, Drama...|          5.8|     125|    1|     0|        0|     0|    0|       0|     0|      0|      0|      0|\n|tt0027663|nm1359047|      10| actress|NULL|                NULL|         Lilo Bergen|     1922|     NULL|                NULL|[tt0248811, tt012...|    movie|Geheimnis eines a...|Geheimnis eines a...|      0|     1936|   NULL|            87|                NULL|          6.4|      16|    0|     0|        0|     0|    0|       0|     0|      0|      0|      0|\n|tt0029638|nm0038535|       5| actress|NULL|    [\"Hazel Barker\"]|         Hazel Ascot|     1928|     NULL|                NULL|[tt0283010, tt002...|    movie|        Talking Feet|        Talking Feet|      0|     1937|   NULL|            79|                NULL|          6.1|      28|    0|     0|        0|     0|    0|       0|     0|      0|      0|      0|\n|tt0032160|nm0092008|       6| actress|NULL|[\"Dcerka zranenéh...|    Jirina Bohdalová|     1931|     NULL|[actress, writer,...|[tt0113027, tt010...|    movie|        Zlaty clovek|        Zlaty clovek|      0|     1939|   NULL|          NULL|                NULL|          5.2|      17|    0|     0|        0|     0|    0|       0|     0|      0|      0|      0|\n|tt0033006|nm0190681|      10| actress|NULL|           [\"Terka\"]|     Erzsébet Cserba|     1920|     NULL|                NULL|[tt0033006, tt003...|    movie|          Rózsafabot|          Rózsafabot|      0|     1940|   NULL|            86|    [Drama, Romance]|          7.4|      40|    1|     0|        0|     0|    0|       0|     0|      1|      0|      0|\n|tt0034461|nm0798333|       5|   actor|NULL|        [\"Carlitos\"]|       Horácio Silva|     1930|     NULL|                NULL|                NULL|    movie|          Aniki Bóbó|          Aniki Bóbó|      0|     1942|   NULL|            71|     [Drama, Family]|          7.6|    1897|    1|     0|        0|     0|    0|       0|     0|      0|      0|      0|\n|tt0035617|nm0924916|       4| actress|NULL|    [\"Peggy Parker\"]|    Jacqueline White|     1922|     NULL|[actress, archive...|[tt0044954, tt003...|    movie|    Air Raid Wardens|    Air Raid Wardens|      0|     1943|   NULL|            67|                NULL|          6.1|    1226|    0|     0|        0|     0|    0|       0|     0|      0|      0|      0|\n|tt0035826|nm0639684|       7| actress|NULL|        [\"Margaret\"]|    Margaret O'Brien|     1937|     NULL|[actress, writer,...|[tt0037059, tt003...|    movie|Dr. Gillespie's C...|Dr. Gillespie's C...|      0|     1943|   NULL|            89|[Crime, Drama, My...|          6.1|     374|    1|     0|        0|     0|    1|       0|     0|      0|      1|      0|\n|tt0036198|nm0750674|       6|   actor|NULL|            [\"Dick\"]|          Jerry Rush|     1930|     NULL|                NULL|[tt0036198, tt005...|    movie|     Nearly Eighteen|     Nearly Eighteen|      0|     1943|   NULL|            61|[Comedy, Music, R...|          5.5|      72|    0|     0|        0|     1|    0|       0|     0|      1|      0|      0|\n|tt0037655|nm0751255|       7|   actor|NULL|  [\"Howie Mossrock\"]|      Johnny Russell|     1933|     NULL|                NULL|[tt0032264, tt003...|    movie|  Don Juan Quilligan|  Don Juan Quilligan|      0|     1945|   NULL|            75|                NULL|          5.9|     120|    0|     0|        0|     0|    0|       0|     0|      0|      0|      0|\n|tt0038203|nm0938864|       8| actress|NULL|           [\"Faith\"]|   Edna May Wonacott|     1932|     NULL|[actress, archive...|[tt0036342, tt003...|    movie| Under Western Skies| Under Western Skies|      0|     1945|   NULL|            57|[Action, Adventur...|          5.7|      84|    0|     1|        1|     0|    0|       0|     0|      0|      0|      0|\n|tt0038928|nm0601930|       6| actress|NULL|[\"Virginia 'Ginny...|         Terry Moore|     1929|     NULL|[actress, produce...|[tt0050839, tt004...|    movie|            Shadowed|            Shadowed|      0|     1946|   NULL|            70|[Crime, Drama, Fi...|          5.9|     282|    1|     0|        0|     0|    1|       0|     0|      0|      0|      0|\n|tt0039150|nm0041270|       6| actress|NULL|       [\"Christine\"]|      Brigitte Auber|     1925|     NULL|[actress, archive...|[tt0048728, tt012...|    movie|             Monelle|Les amoureux sont...|      0|     1948|   NULL|            93|[Drama, Music, Ro...|          7.0|     224|    1|     0|        0|     0|    0|       0|     0|      1|      0|      0|\n|tt0039247|nm0056878|      10| actress|NULL|           [\"Clara\"]|   Esperanza Barrera|     1926|     NULL|                NULL|[tt0041463, tt004...|    movie|La casa de las so...|La casa de las so...|      0|     1948|   NULL|            95|                NULL|          5.2|      13|    0|     0|        0|     0|    0|       0|     0|      0|      0|      0|\n|tt0039649|nm0351616|       6|   actor|NULL|           [\"Jonte\"]|     Roberto Günther|     1932|     NULL|                NULL|                NULL|    movie|Master Detective ...|Mästerdetektiven ...|      0|     1947|   NULL|            91|[Adventure, Famil...|          6.1|     172|    0|     0|        1|     0|    0|       0|     0|      0|      1|      0|\n|tt0039649|nm0879532|       5|   actor|NULL|           [\"Benka\"]|Ulf Törneman-Sten...|     1932|     NULL|                NULL|                NULL|    movie|Master Detective ...|Mästerdetektiven ...|      0|     1947|   NULL|            91|[Adventure, Famil...|          6.1|     172|    0|     0|        1|     0|    0|       0|     0|      0|      1|      0|\n|tt0039696|nm0481864|       5| actress|NULL|[\"La contessa Iso...|       Liliana Laine|     1923|     NULL|                NULL|[tt0036276, tt003...|    movie|  Bullet for Stefano|        Il passatore|      0|     1947|   NULL|            96|  [Adventure, Drama]|          6.0|      63|    1|     0|        1|     0|    0|       0|     0|      0|      0|      0|\n|tt0039752|nm0902805|       4|   actor|NULL|    [\"Paul Naumann\"]|Friedhelm von Pet...|     1922|     NULL|                NULL|[tt0039752, tt004...|    movie|         Police Raid|              Razzia|      0|     1947|   NULL|            90|      [Crime, Drama]|          7.1|      47|    1|     0|        0|     0|    1|       0|     0|      0|      0|      0|\n|tt0039752|nm0692627|       3| actress|NULL|    [\"Anna Naumann\"]|    Agathe Poschmann|     1922|     NULL|                NULL|                NULL|    movie|         Police Raid|              Razzia|      0|     1947|   NULL|            90|      [Crime, Drama]|          7.1|      47|    1|     0|        0|     0|    1|       0|     0|      0|      0|      0|\n|tt0040173|nm0616080|       4| actress|NULL| [\"Cookie Bumstead\"]|Marjorie Ann Mutchie|     1939|     NULL|                NULL|[tt0039202, tt003...|    movie|    Blondie's Reward|    Blondie's Reward|      0|     1948|   NULL|            66|    [Comedy, Family]|          6.5|     191|    0|     0|        0|     1|    0|       0|     0|      0|      0|      0|\n+---------+---------+--------+--------+----+--------------------+--------------------+---------+---------+--------------------+--------------------+---------+--------------------+--------------------+-------+---------+-------+--------------+--------------------+-------------+--------+-----+------+---------+------+-----+--------+------+-------+-------+-------+\nonly showing top 20 rows\n\n"
     ]
    }
   ],
   "source": [
    "# Step 2: Create dummy variables for the top 10 genres\n",
    "for genre in top_genre_list:\n",
    "    q2_df = q2_df.withColumn(genre, when(col(\"genres\").isNull(), 0).otherwise(when(array_contains(col(\"genres\"), genre), 1).otherwise(0)))\n",
    "\n",
    "# Display the DataFrame to verify the new columns\n",
    "q2_df.show()"
   ]
  },
  {
   "cell_type": "code",
   "execution_count": 0,
   "metadata": {
    "application/vnd.databricks.v1+cell": {
     "cellMetadata": {
      "byteLimit": 2048000,
      "rowLimit": 10000
     },
     "inputWidgets": {},
     "nuid": "9e131e00-bf03-4b43-a589-4db51c95cc9b",
     "showTitle": false,
     "title": ""
    }
   },
   "outputs": [
    {
     "output_type": "stream",
     "name": "stdout",
     "output_type": "stream",
     "text": [
      "+---------+-----------------+-------------------+-------------+---------------------------+------+\n|   tconst|total_appearances|      avg_page_rank|avg_outdegree|avg_distance_to_kevin_bacon|rating|\n+---------+-----------------+-------------------+-------------+---------------------------+------+\n|tt0022064|               76|  4.272723979659575|         98.0|                        2.0|   5.3|\n|tt0024193|               21|  1.000000000000004|          1.0|                       20.0|   6.8|\n|tt0025557|              105|  6.235885769190589|        156.0|                        3.0|   6.8|\n|tt0026264|               22|  1.000000000000004|          1.0|                       20.0|   6.6|\n|tt0026455|               21|  1.000000000000004|          1.0|                       20.0|   5.8|\n|tt0027146|               21|  1.000000000000004|          1.0|                       20.0|   7.3|\n|tt0027719|               21|  1.000000000000004|          1.0|                       20.0|   6.4|\n|tt0029077|                9| 1.3160715625000057|          2.0|                       20.0|   7.3|\n|tt0029557|                9| 1.3160715625000057|          2.0|                       20.0|   7.0|\n|tt0030384|               19|  1.000000000000004|          1.0|                       20.0|   6.6|\n|tt0031022|               19|  1.000000000000004|          1.0|                       20.0|   7.3|\n|tt0031980|               21|  1.000000000000004|          1.0|                       20.0|   5.3|\n|tt0032160|               51|  4.511171528883599|         93.0|                        3.0|   5.2|\n|tt0032652|                5|0.18702517775684077|          1.0|                        5.0|   6.1|\n|tt0032743|               51|  4.511171528883599|         93.0|                        3.0|   5.7|\n|tt0033532|                2|  1.000000000000004|          1.0|                       20.0|   7.6|\n|tt0033556|                2|  1.000000000000004|          1.0|                       20.0|   6.4|\n|tt0034986|                5|0.18702517775684077|          1.0|                        5.0|   6.5|\n|tt0035189|                3|0.44529505316238094|          1.0|                        6.0|   7.0|\n|tt0035441|                3|  1.000000000000004|          1.0|                       20.0|   5.8|\n+---------+-----------------+-------------------+-------------+---------------------------+------+\nonly showing top 20 rows\n\n"
     ]
    }
   ],
   "source": [
    "# A reminder of how the train dataset looks like\n",
    "train_data.show()"
   ]
  },
  {
   "cell_type": "code",
   "execution_count": 0,
   "metadata": {
    "application/vnd.databricks.v1+cell": {
     "cellMetadata": {
      "byteLimit": 2048000,
      "rowLimit": 10000
     },
     "inputWidgets": {},
     "nuid": "ef1f8d37-1b34-45f2-90fc-092c1f20f08b",
     "showTitle": false,
     "title": ""
    }
   },
   "outputs": [
    {
     "output_type": "stream",
     "name": "stdout",
     "output_type": "stream",
     "text": [
      "+---------+-----------------+-------------------+-------------+---------------------------+------+\n|   tconst|total_appearances|      avg_page_rank|avg_outdegree|avg_distance_to_kevin_bacon|rating|\n+---------+-----------------+-------------------+-------------+---------------------------+------+\n|tt0020652|                5| 0.6839284375000029|          1.0|                       20.0|   4.9|\n|tt0026264|               22|  1.000000000000004|          1.0|                       20.0|   6.6|\n|tt0027230|               21|  1.000000000000004|          1.0|                       20.0|   5.2|\n|tt0034520|                2|  1.000000000000004|          1.0|                       20.0|   6.1|\n|tt0034878|                2|  1.000000000000004|          2.0|                       20.0|   5.2|\n|tt0036049|               16| 1.3160715625000057|          2.0|                       20.0|   6.5|\n|tt0036606|               34| 1.3262397318985362|        36.75|                       2.25|   6.4|\n|tt0036606|               34| 1.3262397318985362|        36.75|                       2.25|   6.4|\n|tt0036668|               34| 0.6434188879647486|          5.0|                        3.0|   7.1|\n|tt0037124|                4| 0.2294385867387593|          1.0|                        4.0|   6.1|\n|tt0037259|                6| 0.4697479466309017|          4.0|                        4.0|   6.1|\n|tt0037536|                5| 0.5086168917418515|          4.0|                        4.0|   7.2|\n|tt0038125|               22|  1.018852862652675|          7.0|                        3.5|   5.4|\n|tt0038928|               46| 3.7246169971753096|         79.0|                        2.0|   5.9|\n|tt0039052|               10|  1.036419033568573|          8.0|                        3.0|   6.4|\n|tt0039292|               11| 1.2169720145568321|          4.0|                        5.5|   5.7|\n|tt0039752|                4|  1.000000000000004|          1.0|                       20.0|   7.1|\n|tt0039752|                4|  1.000000000000004|          1.0|                       20.0|   7.1|\n|tt0039850|               30| 1.3793467908200485|         12.0|                        3.5|   6.7|\n|tt0039915|                3|0.19775531362053508|          1.0|                        5.0|   6.3|\n+---------+-----------------+-------------------+-------------+---------------------------+------+\nonly showing top 20 rows\n\n"
     ]
    }
   ],
   "source": [
    "# A reminder of how the test dataset looks like\n",
    "test_data.show()"
   ]
  },
  {
   "cell_type": "code",
   "execution_count": 0,
   "metadata": {
    "application/vnd.databricks.v1+cell": {
     "cellMetadata": {
      "byteLimit": 2048000,
      "rowLimit": 10000
     },
     "inputWidgets": {},
     "nuid": "2bfd7f03-4e4f-4038-9a91-9d284b819a2a",
     "showTitle": false,
     "title": ""
    }
   },
   "outputs": [],
   "source": [
    "# Step 3: Join the train_data with q2_df to append the dummy variables\n",
    "train_data_with_dummies = train_data.join(\n",
    "    q2_df.select(\"tconst\", \"Drama\", \"Action\", \"Adventure\", \"Comedy\", \"Crime\", \"Thriller\", \"Sci-Fi\", \"Romance\", \"Mystery\", \"Fantasy\"),\n",
    "    on=\"tconst\",\n",
    "    how=\"left\"\n",
    ").fillna(0, subset=[\"Drama\", \"Action\", \"Adventure\", \"Comedy\", \"Crime\", \"Thriller\", \"Sci-Fi\", \"Romance\", \"Mystery\", \"Fantasy\"])\n",
    "\n",
    "# Step 4: Join the test_data with q2_df to append the dummy variables\n",
    "test_data_with_dummies = test_data.join(\n",
    "    q2_df.select(\"tconst\", \"Drama\", \"Action\", \"Adventure\", \"Comedy\", \"Crime\", \"Thriller\", \"Sci-Fi\", \"Romance\", \"Mystery\", \"Fantasy\"),\n",
    "    on=\"tconst\",\n",
    "    how=\"left\"\n",
    ").fillna(0, subset=[\"Drama\", \"Action\", \"Adventure\", \"Comedy\", \"Crime\", \"Thriller\", \"Sci-Fi\", \"Romance\", \"Mystery\", \"Fantasy\"])"
   ]
  },
  {
   "cell_type": "code",
   "execution_count": 0,
   "metadata": {
    "application/vnd.databricks.v1+cell": {
     "cellMetadata": {
      "byteLimit": 2048000,
      "rowLimit": 10000
     },
     "inputWidgets": {},
     "nuid": "ed85afd5-36d2-4870-918b-0c33857250fb",
     "showTitle": false,
     "title": ""
    }
   },
   "outputs": [
    {
     "output_type": "stream",
     "name": "stdout",
     "output_type": "stream",
     "text": [
      "+---------+-----------------+------------------+-------------+---------------------------+------+-----+------+---------+------+-----+--------+------+-------+-------+-------+\n|   tconst|total_appearances|     avg_page_rank|avg_outdegree|avg_distance_to_kevin_bacon|rating|Drama|Action|Adventure|Comedy|Crime|Thriller|Sci-Fi|Romance|Mystery|Fantasy|\n+---------+-----------------+------------------+-------------+---------------------------+------+-----+------+---------+------+-----+--------+------+-------+-------+-------+\n|tt0022064|               76| 4.272723979659575|         98.0|                        2.0|   5.3|    0|     0|        0|     0|    0|       0|     0|      0|      0|      0|\n|tt0024193|               21| 1.000000000000004|          1.0|                       20.0|   6.8|    0|     0|        0|     0|    0|       0|     0|      0|      0|      0|\n|tt0025557|              105| 6.235885769190589|        156.0|                        3.0|   6.8|    1|     0|        0|     0|    0|       0|     0|      0|      0|      0|\n|tt0026264|               22| 1.000000000000004|          1.0|                       20.0|   6.6|    1|     0|        0|     0|    0|       0|     0|      1|      0|      0|\n|tt0026264|               22| 1.000000000000004|          1.0|                       20.0|   6.6|    1|     0|        0|     0|    0|       0|     0|      1|      0|      0|\n|tt0026455|               21| 1.000000000000004|          1.0|                       20.0|   5.8|    1|     0|        0|     0|    0|       0|     0|      0|      0|      0|\n|tt0027146|               21| 1.000000000000004|          1.0|                       20.0|   7.3|    0|     0|        0|     0|    0|       0|     0|      0|      0|      0|\n|tt0027719|               21| 1.000000000000004|          1.0|                       20.0|   6.4|    0|     0|        0|     1|    0|       0|     0|      1|      1|      0|\n|tt0029077|                9|1.3160715625000057|          2.0|                       20.0|   7.3|    0|     0|        0|     0|    0|       0|     0|      0|      0|      0|\n|tt0029557|                9|1.3160715625000057|          2.0|                       20.0|   7.0|    1|     0|        0|     1|    0|       0|     0|      0|      0|      0|\n+---------+-----------------+------------------+-------------+---------------------------+------+-----+------+---------+------+-----+--------+------+-------+-------+-------+\nonly showing top 10 rows\n\n"
     ]
    }
   ],
   "source": [
    "# Display the first few rows of the new train_data_with_dummies to verify\n",
    "train_data_with_dummies.show(10)"
   ]
  },
  {
   "cell_type": "code",
   "execution_count": 0,
   "metadata": {
    "application/vnd.databricks.v1+cell": {
     "cellMetadata": {
      "byteLimit": 2048000,
      "rowLimit": 10000
     },
     "inputWidgets": {},
     "nuid": "7ebe5ad6-a6ce-447b-80cd-f6127e57bcd5",
     "showTitle": false,
     "title": ""
    }
   },
   "outputs": [
    {
     "output_type": "stream",
     "name": "stdout",
     "output_type": "stream",
     "text": [
      "+---------+-----------------+------------------+-------------+---------------------------+------+-----+------+---------+------+-----+--------+------+-------+-------+-------+\n|   tconst|total_appearances|     avg_page_rank|avg_outdegree|avg_distance_to_kevin_bacon|rating|Drama|Action|Adventure|Comedy|Crime|Thriller|Sci-Fi|Romance|Mystery|Fantasy|\n+---------+-----------------+------------------+-------------+---------------------------+------+-----+------+---------+------+-----+--------+------+-------+-------+-------+\n|tt0020652|                5|0.6839284375000029|          1.0|                       20.0|   4.9|    0|     0|        0|     0|    0|       0|     0|      0|      0|      0|\n|tt0026264|               22| 1.000000000000004|          1.0|                       20.0|   6.6|    1|     0|        0|     0|    0|       0|     0|      1|      0|      0|\n|tt0026264|               22| 1.000000000000004|          1.0|                       20.0|   6.6|    1|     0|        0|     0|    0|       0|     0|      1|      0|      0|\n|tt0027230|               21| 1.000000000000004|          1.0|                       20.0|   5.2|    0|     0|        0|     0|    0|       0|     0|      0|      0|      0|\n|tt0034520|                2| 1.000000000000004|          1.0|                       20.0|   6.1|    0|     0|        0|     0|    0|       0|     0|      0|      0|      0|\n|tt0034878|                2| 1.000000000000004|          2.0|                       20.0|   5.2|    1|     1|        0|     0|    1|       0|     0|      0|      0|      0|\n|tt0036049|               16|1.3160715625000057|          2.0|                       20.0|   6.5|    0|     0|        0|     1|    0|       0|     0|      0|      0|      0|\n|tt0036606|               34|1.3262397318985362|        36.75|                       2.25|   6.4|    1|     0|        0|     0|    0|       0|     0|      0|      0|      0|\n|tt0036606|               34|1.3262397318985362|        36.75|                       2.25|   6.4|    1|     0|        0|     0|    0|       0|     0|      0|      0|      0|\n|tt0036606|               34|1.3262397318985362|        36.75|                       2.25|   6.4|    1|     0|        0|     0|    0|       0|     0|      0|      0|      0|\n+---------+-----------------+------------------+-------------+---------------------------+------+-----+------+---------+------+-----+--------+------+-------+-------+-------+\nonly showing top 10 rows\n\n"
     ]
    }
   ],
   "source": [
    "# Display the first few rows of the new test_data_with_dummies to verify\n",
    "test_data_with_dummies.show(10)"
   ]
  },
  {
   "cell_type": "code",
   "execution_count": 0,
   "metadata": {
    "application/vnd.databricks.v1+cell": {
     "cellMetadata": {
      "byteLimit": 2048000,
      "rowLimit": 10000
     },
     "inputWidgets": {},
     "nuid": "509939d9-7310-4790-a7cd-b85b74304d89",
     "showTitle": false,
     "title": ""
    }
   },
   "outputs": [
    {
     "output_type": "display_data",
     "data": {
      "application/vnd.jupyter.widget-view+json": {
       "model_id": "16d5831d53fb4f7a8d88479af1851d2d",
       "version_major": 2,
       "version_minor": 0
      },
      "text/plain": [
       "Downloading artifacts:   0%|          | 0/18 [00:00<?, ?it/s]"
      ]
     },
     "metadata": {},
     "output_type": "display_data"
    },
    {
     "output_type": "display_data",
     "data": {
      "application/vnd.jupyter.widget-view+json": {
       "model_id": "697ee93da8034c61a4fa775f3651fce2",
       "version_major": 2,
       "version_minor": 0
      },
      "text/plain": [
       "Uploading artifacts:   0%|          | 0/4 [00:00<?, ?it/s]"
      ]
     },
     "metadata": {},
     "output_type": "display_data"
    }
   ],
   "source": [
    "# Prepare the data for the Pipeline by creating feature vectors for continuous and dummy features\n",
    "feature_columns_with_dummies = feature_columns + [\"Drama\", \"Action\", \"Adventure\", \"Comedy\", \"Crime\", \"Thriller\", \"Sci-Fi\", \"Romance\", \"Mystery\", \"Fantasy\"]\n",
    "assembler_all = VectorAssembler(inputCols=feature_columns_with_dummies, outputCol=\"features\")\n",
    "\n",
    "# Normalize the continuous features using MinMaxScaler\n",
    "# NOTE: It makes no difference to include the dummy variables in the MinMaxScaler fitting because they will mathematically remain as 0 (genre not present) or 1 (genre present)\n",
    "scaler_all = MinMaxScaler(inputCol=\"features\", outputCol=\"scaled_features\")\n",
    "\n",
    "# Define the Linear Regression model\n",
    "lr_all = LinearRegression(featuresCol=\"scaled_features\", labelCol=\"rating\")\n",
    "\n",
    "# Create a Pipeline with the assembler, scaler, and linear regression stages\n",
    "pipeline_all = Pipeline(stages=[assembler_all, scaler_all, lr_all])\n",
    "\n",
    "# Fit the pipeline to the training data\n",
    "pipeline_model_all = pipeline_all.fit(train_data_with_dummies)\n",
    "\n",
    "# Make predictions on the test data\n",
    "predictions_all = pipeline_model_all.transform(test_data_with_dummies)"
   ]
  },
  {
   "cell_type": "code",
   "execution_count": 0,
   "metadata": {
    "application/vnd.databricks.v1+cell": {
     "cellMetadata": {
      "byteLimit": 2048000,
      "rowLimit": 10000
     },
     "inputWidgets": {},
     "nuid": "b63daaf9-4722-42fa-8f50-64b32cfc85a6",
     "showTitle": false,
     "title": ""
    }
   },
   "outputs": [
    {
     "output_type": "stream",
     "name": "stdout",
     "output_type": "stream",
     "text": [
      "RMSE for model with numerical and dummy variables: 1.1619980200481081\n"
     ]
    }
   ],
   "source": [
    "# Evaluate the model using RMSE\n",
    "rmse_all = evaluator.evaluate(predictions_all)\n",
    "print(f\"RMSE for model with numerical and dummy variables: {rmse_all}\")"
   ]
  },
  {
   "cell_type": "markdown",
   "metadata": {
    "application/vnd.databricks.v1+cell": {
     "cellMetadata": {},
     "inputWidgets": {},
     "nuid": "859b9e87-0188-4bc2-9dfc-e56bda6801fd",
     "showTitle": false,
     "title": ""
    }
   },
   "source": [
    "**The RMSE went from 1.2267730763339295 to 1.1619980200481081, which means that the inclusion of the dummy variables improves the results**"
   ]
  },
  {
   "cell_type": "code",
   "execution_count": 0,
   "metadata": {
    "application/vnd.databricks.v1+cell": {
     "cellMetadata": {
      "byteLimit": 2048000,
      "rowLimit": 10000
     },
     "inputWidgets": {},
     "nuid": "f71a621b-cc32-4e2d-9c3d-cf1dab28ccce",
     "showTitle": false,
     "title": ""
    }
   },
   "outputs": [
    {
     "output_type": "stream",
     "name": "stdout",
     "output_type": "stream",
     "text": [
      "Predicted rating for Titanic (1997) with continuous and dummy features: 6.1714834425905964\n"
     ]
    }
   ],
   "source": [
    "# Create a dictionary with the feature values for \"Titanic\" including dummy variables\n",
    "# NOTE: The numerical variables for 1997 Titanic were already computed on Q12 and, since the dummy variables for this movie were already provided on this question, we assumed that we could use them without having to retrieve them from the DataFrame \n",
    "titanic_features_dict = {\n",
    "    \"total_appearances\": sum_appearances,\n",
    "    \"avg_page_rank\": avg_page_rank,\n",
    "    \"avg_outdegree\": avg_outdegree,\n",
    "    \"avg_distance_to_kevin_bacon\": avg_distance_to_kevin_bacon,\n",
    "    \"Drama\": 1,\n",
    "    \"Action\": 0,\n",
    "    \"Adventure\": 0,\n",
    "    \"Comedy\": 0,\n",
    "    \"Crime\": 0,\n",
    "    \"Thriller\": 0,\n",
    "    \"Sci-Fi\": 0,\n",
    "    \"Romance\": 1,\n",
    "    \"Mystery\": 0,\n",
    "    \"Fantasy\": 0\n",
    "}\n",
    "\n",
    "# Create a DataFrame with the feature values for \"Titanic\" including dummy variables\n",
    "titanic_df = spark.createDataFrame([Row(**titanic_features_dict)])\n",
    "\n",
    "# Predict the rating for Titanic (1997)\n",
    "titanic_all_transformed = pipeline_model_all.transform(titanic_df)\n",
    "titanic_all_prediction = titanic_all_transformed.select(\"prediction\").collect()[0][\"prediction\"]\n",
    "print(f\"Predicted rating for Titanic (1997) with continuous and dummy features: {titanic_all_prediction}\")"
   ]
  },
  {
   "cell_type": "markdown",
   "metadata": {
    "application/vnd.databricks.v1+cell": {
     "cellMetadata": {},
     "inputWidgets": {},
     "nuid": "b851cfc5-8a54-40f5-b720-c9c703f2313c",
     "showTitle": false,
     "title": ""
    }
   },
   "source": [
    "**Q14 - Open Question**: Improve your model by testing different machine learning algorithms, using hyperparameter tuning on these algorithms, changing the included features. What is the RMSE of you final model and what rating does it predict for the 1997 movie Titanic."
   ]
  },
  {
   "cell_type": "code",
   "execution_count": 0,
   "metadata": {
    "application/vnd.databricks.v1+cell": {
     "cellMetadata": {
      "byteLimit": 2048000,
      "rowLimit": 10000
     },
     "inputWidgets": {},
     "nuid": "51d42be5-3b17-480c-8a41-03c20c789710",
     "showTitle": false,
     "title": ""
    }
   },
   "outputs": [
    {
     "output_type": "stream",
     "name": "stdout",
     "output_type": "stream",
     "text": [
      "+---------+-----------------+-------------------+-------------+---------------------------+------+-----+------+---------+------+-----+--------+------+-------+-------+-------+\n|   tconst|total_appearances|      avg_page_rank|avg_outdegree|avg_distance_to_kevin_bacon|rating|Drama|Action|Adventure|Comedy|Crime|Thriller|Sci-Fi|Romance|Mystery|Fantasy|\n+---------+-----------------+-------------------+-------------+---------------------------+------+-----+------+---------+------+-----+--------+------+-------+-------+-------+\n|tt0040483|                2|  1.000000000000004|          1.0|                       20.0|   4.8|    0|     0|        0|     0|    0|       0|     0|      0|      0|      0|\n|tt0040483|                2|  1.000000000000004|          1.0|                       20.0|   4.8|    0|     0|        0|     0|    0|       0|     0|      0|      0|      0|\n|tt0040695|               20| 2.0699210686705705|         12.0|                        3.0|   7.1|    0|     0|        0|     0|    1|       1|     0|      0|      0|      0|\n|tt0043858|                8| 0.2036990212723558|          2.0|                        4.0|   4.9|    0|     0|        0|     1|    0|       0|     0|      0|      0|      0|\n|tt0044770|               22|0.45060860974103306|          4.5|                        2.5|   6.3|    0|     0|        0|     0|    0|       0|     0|      0|      0|      0|\n|tt0044770|               22|0.45060860974103306|          4.5|                        2.5|   6.3|    0|     0|        0|     0|    0|       0|     0|      0|      0|      0|\n|tt0044770|               22|0.45060860974103306|          4.5|                        2.5|   6.3|    0|     0|        0|     0|    0|       0|     0|      0|      0|      0|\n|tt0044770|               22|0.45060860974103306|          4.5|                        2.5|   6.3|    0|     0|        0|     0|    0|       0|     0|      0|      0|      0|\n|tt0047313|               76|  4.272723979659575|         98.0|                        2.0|   7.3|    1|     0|        0|     1|    0|       0|     0|      0|      0|      0|\n|tt0049309|               92| 2.3036259823208445|         40.0|                        3.0|   6.0|    0|     0|        0|     0|    0|       0|     0|      0|      0|      0|\n|tt0049309|               92| 2.3036259823208445|         40.0|                        3.0|   6.0|    0|     0|        0|     0|    0|       0|     0|      0|      0|      0|\n|tt0049309|               92| 2.3036259823208445|         40.0|                        3.0|   6.0|    0|     0|        0|     0|    0|       0|     0|      0|      0|      0|\n|tt0049309|               92| 2.3036259823208445|         40.0|                        3.0|   6.0|    0|     0|        0|     0|    0|       0|     0|      0|      0|      0|\n|tt0049309|               92| 2.3036259823208445|         40.0|                        3.0|   6.0|    0|     0|        0|     0|    0|       0|     0|      0|      0|      0|\n|tt0049309|               92| 2.3036259823208445|         40.0|                        3.0|   6.0|    0|     0|        0|     0|    0|       0|     0|      0|      0|      0|\n|tt0049309|               92| 2.3036259823208445|         40.0|                        3.0|   6.0|    0|     0|        0|     0|    0|       0|     0|      0|      0|      0|\n|tt0049309|               92| 2.3036259823208445|         40.0|                        3.0|   6.0|    0|     0|        0|     0|    0|       0|     0|      0|      0|      0|\n|tt0049309|               92| 2.3036259823208445|         40.0|                        3.0|   6.0|    0|     0|        0|     0|    0|       0|     0|      0|      0|      0|\n|tt0050651|               39| 2.7712034103094116|         57.0|                        4.0|   5.4|    0|     0|        0|     1|    0|       0|     0|      0|      0|      0|\n|tt0051686|                4| 0.6749397256847971|          2.0|                        5.0|   5.5|    1|     0|        0|     0|    0|       0|     0|      0|      0|      0|\n+---------+-----------------+-------------------+-------------+---------------------------+------+-----+------+---------+------+-----+--------+------+-------+-------+-------+\nonly showing top 20 rows\n\n"
     ]
    }
   ],
   "source": [
    "# A reminder of how the train data with dummies looks like\n",
    "train_data_with_dummies.show()"
   ]
  },
  {
   "cell_type": "code",
   "execution_count": 0,
   "metadata": {
    "application/vnd.databricks.v1+cell": {
     "cellMetadata": {
      "byteLimit": 2048000,
      "rowLimit": 10000
     },
     "inputWidgets": {},
     "nuid": "156a9bc5-ea87-4f4e-ab06-fac952c6cd43",
     "showTitle": false,
     "title": ""
    }
   },
   "outputs": [
    {
     "output_type": "stream",
     "name": "stdout",
     "output_type": "stream",
     "text": [
      "+---------+-----------------+-------------------+-------------+---------------------------+------+\n|   tconst|total_appearances|      avg_page_rank|avg_outdegree|avg_distance_to_kevin_bacon|rating|\n+---------+-----------------+-------------------+-------------+---------------------------+------+\n|tt0040483|                2|  1.000000000000004|          1.0|                       20.0|   4.8|\n|tt0040695|               20| 2.0699210686705705|         12.0|                        3.0|   7.1|\n|tt0043858|                8| 0.2036990212723558|          2.0|                        4.0|   4.9|\n|tt0044770|               22|0.45060860974103306|          4.5|                        2.5|   6.3|\n|tt0044770|               22|0.45060860974103306|          4.5|                        2.5|   6.3|\n|tt0047313|               76|  4.272723979659575|         98.0|                        2.0|   7.3|\n|tt0049309|               92| 2.3036259823208445|         40.0|                        3.0|   6.0|\n|tt0049309|               92| 2.3036259823208445|         40.0|                        3.0|   6.0|\n|tt0049309|               92| 2.3036259823208445|         40.0|                        3.0|   6.0|\n|tt0050651|               39| 2.7712034103094116|         57.0|                        4.0|   5.4|\n|tt0051686|                4| 0.6749397256847971|          2.0|                        5.0|   5.5|\n|tt0052811|               20| 1.1221356847837634|         11.0|                        3.5|   6.9|\n|tt0052811|               20| 1.1221356847837634|         11.0|                        3.5|   6.9|\n|tt0052910|               23|  1.648198902071212|         26.5|                        3.5|   5.0|\n|tt0052910|               23|  1.648198902071212|         26.5|                        3.5|   5.0|\n|tt0053435|               20| 0.9179403565913816|         10.0|                        3.5|   4.8|\n|tt0053435|               20| 0.9179403565913816|         10.0|                        3.5|   4.8|\n|tt0054152|                9| 0.6762775612241312|          6.0|                        3.0|   7.2|\n|tt0054289|               30| 0.8957189691134041|          9.0|                        2.0|   4.8|\n|tt0054446|               39|  1.406750493695378|         21.5|                        2.5|   5.9|\n+---------+-----------------+-------------------+-------------+---------------------------+------+\nonly showing top 20 rows\n\n"
     ]
    }
   ],
   "source": [
    "# A reminder of how the train data looks like \n",
    "train_data.show()"
   ]
  },
  {
   "cell_type": "code",
   "execution_count": 0,
   "metadata": {
    "application/vnd.databricks.v1+cell": {
     "cellMetadata": {
      "byteLimit": 2048000,
      "rowLimit": 10000
     },
     "inputWidgets": {},
     "nuid": "7dbf8caa-8b41-4d8c-9f7b-f0f1c9282c5f",
     "showTitle": false,
     "title": ""
    }
   },
   "outputs": [
    {
     "output_type": "stream",
     "name": "stdout",
     "output_type": "stream",
     "text": [
      "+---------+-----------------+------------------+-------------+---------------------------+------+-----+------+---------+------+-----+--------+------+-------+-------+-------+\n|   tconst|total_appearances|     avg_page_rank|avg_outdegree|avg_distance_to_kevin_bacon|rating|Drama|Action|Adventure|Comedy|Crime|Thriller|Sci-Fi|Romance|Mystery|Fantasy|\n+---------+-----------------+------------------+-------------+---------------------------+------+-----+------+---------+------+-----+--------+------+-------+-------+-------+\n|tt0020652|                5|0.6839284375000029|          1.0|                       20.0|   4.9|    0|     0|        0|     0|    0|       0|     0|      0|      0|      0|\n|tt0026264|               22| 1.000000000000004|          1.0|                       20.0|   6.6|    1|     0|        0|     0|    0|       0|     0|      1|      0|      0|\n|tt0026264|               22| 1.000000000000004|          1.0|                       20.0|   6.6|    1|     0|        0|     0|    0|       0|     0|      1|      0|      0|\n|tt0027230|               21| 1.000000000000004|          1.0|                       20.0|   5.2|    0|     0|        0|     0|    0|       0|     0|      0|      0|      0|\n|tt0034520|                2| 1.000000000000004|          1.0|                       20.0|   6.1|    0|     0|        0|     0|    0|       0|     0|      0|      0|      0|\n|tt0034878|                2| 1.000000000000004|          2.0|                       20.0|   5.2|    1|     1|        0|     0|    1|       0|     0|      0|      0|      0|\n|tt0036049|               16|1.3160715625000057|          2.0|                       20.0|   6.5|    0|     0|        0|     1|    0|       0|     0|      0|      0|      0|\n|tt0036606|               34|1.3262397318985362|        36.75|                       2.25|   6.4|    1|     0|        0|     0|    0|       0|     0|      0|      0|      0|\n|tt0036606|               34|1.3262397318985362|        36.75|                       2.25|   6.4|    1|     0|        0|     0|    0|       0|     0|      0|      0|      0|\n|tt0036606|               34|1.3262397318985362|        36.75|                       2.25|   6.4|    1|     0|        0|     0|    0|       0|     0|      0|      0|      0|\n|tt0036606|               34|1.3262397318985362|        36.75|                       2.25|   6.4|    1|     0|        0|     0|    0|       0|     0|      0|      0|      0|\n|tt0036606|               34|1.3262397318985362|        36.75|                       2.25|   6.4|    1|     0|        0|     0|    0|       0|     0|      0|      0|      0|\n|tt0036606|               34|1.3262397318985362|        36.75|                       2.25|   6.4|    1|     0|        0|     0|    0|       0|     0|      0|      0|      0|\n|tt0036606|               34|1.3262397318985362|        36.75|                       2.25|   6.4|    1|     0|        0|     0|    0|       0|     0|      0|      0|      0|\n|tt0036606|               34|1.3262397318985362|        36.75|                       2.25|   6.4|    1|     0|        0|     0|    0|       0|     0|      0|      0|      0|\n|tt0036668|               34|0.6434188879647486|          5.0|                        3.0|   7.1|    1|     0|        0|     1|    0|       0|     0|      0|      0|      0|\n|tt0037124|                4|0.2294385867387593|          1.0|                        4.0|   6.1|    1|     0|        0|     0|    0|       0|     0|      0|      0|      0|\n|tt0037259|                6|0.4697479466309017|          4.0|                        4.0|   6.1|    0|     0|        0|     0|    0|       0|     0|      0|      0|      0|\n|tt0037536|                5|0.5086168917418515|          4.0|                        4.0|   7.2|    0|     0|        0|     0|    0|       0|     0|      0|      0|      0|\n|tt0038125|               22| 1.018852862652675|          7.0|                        3.5|   5.4|    1|     0|        0|     0|    0|       1|     0|      0|      0|      0|\n+---------+-----------------+------------------+-------------+---------------------------+------+-----+------+---------+------+-----+--------+------+-------+-------+-------+\nonly showing top 20 rows\n\n"
     ]
    }
   ],
   "source": [
    "# A reminder of how the test data with dummies looks like\n",
    "test_data_with_dummies.show()"
   ]
  },
  {
   "cell_type": "code",
   "execution_count": 0,
   "metadata": {
    "application/vnd.databricks.v1+cell": {
     "cellMetadata": {
      "byteLimit": 2048000,
      "rowLimit": 10000
     },
     "inputWidgets": {},
     "nuid": "6e58d80c-f78a-4585-ad37-f7bddf55dcf5",
     "showTitle": false,
     "title": ""
    }
   },
   "outputs": [
    {
     "output_type": "stream",
     "name": "stdout",
     "output_type": "stream",
     "text": [
      "+---------+-----------------+-------------------+-------------+---------------------------+------+\n|   tconst|total_appearances|      avg_page_rank|avg_outdegree|avg_distance_to_kevin_bacon|rating|\n+---------+-----------------+-------------------+-------------+---------------------------+------+\n|tt0020652|                5| 0.6839284375000029|          1.0|                       20.0|   4.9|\n|tt0026264|               22|  1.000000000000004|          1.0|                       20.0|   6.6|\n|tt0027230|               21|  1.000000000000004|          1.0|                       20.0|   5.2|\n|tt0034520|                2|  1.000000000000004|          1.0|                       20.0|   6.1|\n|tt0034878|                2|  1.000000000000004|          2.0|                       20.0|   5.2|\n|tt0036049|               16| 1.3160715625000057|          2.0|                       20.0|   6.5|\n|tt0036606|               34| 1.3262397318985362|        36.75|                       2.25|   6.4|\n|tt0036606|               34| 1.3262397318985362|        36.75|                       2.25|   6.4|\n|tt0036668|               34| 0.6434188879647486|          5.0|                        3.0|   7.1|\n|tt0037124|                4| 0.2294385867387593|          1.0|                        4.0|   6.1|\n|tt0037259|                6| 0.4697479466309017|          4.0|                        4.0|   6.1|\n|tt0037536|                5| 0.5086168917418515|          4.0|                        4.0|   7.2|\n|tt0038125|               22|  1.018852862652675|          7.0|                        3.5|   5.4|\n|tt0038928|               46| 3.7246169971753096|         79.0|                        2.0|   5.9|\n|tt0039052|               10|  1.036419033568573|          8.0|                        3.0|   6.4|\n|tt0039292|               11| 1.2169720145568321|          4.0|                        5.5|   5.7|\n|tt0039752|                4|  1.000000000000004|          1.0|                       20.0|   7.1|\n|tt0039752|                4|  1.000000000000004|          1.0|                       20.0|   7.1|\n|tt0039850|               30| 1.3793467908200485|         12.0|                        3.5|   6.7|\n|tt0039915|                3|0.19775531362053508|          1.0|                        5.0|   6.3|\n+---------+-----------------+-------------------+-------------+---------------------------+------+\nonly showing top 20 rows\n\n"
     ]
    }
   ],
   "source": [
    "# A reminder of how the test data looks like\n",
    "test_data.show()"
   ]
  },
  {
   "cell_type": "markdown",
   "metadata": {
    "application/vnd.databricks.v1+cell": {
     "cellMetadata": {},
     "inputWidgets": {},
     "nuid": "4634822e-b2c1-4f58-8cf6-e7f60843c153",
     "showTitle": false,
     "title": ""
    }
   },
   "source": [
    "**Note**:\n",
    "\n",
    "To solve this question, firstly we aimed to compare the performance of Decision Tree and Random Forest models on predicting movie ratings using both continuous features and a combination of continuous and dummy variables. The models would be trained and evaluated using cross-validation to ensure robust performance metrics. Unfortunately, due to computational constraints and time limitations, we were unable to wait for the results to complete the evaluation and determine the best performing model for predicting the rating of the 1997 movie Titanic. \n",
    "\n",
    "To overcome these problems, we decided to train a Decision Tree model and fine-tune it using Cross-Validation, only using the dataset without the dummy variables (we also tried with the continuous and dummy variables but the time waiting was unfeasible)."
   ]
  },
  {
   "cell_type": "code",
   "execution_count": 0,
   "metadata": {
    "application/vnd.databricks.v1+cell": {
     "cellMetadata": {},
     "inputWidgets": {},
     "nuid": "3edd8cbd-b9d4-407e-a522-47b72e0089d6",
     "showTitle": false,
     "title": ""
    }
   },
   "outputs": [],
   "source": [
    "# Define feature columns\n",
    "continuous_features = [\"total_appearances\", \"avg_page_rank\", \"avg_outdegree\", \"avg_distance_to_kevin_bacon\"]\n",
    "\n",
    "# Assemble continuous features\n",
    "assembler_continuous = VectorAssembler(inputCols=continuous_features, outputCol=\"features\")\n",
    "\n",
    "# Prepare Decision Tree models\n",
    "dt = DecisionTreeRegressor(featuresCol=\"features\", labelCol=\"rating\")\n",
    "\n",
    "# Define pipelines for the Decision Tree models\n",
    "pipeline_dt_cont = Pipeline(stages=[assembler_continuous, dt])\n",
    "\n",
    "# Define parameter grids for hyperparameter tuning on the Decision Tree models\n",
    "paramGrid_dt = ParamGridBuilder() \\\n",
    "    .addGrid(dt.maxDepth, [2, 3]).build()\n",
    "\n",
    "# Define cross validators with 2 folds, due to time limitations and computational contraints (initially 5 folds were attempted) \n",
    "crossval_dt_cont = CrossValidator(estimator=pipeline_dt_cont,\n",
    "                                  estimatorParamMaps=paramGrid_dt,\n",
    "                                  evaluator=RegressionEvaluator(labelCol=\"rating\", predictionCol=\"prediction\", metricName=\"rmse\"),\n",
    "                                  numFolds=2)\n",
    "\n",
    "print(\"Starting model training for Decision Tree with continuous features...\")\n",
    "\n",
    "# Train models using cross-validation\n",
    "cv_model_dt_cont = crossval_dt_cont.fit(train_data)\n",
    "\n",
    "print(\"Model training completed for Decision Tree with continuous features.\")\n",
    "print(\"Starting model evaluation...\")\n",
    "\n",
    "# Evaluate the best model, coming out of the hyperparameter tunning\n",
    "predictions_dt_cont = cv_model_dt_cont.transform(test_data)\n",
    "\n",
    "evaluator = RegressionEvaluator(labelCol=\"rating\", predictionCol=\"prediction\", metricName=\"rmse\")\n",
    "rmse_dt_cont = evaluator.evaluate(predictions_dt_cont)"
   ]
  },
  {
   "cell_type": "code",
   "execution_count": 0,
   "metadata": {
    "application/vnd.databricks.v1+cell": {
     "cellMetadata": {
      "byteLimit": 2048000,
      "rowLimit": 10000
     },
     "inputWidgets": {},
     "nuid": "71d34cc7-fdec-4dd1-bf4d-a8f147cba188",
     "showTitle": false,
     "title": ""
    }
   },
   "outputs": [
    {
     "output_type": "stream",
     "name": "stdout",
     "output_type": "stream",
     "text": [
      "RMSE for Decision Tree (continuous features): 1.2286817904146263\n"
     ]
    }
   ],
   "source": [
    "print(f\"RMSE for Decision Tree (continuous features): {rmse_dt_cont}\")"
   ]
  },
  {
   "cell_type": "code",
   "execution_count": 0,
   "metadata": {
    "application/vnd.databricks.v1+cell": {
     "cellMetadata": {
      "byteLimit": 2048000,
      "rowLimit": 10000
     },
     "inputWidgets": {},
     "nuid": "0425f17e-0631-4128-bc97-fef853ea402a",
     "showTitle": false,
     "title": ""
    }
   },
   "outputs": [
    {
     "output_type": "stream",
     "name": "stdout",
     "output_type": "stream",
     "text": [
      "Predicted rating for Titanic (1997) with the best model: 6.187493231778023\n"
     ]
    }
   ],
   "source": [
    "# Define the Titanic features\n",
    "titanic_features_dict = {\n",
    "    \"total_appearances\": sum_appearances,  \n",
    "    \"avg_page_rank\": avg_page_rank,    \n",
    "    \"avg_outdegree\": avg_outdegree,     \n",
    "    \"avg_distance_to_kevin_bacon\": avg_distance_to_kevin_bacon,  \n",
    "}\n",
    "\n",
    "# Create a DataFrame with the feature values for \"Titanic\"\n",
    "titanic_df = spark.createDataFrame([Row(**titanic_features_dict)])\n",
    "\n",
    "# Transform the Titanic features using the best model pipeline\n",
    "titanic_transformed = cv_model_dt_cont.transform(titanic_df)\n",
    "\n",
    "# Collect and print the prediction\n",
    "titanic_prediction = titanic_transformed.select(\"prediction\").collect()[0][\"prediction\"]\n",
    "print(f\"Predicted rating for Titanic (1997) with the best model: {titanic_prediction}\")"
   ]
  }
 ],
 "metadata": {
  "application/vnd.databricks.v1+notebook": {
   "dashboards": [],
   "environmentMetadata": null,
   "language": "python",
   "notebookMetadata": {
    "mostRecentlyExecutedCommandWithImplicitDF": {
     "commandId": 3909845227229475,
     "dataframes": [
      "_sqldf"
     ]
    },
    "pythonIndentUnit": 2
   },
   "notebookName": "20230372_20230520_submission",
   "widgets": {}
  },
  "kernelspec": {
   "display_name": "",
   "name": ""
  },
  "language_info": {
   "name": ""
  },
  "name": "Exam BDA AA 2020",
  "notebookId": 3446163725308994
 },
 "nbformat": 4,
 "nbformat_minor": 0
}
